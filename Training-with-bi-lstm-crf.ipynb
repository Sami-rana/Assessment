{
 "cells": [
  {
   "cell_type": "markdown",
   "metadata": {},
   "source": [
    "## --\r\n",
    "\r\n",
    "🚀 **Model Training with Bi-LSTM + CRF for Sequence Labeling** 🚀\r\n",
    "\r\n",
    "I recently completed training a **Bi-LSTM (Bidirectional Long Short-Term Memory) + CRF (Conditional Random Fields)** model for sequence labeling tasks. This powerful combination enhances the model's ability to capture long-term dependencies and complex relationships in data sequences, such as named entity recognition (NER) and part-of-speech (POS) tagging.\r\n",
    "\r\n",
    "In this project, the Bi-LSTM network effectively captures contextual information in both forward and backward directions, while the CRF layer ensures optimal label predictions by considering the entire sequence structure.\r\n",
    "\r\n",
    "Key takeaways:\r\n",
    "- Leveraged **Bi-LSTM** for sequential data processing.\r\n",
    "- Implemented **CRF** to refine and optimize output label sequences.\r\n",
    "- Achieved impressive accuracy in handling complex sequence-based tasks.\r\n",
    "\r\n",
    "This project adds to my expertise in NLP, deep learning, and advanced model training techniques. Looking forward to sharing more results a## nd insights!\r\n",
    "\r\n",
    "#NLP #DeepLearning #MachineLearning #BiLSTM #CRF  share karna chahein."
   ]
  },
  {
   "cell_type": "code",
   "execution_count": 54,
   "metadata": {
    "_cell_guid": "2de3f813-39b2-40ec-8352-0779b76e0355",
    "_uuid": "4412e9df-6026-41bd-ba1a-536d0d8233b3",
    "collapsed": false,
    "execution": {
     "iopub.execute_input": "2023-08-30T09:44:15.081489Z",
     "iopub.status.busy": "2023-08-30T09:44:15.081153Z",
     "iopub.status.idle": "2023-08-30T09:44:15.133541Z",
     "shell.execute_reply": "2023-08-30T09:44:15.132708Z",
     "shell.execute_reply.started": "2023-08-30T09:44:15.081429Z"
    },
    "jupyter": {
     "outputs_hidden": false
    }
   },
   "outputs": [
    {
     "name": "stdout",
     "output_type": "stream",
     "text": [
      "/kaggle/input/ner-poc-dataset-total-amount-cvr/datasetvalid2.csv\n",
      "/kaggle/input/ner-only-product-dataset-400/dataset-only-product.csv\n",
      "/kaggle/input/12-multi-product-712/multi_page.csv\n",
      "/kaggle/input/01-bccatering-productname-20-july/bc_catering.csv\n",
      "/kaggle/input/single-product-dataset-10/single_product_dataset.csv\n",
      "/kaggle/input/inco-03-product-name-26-july/inco_1181.csv\n",
      "/kaggle/input/dataset-single-productcsv/dataset_single_product.csv\n",
      "/kaggle/input/ner-project-v2/Data_test_v2.xlsx\n",
      "/kaggle/input/ner-project-v2/Data_dev.xlsx\n",
      "/kaggle/input/ner-project-v2/Data_dev_v2.xlsx\n",
      "/kaggle/input/ner-project-v2/Data_train.xlsx\n",
      "/kaggle/input/ner-project-v2/Data_test.xlsx\n",
      "/kaggle/input/ner-project-v2/Data_train_v2.xlsx\n",
      "/kaggle/input/02-carlsberg-all-classes/carlsberg_dataset_final.csv\n",
      "/kaggle/input/06-inco-product-1382-23-aug/1382_inco_dataset.csv\n",
      "/kaggle/input/inco-1400/1400_inco_split_space.csv\n",
      "/kaggle/input/04-inco-product-name-11-aug/1400_inco_updated_dataset.csv\n",
      "/kaggle/input/15-both-pages-ner/merged_file.csv\n",
      "/kaggle/input/ner-poc-dataset-992/dataset.csv\n",
      "/kaggle/input/04-carlsberg-all-classes/all_classes_dataset.csv\n",
      "/kaggle/input/03-carlsberg-all-classes/carlsberg_dataset_updated.csv\n",
      "/kaggle/input/12-single-page-1292/single_page.csv\n",
      "/kaggle/input/16-both-pages-only-product-name-ner/Beskrivelse.csv\n",
      "/kaggle/input/05-inco-product-name-21-aug/1400_inco_updated_dataset.csv\n",
      "/kaggle/input/kaggleinput17-both-pages-only-product-name-ner/Beskrivelse.csv\n",
      "/kaggle/input/ner-project/Data_dev.xlsx\n",
      "/kaggle/input/ner-project/Data_train.xlsx\n",
      "/kaggle/input/ner-project/Data_test.xlsx\n",
      "/kaggle/input/11-multi-product-710/dataset.csv\n",
      "/kaggle/input/ner-all-field-dataset-400/dataset-404.csv\n",
      "/kaggle/input/13-single-page-1290/13-single-page\n",
      "/kaggle/input/03-bccatering-product-name-31-july/BC_Catering_dataset.csv\n",
      "/kaggle/input/inco-03-product-name-21-july/updated_inco_dataset.csv\n",
      "/kaggle/input/04-bccatering-product-name-8-aug/dataset_bccatering.csv\n",
      "/kaggle/input/single-product-1290/dataset.csv\n",
      "/kaggle/input/04-carlsberg-only-products/products_dataset.csv\n",
      "/kaggle/input/ner-all-field-dataset/dataset-all.csv\n",
      "/kaggle/input/04-carlsberg-six-classes/six_classes_dataset.csv\n",
      "/kaggle/input/02-bccatering-26-new-31-july/dataset.csv\n",
      "/kaggle/input/07-inco-product-name-25-aug/Data_set_inco_vendor_1382.csv\n",
      "/kaggle/input/carlsberg-485-120623/carlsberg_dataset.csv\n",
      "/kaggle/input/14-multi-page-711/multi_page_invoices.csv\n",
      "/kaggle/input/02-inco-product-name-18-july/inco_dataset.csv\n",
      "/kaggle/input/ner-all-field-200/dataset-200.csv\n",
      "/kaggle/input/01-inco-product-name-14-july/inco_dataset.csv\n"
     ]
    }
   ],
   "source": [
    "import numpy as np # linear algebra\n",
    "import pandas as pd # data processing, CSV file I/O (e.g. pd.read_csv)\n",
    "\n",
    "\n",
    "import os\n",
    "for dirname, _, filenames in os.walk('/kaggle/input'):\n",
    "    for filename in filenames:\n",
    "        print(os.path.join(dirname, filename))"
   ]
  },
  {
   "cell_type": "code",
   "execution_count": 55,
   "metadata": {
    "_cell_guid": "170ac9fa-6691-4097-b6bc-0eeedb4ef51b",
    "_uuid": "ba048e44-d449-43b7-9f4f-3fe7098f9b43",
    "collapsed": false,
    "execution": {
     "iopub.execute_input": "2023-08-30T09:44:15.136696Z",
     "iopub.status.busy": "2023-08-30T09:44:15.136378Z",
     "iopub.status.idle": "2023-08-30T09:44:15.141931Z",
     "shell.execute_reply": "2023-08-30T09:44:15.141044Z",
     "shell.execute_reply.started": "2023-08-30T09:44:15.136641Z"
    },
    "jupyter": {
     "outputs_hidden": false
    }
   },
   "outputs": [],
   "source": [
    "import pandas as pd\n",
    "import numpy as np\n",
    "import re\n",
    "import string\n",
    "import joblib\n",
    "import seaborn as sns\n",
    "import matplotlib.pyplot as plt"
   ]
  },
  {
   "cell_type": "markdown",
   "metadata": {
    "_cell_guid": "713d8d58-07e6-420f-8787-cb7f55271580",
    "_uuid": "36322697-faa1-4437-a7ab-546c9bfdde4c"
   },
   "source": [
    "### 2. Data pre-processing"
   ]
  },
  {
   "cell_type": "code",
   "execution_count": 56,
   "metadata": {
    "_cell_guid": "b2fcb8c2-19e1-445e-a948-7d2a27987277",
    "_uuid": "62558572-d7a9-4162-b9b7-54cddecc8430",
    "collapsed": false,
    "execution": {
     "iopub.execute_input": "2023-08-30T09:44:15.143662Z",
     "iopub.status.busy": "2023-08-30T09:44:15.143375Z",
     "iopub.status.idle": "2023-08-30T09:44:15.406372Z",
     "shell.execute_reply": "2023-08-30T09:44:15.405180Z",
     "shell.execute_reply.started": "2023-08-30T09:44:15.143615Z"
    },
    "jupyter": {
     "outputs_hidden": false
    }
   },
   "outputs": [],
   "source": [
    "data = pd.read_csv(\"/kaggle/input/inco-1400/1400_inco_split_space.csv\")"
   ]
  },
  {
   "cell_type": "code",
   "execution_count": 57,
   "metadata": {
    "_cell_guid": "efb7c35c-5821-4623-a8e4-f04fab4ce693",
    "_uuid": "a2d1cddd-e9fb-4fbc-8d0e-703361b9b322",
    "collapsed": false,
    "execution": {
     "iopub.execute_input": "2023-08-30T09:44:15.408777Z",
     "iopub.status.busy": "2023-08-30T09:44:15.408261Z",
     "iopub.status.idle": "2023-08-30T09:44:15.413204Z",
     "shell.execute_reply": "2023-08-30T09:44:15.412372Z",
     "shell.execute_reply.started": "2023-08-30T09:44:15.408531Z"
    },
    "jupyter": {
     "outputs_hidden": false
    }
   },
   "outputs": [],
   "source": [
    "# data = data.drop(\"Unnamed: 3\",axis=1)"
   ]
  },
  {
   "cell_type": "code",
   "execution_count": 58,
   "metadata": {
    "_cell_guid": "7944be1c-088f-4fcf-8291-b7adbdc13ac8",
    "_uuid": "5344518b-4415-4de8-800b-bfb5f9d0c9f0",
    "collapsed": false,
    "execution": {
     "iopub.execute_input": "2023-08-30T09:44:15.418103Z",
     "iopub.status.busy": "2023-08-30T09:44:15.417612Z",
     "iopub.status.idle": "2023-08-30T09:44:15.440723Z",
     "shell.execute_reply": "2023-08-30T09:44:15.439674Z",
     "shell.execute_reply.started": "2023-08-30T09:44:15.417874Z"
    },
    "jupyter": {
     "outputs_hidden": false
    }
   },
   "outputs": [
    {
     "data": {
      "text/html": [
       "<div>\n",
       "<style scoped>\n",
       "    .dataframe tbody tr th:only-of-type {\n",
       "        vertical-align: middle;\n",
       "    }\n",
       "\n",
       "    .dataframe tbody tr th {\n",
       "        vertical-align: top;\n",
       "    }\n",
       "\n",
       "    .dataframe thead th {\n",
       "        text-align: right;\n",
       "    }\n",
       "</style>\n",
       "<table border=\"1\" class=\"dataframe\">\n",
       "  <thead>\n",
       "    <tr style=\"text-align: right;\">\n",
       "      <th></th>\n",
       "      <th>Filename</th>\n",
       "      <th>Tokens</th>\n",
       "      <th>Tags</th>\n",
       "    </tr>\n",
       "  </thead>\n",
       "  <tbody>\n",
       "    <tr>\n",
       "      <th>0</th>\n",
       "      <td>inv-LSXAP-1669877506.pdf</td>\n",
       "      <td>Faktura</td>\n",
       "      <td>O</td>\n",
       "    </tr>\n",
       "    <tr>\n",
       "      <th>1</th>\n",
       "      <td>inv-LSXAP-1669877506.pdf</td>\n",
       "      <td>154551</td>\n",
       "      <td>O</td>\n",
       "    </tr>\n",
       "    <tr>\n",
       "      <th>2</th>\n",
       "      <td>inv-LSXAP-1669877506.pdf</td>\n",
       "      <td>Massala</td>\n",
       "      <td>O</td>\n",
       "    </tr>\n",
       "    <tr>\n",
       "      <th>3</th>\n",
       "      <td>inv-LSXAP-1669877506.pdf</td>\n",
       "      <td>og</td>\n",
       "      <td>O</td>\n",
       "    </tr>\n",
       "    <tr>\n",
       "      <th>4</th>\n",
       "      <td>inv-LSXAP-1669877506.pdf</td>\n",
       "      <td>Hummus</td>\n",
       "      <td>O</td>\n",
       "    </tr>\n",
       "  </tbody>\n",
       "</table>\n",
       "</div>"
      ],
      "text/plain": [
       "                   Filename   Tokens Tags\n",
       "0  inv-LSXAP-1669877506.pdf  Faktura    O\n",
       "1  inv-LSXAP-1669877506.pdf   154551    O\n",
       "2  inv-LSXAP-1669877506.pdf  Massala    O\n",
       "3  inv-LSXAP-1669877506.pdf       og    O\n",
       "4  inv-LSXAP-1669877506.pdf   Hummus    O"
      ]
     },
     "execution_count": 58,
     "metadata": {},
     "output_type": "execute_result"
    }
   ],
   "source": [
    "data.head()"
   ]
  },
  {
   "cell_type": "code",
   "execution_count": 59,
   "metadata": {
    "_cell_guid": "6592e120-25ed-4201-8ce7-b5c63a47b81b",
    "_uuid": "0ce6b21f-f779-4a51-8448-0485a168b033",
    "collapsed": false,
    "execution": {
     "iopub.execute_input": "2023-08-30T09:44:15.444408Z",
     "iopub.status.busy": "2023-08-30T09:44:15.443972Z",
     "iopub.status.idle": "2023-08-30T09:44:15.448670Z",
     "shell.execute_reply": "2023-08-30T09:44:15.447362Z",
     "shell.execute_reply.started": "2023-08-30T09:44:15.444228Z"
    },
    "jupyter": {
     "outputs_hidden": false
    }
   },
   "outputs": [],
   "source": [
    "# len(set(data['Filename']))"
   ]
  },
  {
   "cell_type": "code",
   "execution_count": 60,
   "metadata": {
    "_cell_guid": "0e6eb94c-7e2f-486b-af7f-f4f9af849f15",
    "_kg_hide-input": true,
    "_uuid": "e90c262b-ecdf-428d-8430-9e31dd021c0d",
    "collapsed": false,
    "execution": {
     "iopub.execute_input": "2023-08-30T09:44:15.451058Z",
     "iopub.status.busy": "2023-08-30T09:44:15.450434Z",
     "iopub.status.idle": "2023-08-30T09:44:15.460334Z",
     "shell.execute_reply": "2023-08-30T09:44:15.459391Z",
     "shell.execute_reply.started": "2023-08-30T09:44:15.450734Z"
    },
    "jupyter": {
     "outputs_hidden": false
    }
   },
   "outputs": [],
   "source": [
    "# data_train.rename(columns = {'Tag':'Tag_raw'}, inplace = True)\n",
    "# data_train.rename(columns = {'Tag_IOB': 'Tag'}, inplace = True)\n",
    "# data_dev.rename(columns = {'Tag':'Tag_raw'}, inplace = True)\n",
    "# data_dev.rename(columns = {'Tag_IOB': 'Tag'}, inplace = True)\n",
    "# data_test.rename(columns = {'Tag':'Tag_raw'}, inplace = True)\n",
    "# data_test.rename(columns = {'Tag_IOB': 'Tag'}, inplace = True)\n",
    "# data_train['Tag'] = data_train['Tag'].fillna('O')\n",
    "# data_dev['Tag'] = data_dev['Tag'].fillna('O')\n",
    "# data_test['Tag'] = data_test['Tag'].fillna('O')"
   ]
  },
  {
   "cell_type": "code",
   "execution_count": 61,
   "metadata": {
    "_cell_guid": "da43f24b-9073-424b-b1fe-ab780ea8b429",
    "_uuid": "453626a8-32ab-4185-a0fe-d9744656c5a6",
    "collapsed": false,
    "execution": {
     "iopub.execute_input": "2023-08-30T09:44:15.462326Z",
     "iopub.status.busy": "2023-08-30T09:44:15.461719Z",
     "iopub.status.idle": "2023-08-30T09:44:15.484655Z",
     "shell.execute_reply": "2023-08-30T09:44:15.483705Z",
     "shell.execute_reply.started": "2023-08-30T09:44:15.462266Z"
    },
    "jupyter": {
     "outputs_hidden": false
    }
   },
   "outputs": [],
   "source": [
    "data.rename(columns = {'Tokens':'token'}, inplace = True)"
   ]
  },
  {
   "cell_type": "code",
   "execution_count": 62,
   "metadata": {
    "_cell_guid": "0cc0d810-18e2-4628-ab8a-b46f1b528827",
    "_uuid": "c209e719-1235-4b26-ba01-e0188597077e",
    "collapsed": false,
    "execution": {
     "iopub.execute_input": "2023-08-30T09:44:15.487047Z",
     "iopub.status.busy": "2023-08-30T09:44:15.486465Z",
     "iopub.status.idle": "2023-08-30T09:44:15.503633Z",
     "shell.execute_reply": "2023-08-30T09:44:15.502710Z",
     "shell.execute_reply.started": "2023-08-30T09:44:15.486992Z"
    },
    "jupyter": {
     "outputs_hidden": false
    }
   },
   "outputs": [],
   "source": [
    "data.rename(columns = {'Tags':'tag'}, inplace = True)"
   ]
  },
  {
   "cell_type": "code",
   "execution_count": 63,
   "metadata": {
    "_cell_guid": "b84e5302-8727-400b-acf1-b6f80f6fd679",
    "_uuid": "9590b847-26ab-4c0c-9684-72b4344f4305",
    "collapsed": false,
    "execution": {
     "iopub.execute_input": "2023-08-30T09:44:15.505880Z",
     "iopub.status.busy": "2023-08-30T09:44:15.505260Z",
     "iopub.status.idle": "2023-08-30T09:44:15.521231Z",
     "shell.execute_reply": "2023-08-30T09:44:15.520291Z",
     "shell.execute_reply.started": "2023-08-30T09:44:15.505825Z"
    },
    "jupyter": {
     "outputs_hidden": false
    }
   },
   "outputs": [],
   "source": [
    "data.rename(columns = {'Filename':'text'}, inplace = True)"
   ]
  },
  {
   "cell_type": "code",
   "execution_count": 64,
   "metadata": {
    "_cell_guid": "b0514cd2-ba40-489f-add8-98f5ac095e4e",
    "_uuid": "b474bc07-ede4-4940-9557-93f874456ec8",
    "collapsed": false,
    "execution": {
     "iopub.execute_input": "2023-08-30T09:44:15.523255Z",
     "iopub.status.busy": "2023-08-30T09:44:15.522700Z",
     "iopub.status.idle": "2023-08-30T09:44:15.577059Z",
     "shell.execute_reply": "2023-08-30T09:44:15.576214Z",
     "shell.execute_reply.started": "2023-08-30T09:44:15.523204Z"
    },
    "jupyter": {
     "outputs_hidden": false
    }
   },
   "outputs": [],
   "source": [
    "data['tag'] = data['tag'].fillna('O')"
   ]
  },
  {
   "cell_type": "code",
   "execution_count": 65,
   "metadata": {
    "_cell_guid": "07c4cdc4-e0e1-4f2d-b51a-69467f6c661f",
    "_uuid": "4ab91452-b85a-43c2-93a2-c5e1011caa59",
    "collapsed": false,
    "execution": {
     "iopub.execute_input": "2023-08-30T09:44:15.581659Z",
     "iopub.status.busy": "2023-08-30T09:44:15.581406Z",
     "iopub.status.idle": "2023-08-30T09:44:15.636348Z",
     "shell.execute_reply": "2023-08-30T09:44:15.635001Z",
     "shell.execute_reply.started": "2023-08-30T09:44:15.581609Z"
    },
    "jupyter": {
     "outputs_hidden": false
    }
   },
   "outputs": [
    {
     "data": {
      "text/plain": [
       "1400"
      ]
     },
     "execution_count": 65,
     "metadata": {},
     "output_type": "execute_result"
    }
   ],
   "source": [
    "len(set(data['text']))"
   ]
  },
  {
   "cell_type": "code",
   "execution_count": 66,
   "metadata": {
    "_cell_guid": "68c0c88c-7163-47d4-acce-dae365ddd846",
    "_uuid": "2f2642ab-773f-4875-86c6-917444658423",
    "collapsed": false,
    "execution": {
     "iopub.execute_input": "2023-08-30T09:44:15.638683Z",
     "iopub.status.busy": "2023-08-30T09:44:15.637954Z",
     "iopub.status.idle": "2023-08-30T09:44:15.655528Z",
     "shell.execute_reply": "2023-08-30T09:44:15.654856Z",
     "shell.execute_reply.started": "2023-08-30T09:44:15.638625Z"
    },
    "jupyter": {
     "outputs_hidden": false
    }
   },
   "outputs": [
    {
     "data": {
      "text/html": [
       "<div>\n",
       "<style scoped>\n",
       "    .dataframe tbody tr th:only-of-type {\n",
       "        vertical-align: middle;\n",
       "    }\n",
       "\n",
       "    .dataframe tbody tr th {\n",
       "        vertical-align: top;\n",
       "    }\n",
       "\n",
       "    .dataframe thead th {\n",
       "        text-align: right;\n",
       "    }\n",
       "</style>\n",
       "<table border=\"1\" class=\"dataframe\">\n",
       "  <thead>\n",
       "    <tr style=\"text-align: right;\">\n",
       "      <th></th>\n",
       "      <th>text</th>\n",
       "      <th>token</th>\n",
       "      <th>tag</th>\n",
       "    </tr>\n",
       "  </thead>\n",
       "  <tbody>\n",
       "    <tr>\n",
       "      <th>0</th>\n",
       "      <td>inv-LSXAP-1669877506.pdf</td>\n",
       "      <td>Faktura</td>\n",
       "      <td>O</td>\n",
       "    </tr>\n",
       "    <tr>\n",
       "      <th>1</th>\n",
       "      <td>inv-LSXAP-1669877506.pdf</td>\n",
       "      <td>154551</td>\n",
       "      <td>O</td>\n",
       "    </tr>\n",
       "    <tr>\n",
       "      <th>2</th>\n",
       "      <td>inv-LSXAP-1669877506.pdf</td>\n",
       "      <td>Massala</td>\n",
       "      <td>O</td>\n",
       "    </tr>\n",
       "    <tr>\n",
       "      <th>3</th>\n",
       "      <td>inv-LSXAP-1669877506.pdf</td>\n",
       "      <td>og</td>\n",
       "      <td>O</td>\n",
       "    </tr>\n",
       "    <tr>\n",
       "      <th>4</th>\n",
       "      <td>inv-LSXAP-1669877506.pdf</td>\n",
       "      <td>Hummus</td>\n",
       "      <td>O</td>\n",
       "    </tr>\n",
       "  </tbody>\n",
       "</table>\n",
       "</div>"
      ],
      "text/plain": [
       "                       text    token tag\n",
       "0  inv-LSXAP-1669877506.pdf  Faktura   O\n",
       "1  inv-LSXAP-1669877506.pdf   154551   O\n",
       "2  inv-LSXAP-1669877506.pdf  Massala   O\n",
       "3  inv-LSXAP-1669877506.pdf       og   O\n",
       "4  inv-LSXAP-1669877506.pdf   Hummus   O"
      ]
     },
     "execution_count": 66,
     "metadata": {},
     "output_type": "execute_result"
    }
   ],
   "source": [
    "data.head()"
   ]
  },
  {
   "cell_type": "markdown",
   "metadata": {
    "_cell_guid": "789022c9-0bd1-4cc5-a04f-7ccf3698501d",
    "_uuid": "7e6ef1f5-b538-455b-9ef0-19bead9138d4"
   },
   "source": [
    "#### 2.4. Data processing"
   ]
  },
  {
   "cell_type": "code",
   "execution_count": 67,
   "metadata": {
    "_cell_guid": "6208dcef-2000-4432-80a8-e1850fcd1b0f",
    "_uuid": "e609edac-fa5d-4c5c-b2ac-63fb11b68fee",
    "collapsed": false,
    "execution": {
     "iopub.execute_input": "2023-08-30T09:44:15.657411Z",
     "iopub.status.busy": "2023-08-30T09:44:15.656936Z",
     "iopub.status.idle": "2023-08-30T09:44:15.687611Z",
     "shell.execute_reply": "2023-08-30T09:44:15.686517Z",
     "shell.execute_reply.started": "2023-08-30T09:44:15.657193Z"
    },
    "jupyter": {
     "outputs_hidden": false
    }
   },
   "outputs": [
    {
     "data": {
      "text/plain": [
       "21742"
      ]
     },
     "execution_count": 67,
     "metadata": {},
     "output_type": "execute_result"
    }
   ],
   "source": [
    "words = list(set(data[\"token\"].values))\n",
    "words.append(\"ENDPAD\")\n",
    "n_words = len(words); n_words"
   ]
  },
  {
   "cell_type": "code",
   "execution_count": 68,
   "metadata": {
    "_cell_guid": "402b30a3-6af9-45d6-988b-7c65256f4794",
    "_uuid": "9ca7e9e6-717b-4ecb-9ba7-bb746154c24e",
    "collapsed": false,
    "execution": {
     "iopub.execute_input": "2023-08-30T09:44:15.689996Z",
     "iopub.status.busy": "2023-08-30T09:44:15.689328Z",
     "iopub.status.idle": "2023-08-30T09:44:15.713636Z",
     "shell.execute_reply": "2023-08-30T09:44:15.712025Z",
     "shell.execute_reply.started": "2023-08-30T09:44:15.689586Z"
    },
    "jupyter": {
     "outputs_hidden": false
    }
   },
   "outputs": [
    {
     "data": {
      "text/plain": [
       "3"
      ]
     },
     "execution_count": 68,
     "metadata": {},
     "output_type": "execute_result"
    }
   ],
   "source": [
    "tags = list(set(data[\"tag\"].values))\n",
    "n_tags = len(tags); n_tags"
   ]
  },
  {
   "cell_type": "code",
   "execution_count": 69,
   "metadata": {
    "_cell_guid": "5dc02f53-79fd-4e06-9808-db86522db48e",
    "_uuid": "8e9a3250-8481-44bb-be27-cbf3e1f665b4",
    "collapsed": false,
    "execution": {
     "iopub.execute_input": "2023-08-30T09:44:15.715328Z",
     "iopub.status.busy": "2023-08-30T09:44:15.714933Z",
     "iopub.status.idle": "2023-08-30T09:44:15.722724Z",
     "shell.execute_reply": "2023-08-30T09:44:15.721906Z",
     "shell.execute_reply.started": "2023-08-30T09:44:15.715131Z"
    },
    "jupyter": {
     "outputs_hidden": false
    }
   },
   "outputs": [
    {
     "data": {
      "text/plain": [
       "['O', 'I-BESKRIVELSE', 'B-BESKRIVELSE']"
      ]
     },
     "execution_count": 69,
     "metadata": {},
     "output_type": "execute_result"
    }
   ],
   "source": [
    "tags"
   ]
  },
  {
   "cell_type": "code",
   "execution_count": 70,
   "metadata": {
    "_cell_guid": "390a714b-c72b-43b1-8d4a-298f9ae3130c",
    "_uuid": "32c420e9-b232-4106-a0ab-d56718934b1c",
    "collapsed": false,
    "execution": {
     "iopub.execute_input": "2023-08-30T09:44:15.724689Z",
     "iopub.status.busy": "2023-08-30T09:44:15.724097Z",
     "iopub.status.idle": "2023-08-30T09:44:15.730739Z",
     "shell.execute_reply": "2023-08-30T09:44:15.729942Z",
     "shell.execute_reply.started": "2023-08-30T09:44:15.724638Z"
    },
    "jupyter": {
     "outputs_hidden": false
    }
   },
   "outputs": [],
   "source": [
    "# data.loc[:, data.isna().any()]"
   ]
  },
  {
   "cell_type": "code",
   "execution_count": 71,
   "metadata": {
    "_cell_guid": "da702972-11f7-4588-9d48-f368ddfd3418",
    "_uuid": "9bde422c-fa79-41ef-a79f-89e577be5485",
    "collapsed": false,
    "execution": {
     "iopub.execute_input": "2023-08-30T09:44:15.732674Z",
     "iopub.status.busy": "2023-08-30T09:44:15.732117Z",
     "iopub.status.idle": "2023-08-30T09:44:15.744872Z",
     "shell.execute_reply": "2023-08-30T09:44:15.744162Z",
     "shell.execute_reply.started": "2023-08-30T09:44:15.732525Z"
    },
    "jupyter": {
     "outputs_hidden": false
    }
   },
   "outputs": [],
   "source": [
    "## Concat words in a sentence into a list\n",
    "class SentenceGetter(object):\n",
    "    \n",
    "    def __init__(self, data):\n",
    "        self.n_sent = 1\n",
    "        self.data = data\n",
    "        self.empty = False\n",
    "        agg_func = lambda s: [(w, t) for w, t in zip(s[\"token\"].values.tolist(),\n",
    "                                                    #s[\"POS\"].values.tolist(),\n",
    "                                                    s[\"tag\"].values.tolist())]\n",
    "        self.grouped = self.data.groupby(\"text\").apply(agg_func)\n",
    "        self.sentences = [s for s in self.grouped]\n",
    "    \n",
    "    def get_next(self):\n",
    "        try:\n",
    "            s = self.grouped[\"Sentence: {}\".format(self.n_sent)]\n",
    "            self.n_sent += 1\n",
    "            return s\n",
    "        except:\n",
    "            return None"
   ]
  },
  {
   "cell_type": "code",
   "execution_count": 72,
   "metadata": {
    "_cell_guid": "26b26d45-1ed7-4d0b-9e1c-9783f8cd9378",
    "_uuid": "053b0475-4679-4ae9-9106-3c78a75399ee",
    "collapsed": false,
    "execution": {
     "iopub.execute_input": "2023-08-30T09:44:15.746647Z",
     "iopub.status.busy": "2023-08-30T09:44:15.746188Z",
     "iopub.status.idle": "2023-08-30T09:44:16.110177Z",
     "shell.execute_reply": "2023-08-30T09:44:16.109362Z",
     "shell.execute_reply.started": "2023-08-30T09:44:15.746592Z"
    },
    "jupyter": {
     "outputs_hidden": false
    }
   },
   "outputs": [],
   "source": [
    "getter_data = SentenceGetter(data)"
   ]
  },
  {
   "cell_type": "code",
   "execution_count": 73,
   "metadata": {
    "_cell_guid": "5a5ba4ae-f634-414a-9afa-349048cda289",
    "_uuid": "82ff90db-d03a-4f39-b108-2cf8578e6023",
    "collapsed": false,
    "execution": {
     "iopub.execute_input": "2023-08-30T09:44:16.112606Z",
     "iopub.status.busy": "2023-08-30T09:44:16.112125Z",
     "iopub.status.idle": "2023-08-30T09:44:16.120012Z",
     "shell.execute_reply": "2023-08-30T09:44:16.119020Z",
     "shell.execute_reply.started": "2023-08-30T09:44:16.112554Z"
    },
    "jupyter": {
     "outputs_hidden": false
    }
   },
   "outputs": [
    {
     "data": {
      "text/plain": [
       "<__main__.SentenceGetter at 0x78d080253a58>"
      ]
     },
     "execution_count": 73,
     "metadata": {},
     "output_type": "execute_result"
    }
   ],
   "source": [
    "getter_data"
   ]
  },
  {
   "cell_type": "code",
   "execution_count": 74,
   "metadata": {
    "_cell_guid": "60f5ac05-fe01-478c-bd65-28ae4ac27a70",
    "_uuid": "c5139653-8ba8-4e1f-bd3f-062bf7c96928",
    "collapsed": false,
    "execution": {
     "iopub.execute_input": "2023-08-30T09:44:16.122367Z",
     "iopub.status.busy": "2023-08-30T09:44:16.121727Z",
     "iopub.status.idle": "2023-08-30T09:44:16.130036Z",
     "shell.execute_reply": "2023-08-30T09:44:16.129178Z",
     "shell.execute_reply.started": "2023-08-30T09:44:16.122312Z"
    },
    "jupyter": {
     "outputs_hidden": false
    }
   },
   "outputs": [],
   "source": [
    "sent_train = getter_data.get_next()\n",
    "# sent_dev = getter_dev.get_next()"
   ]
  },
  {
   "cell_type": "code",
   "execution_count": 75,
   "metadata": {
    "_cell_guid": "d8e1e447-947c-4731-a920-94c139a13f16",
    "_uuid": "6348f1f1-2593-45e3-942e-d07b9cc7444a",
    "collapsed": false,
    "execution": {
     "iopub.execute_input": "2023-08-30T09:44:16.132256Z",
     "iopub.status.busy": "2023-08-30T09:44:16.131600Z",
     "iopub.status.idle": "2023-08-30T09:44:16.141565Z",
     "shell.execute_reply": "2023-08-30T09:44:16.140578Z",
     "shell.execute_reply.started": "2023-08-30T09:44:16.132192Z"
    },
    "jupyter": {
     "outputs_hidden": false
    }
   },
   "outputs": [],
   "source": [
    "sentences_train = getter_data.sentences\n",
    "# sentences_dev = getter_dev.sentences"
   ]
  },
  {
   "cell_type": "code",
   "execution_count": 76,
   "metadata": {
    "_cell_guid": "244a9d0c-c948-47e4-a8b9-fb90c08377f4",
    "_uuid": "a67c8b84-4c51-4c93-a99c-0e8b6f06f729",
    "collapsed": false,
    "execution": {
     "iopub.execute_input": "2023-08-30T09:44:16.143963Z",
     "iopub.status.busy": "2023-08-30T09:44:16.143147Z",
     "iopub.status.idle": "2023-08-30T09:44:16.267278Z",
     "shell.execute_reply": "2023-08-30T09:44:16.266144Z",
     "shell.execute_reply.started": "2023-08-30T09:44:16.143491Z"
    },
    "jupyter": {
     "outputs_hidden": false
    }
   },
   "outputs": [
    {
     "data": {
      "text/plain": [
       "token    509\n",
       "tag      509\n",
       "dtype: int64"
      ]
     },
     "execution_count": 76,
     "metadata": {},
     "output_type": "execute_result"
    }
   ],
   "source": [
    "data.groupby(['text']).count().max()"
   ]
  },
  {
   "cell_type": "code",
   "execution_count": 77,
   "metadata": {
    "_cell_guid": "cddcd32e-493b-4faf-953a-66640c83ed33",
    "_uuid": "38ee2292-ec3b-43bd-9dca-b88958273f82",
    "collapsed": false,
    "execution": {
     "iopub.execute_input": "2023-08-30T09:44:16.269372Z",
     "iopub.status.busy": "2023-08-30T09:44:16.268897Z",
     "iopub.status.idle": "2023-08-30T09:44:16.274074Z",
     "shell.execute_reply": "2023-08-30T09:44:16.273154Z",
     "shell.execute_reply.started": "2023-08-30T09:44:16.269191Z"
    },
    "jupyter": {
     "outputs_hidden": false
    }
   },
   "outputs": [],
   "source": [
    "\n",
    "# x = data.groupby('text').count()\n",
    "\n",
    "# #Mức phân vị thứ 75, 80, 95 \n",
    "# print(x['token'].quantile(q = 0.75))\n",
    "# print(x['token'].quantile(q = 0.80))\n",
    "# print(x['token'].quantile(q = 0.95))\n",
    "\n",
    "# #Plot histogram \n",
    "# sns.displot(data = t,x='token', kde=True)\n",
    "# plt.gcf().set_size_inches(30, 20)"
   ]
  },
  {
   "cell_type": "code",
   "execution_count": 78,
   "metadata": {
    "_cell_guid": "3ce6fd4a-bc1d-477e-a764-da42b122dbfa",
    "_uuid": "bb17bc22-ecde-47fd-b61b-410fb1042d62",
    "collapsed": false,
    "execution": {
     "iopub.execute_input": "2023-08-30T09:44:16.276532Z",
     "iopub.status.busy": "2023-08-30T09:44:16.276043Z",
     "iopub.status.idle": "2023-08-30T09:44:16.302323Z",
     "shell.execute_reply": "2023-08-30T09:44:16.301499Z",
     "shell.execute_reply.started": "2023-08-30T09:44:16.276341Z"
    },
    "jupyter": {
     "outputs_hidden": false
    }
   },
   "outputs": [
    {
     "data": {
      "text/plain": [
       "{0: 'O', 1: 'I-BESKRIVELSE', 2: 'B-BESKRIVELSE'}"
      ]
     },
     "execution_count": 78,
     "metadata": {},
     "output_type": "execute_result"
    }
   ],
   "source": [
    "max_len = 1000\n",
    "word2idx = {w: i + 1 for i, w in enumerate(words)}\n",
    "tag2idx = {t: i for i, t in enumerate(tags)}\n",
    "idx2tag = {i: w for w, i in tag2idx.items()}\n",
    "\n",
    "idx2tag"
   ]
  },
  {
   "cell_type": "code",
   "execution_count": 79,
   "metadata": {
    "_cell_guid": "34c5fecb-b3d3-452c-9cc9-cf2e7cbba76d",
    "_uuid": "e4ff985a-92a8-4bac-ab9b-90a2b6ae7795",
    "collapsed": false,
    "execution": {
     "iopub.execute_input": "2023-08-30T09:44:16.304385Z",
     "iopub.status.busy": "2023-08-30T09:44:16.303875Z",
     "iopub.status.idle": "2023-08-30T09:44:16.308472Z",
     "shell.execute_reply": "2023-08-30T09:44:16.307575Z",
     "shell.execute_reply.started": "2023-08-30T09:44:16.304178Z"
    },
    "jupyter": {
     "outputs_hidden": false
    }
   },
   "outputs": [],
   "source": [
    "# word2idx['Massala']"
   ]
  },
  {
   "cell_type": "code",
   "execution_count": 80,
   "metadata": {
    "_cell_guid": "645d587d-3491-4f82-bf55-13a52221d57a",
    "_uuid": "e8ae292b-6d74-4375-b16d-f28f63aa6c14",
    "collapsed": false,
    "execution": {
     "iopub.execute_input": "2023-08-30T09:44:16.310534Z",
     "iopub.status.busy": "2023-08-30T09:44:16.310095Z",
     "iopub.status.idle": "2023-08-30T09:44:16.319852Z",
     "shell.execute_reply": "2023-08-30T09:44:16.319003Z",
     "shell.execute_reply.started": "2023-08-30T09:44:16.310346Z"
    },
    "jupyter": {
     "outputs_hidden": false
    }
   },
   "outputs": [],
   "source": [
    "# tag2idx[\"0\"]"
   ]
  },
  {
   "cell_type": "code",
   "execution_count": 81,
   "metadata": {
    "_cell_guid": "720f231a-ceeb-4213-9ac9-d493916dc71c",
    "_uuid": "40f49b5d-b553-4ddc-b72f-9d8b8b5047b7",
    "collapsed": false,
    "execution": {
     "iopub.execute_input": "2023-08-30T09:44:16.327454Z",
     "iopub.status.busy": "2023-08-30T09:44:16.327000Z",
     "iopub.status.idle": "2023-08-30T09:44:16.496807Z",
     "shell.execute_reply": "2023-08-30T09:44:16.495767Z",
     "shell.execute_reply.started": "2023-08-30T09:44:16.327403Z"
    },
    "jupyter": {
     "outputs_hidden": false
    }
   },
   "outputs": [],
   "source": [
    "from keras.preprocessing.sequence import pad_sequences\n",
    "\n",
    "# pad the sequence - train sample\n",
    "X_train = [[word2idx[w[0]] for w in s] for s in sentences_train]\n",
    "\n",
    "X_train = pad_sequences(maxlen=max_len, sequences=X_train, padding=\"post\", value=n_words-1)\n",
    "# pad the target - dev sample\n",
    "# y_dev = [[tag2idx[w[1]] for w in s] for s in sentences_dev]\n",
    "# y_dev = pad_sequences(maxlen=max_len, sequences=y_dev, padding=\"post\", value=tag2idx[\"O\"])"
   ]
  },
  {
   "cell_type": "code",
   "execution_count": 82,
   "metadata": {
    "_cell_guid": "ce8b3297-a1e8-42ab-833d-6536997d9711",
    "_uuid": "82e7452e-3682-44b4-80c0-a8bb25de1b8c",
    "collapsed": false,
    "execution": {
     "iopub.execute_input": "2023-08-30T09:44:16.501276Z",
     "iopub.status.busy": "2023-08-30T09:44:16.500939Z",
     "iopub.status.idle": "2023-08-30T09:44:16.505642Z",
     "shell.execute_reply": "2023-08-30T09:44:16.504253Z",
     "shell.execute_reply.started": "2023-08-30T09:44:16.501221Z"
    },
    "jupyter": {
     "outputs_hidden": false
    }
   },
   "outputs": [],
   "source": [
    "# from keras.preprocessing.sequence import pad_sequences"
   ]
  },
  {
   "cell_type": "code",
   "execution_count": 83,
   "metadata": {
    "_cell_guid": "c3cdc36d-2869-40d8-918a-4219807d18ae",
    "_uuid": "4747c359-1575-4c6e-b8ab-6b2c441371c5",
    "collapsed": false,
    "execution": {
     "iopub.execute_input": "2023-08-30T09:44:16.507857Z",
     "iopub.status.busy": "2023-08-30T09:44:16.507380Z",
     "iopub.status.idle": "2023-08-30T09:44:16.671969Z",
     "shell.execute_reply": "2023-08-30T09:44:16.669359Z",
     "shell.execute_reply.started": "2023-08-30T09:44:16.507657Z"
    },
    "jupyter": {
     "outputs_hidden": false
    }
   },
   "outputs": [],
   "source": [
    "# pad the target - train sample\n",
    "y_train = [[tag2idx[w[1]] for w in s] for s in sentences_train]\n",
    "y_train = pad_sequences(maxlen=max_len, sequences=y_train, padding=\"post\")\n",
    "# y_train = pad_sequences(maxlen=max_len, sequences=y_train, padding=\"post\", value=tag2idx[\"0\"])"
   ]
  },
  {
   "cell_type": "code",
   "execution_count": 84,
   "metadata": {
    "_cell_guid": "8cce5c9b-12b3-4f79-b6b5-817c74c896f4",
    "_uuid": "97d357bd-d70c-46df-a12c-83b3b2d851c9",
    "collapsed": false,
    "execution": {
     "iopub.execute_input": "2023-08-30T09:44:16.675502Z",
     "iopub.status.busy": "2023-08-30T09:44:16.673924Z",
     "iopub.status.idle": "2023-08-30T09:44:16.734237Z",
     "shell.execute_reply": "2023-08-30T09:44:16.733423Z",
     "shell.execute_reply.started": "2023-08-30T09:44:16.675434Z"
    },
    "jupyter": {
     "outputs_hidden": false
    }
   },
   "outputs": [],
   "source": [
    "\n",
    "from keras.utils import to_categorical\n",
    "y_train = [to_categorical(i, num_classes=n_tags) for i in y_train]\n",
    "# y_dev = [to_categorical(i, num_classes=n_tags) for i in y_dev]\n",
    "\n",
    "#from sklearn.model_selection import train_test_split\n",
    "#X_tr, X_te, y_tr, y_te = train_test_split(X, y, test_size=0.1)"
   ]
  },
  {
   "cell_type": "markdown",
   "metadata": {
    "_cell_guid": "301b53e5-2424-4039-9ed3-44ba82cf874c",
    "_uuid": "3175d820-fea4-4dcc-b67f-4365f1b101ba"
   },
   "source": [
    "### 3. Setup the CRF-LSTM\n",
    "Now we can fit a LSTM-CRF network with an embedding layer."
   ]
  },
  {
   "cell_type": "code",
   "execution_count": 85,
   "metadata": {
    "_cell_guid": "f060eec3-c702-4709-84c5-480618fe832f",
    "_kg_hide-output": true,
    "_uuid": "0e1306e4-1387-4dfa-bfc5-c5fe2329de19",
    "collapsed": false,
    "execution": {
     "iopub.execute_input": "2023-08-30T09:44:16.746067Z",
     "iopub.status.busy": "2023-08-30T09:44:16.745681Z",
     "iopub.status.idle": "2023-08-30T09:44:25.426084Z",
     "shell.execute_reply": "2023-08-30T09:44:25.424921Z",
     "shell.execute_reply.started": "2023-08-30T09:44:16.745894Z"
    },
    "jupyter": {
     "outputs_hidden": false
    }
   },
   "outputs": [
    {
     "name": "stdout",
     "output_type": "stream",
     "text": [
      "Collecting git+https://www.github.com/keras-team/keras-contrib.git\n",
      "  Cloning https://www.github.com/keras-team/keras-contrib.git to /tmp/pip-req-build-nosxascv\n",
      "  Running command git clone -q https://www.github.com/keras-team/keras-contrib.git /tmp/pip-req-build-nosxascv\n",
      "Requirement already satisfied (use --upgrade to upgrade): keras-contrib==2.0.8 from git+https://www.github.com/keras-team/keras-contrib.git in /opt/conda/lib/python3.6/site-packages\n",
      "Requirement already satisfied: keras in /opt/conda/lib/python3.6/site-packages (from keras-contrib==2.0.8) (2.3.1)\n",
      "Requirement already satisfied: h5py in /opt/conda/lib/python3.6/site-packages (from keras->keras-contrib==2.0.8) (2.9.0)\n",
      "Requirement already satisfied: numpy>=1.9.1 in /opt/conda/lib/python3.6/site-packages (from keras->keras-contrib==2.0.8) (1.17.4)\n",
      "Requirement already satisfied: keras-applications>=1.0.6 in /opt/conda/lib/python3.6/site-packages (from keras->keras-contrib==2.0.8) (1.0.8)\n",
      "Requirement already satisfied: pyyaml in /opt/conda/lib/python3.6/site-packages (from keras->keras-contrib==2.0.8) (5.1.2)\n",
      "Requirement already satisfied: scipy>=0.14 in /opt/conda/lib/python3.6/site-packages (from keras->keras-contrib==2.0.8) (1.3.3)\n",
      "Requirement already satisfied: keras-preprocessing>=1.0.5 in /opt/conda/lib/python3.6/site-packages (from keras->keras-contrib==2.0.8) (1.1.0)\n",
      "Requirement already satisfied: six>=1.9.0 in /opt/conda/lib/python3.6/site-packages (from keras->keras-contrib==2.0.8) (1.13.0)\n",
      "Building wheels for collected packages: keras-contrib\n",
      "  Building wheel for keras-contrib (setup.py) ... \u001b[?25ldone\n",
      "\u001b[?25h  Created wheel for keras-contrib: filename=keras_contrib-2.0.8-cp36-none-any.whl size=101065 sha256=b06b71e45ccba23f30adb128cba5cda67a3ff34f9ba056e59105a2ff2b901da2\n",
      "  Stored in directory: /tmp/pip-ephem-wheel-cache-dsd0iozh/wheels/11/27/c8/4ed56de7b55f4f61244e2dc6ef3cdbaff2692527a2ce6502ba\n",
      "Successfully built keras-contrib\n"
     ]
    }
   ],
   "source": [
    "!pip install git+https://www.github.com/keras-team/keras-contrib.git"
   ]
  },
  {
   "cell_type": "code",
   "execution_count": 86,
   "metadata": {
    "_cell_guid": "bfc4171f-3a13-4ad8-8c79-392a1bd495ee",
    "_kg_hide-input": true,
    "_uuid": "bc34c148-2214-49df-a0dd-370808ec8607",
    "collapsed": false,
    "execution": {
     "iopub.execute_input": "2023-08-30T09:44:25.432323Z",
     "iopub.status.busy": "2023-08-30T09:44:25.432005Z",
     "iopub.status.idle": "2023-08-30T09:44:25.442468Z",
     "shell.execute_reply": "2023-08-30T09:44:25.441414Z",
     "shell.execute_reply.started": "2023-08-30T09:44:25.432247Z"
    },
    "jupyter": {
     "outputs_hidden": false
    }
   },
   "outputs": [],
   "source": [
    "import keras\n",
    "import torch\n",
    "from keras.models import Model, Input,Sequential\n",
    "from keras.layers import LSTM, Embedding, Dense, TimeDistributed, Dropout, Bidirectional\n",
    "from keras_contrib.layers import CRF\n",
    "import keras as k\n",
    "from tensorflow.keras.callbacks import EarlyStopping"
   ]
  },
  {
   "cell_type": "code",
   "execution_count": 87,
   "metadata": {
    "_cell_guid": "a814f2f0-fbc7-4cdf-9202-d686a799e224",
    "_uuid": "b7cd3c05-663c-41f9-896d-a272d2492f61",
    "collapsed": false,
    "execution": {
     "iopub.execute_input": "2023-08-30T09:44:25.445196Z",
     "iopub.status.busy": "2023-08-30T09:44:25.444860Z",
     "iopub.status.idle": "2023-08-30T09:44:25.454870Z",
     "shell.execute_reply": "2023-08-30T09:44:25.453945Z",
     "shell.execute_reply.started": "2023-08-30T09:44:25.445147Z"
    },
    "jupyter": {
     "outputs_hidden": false
    }
   },
   "outputs": [],
   "source": [
    "import tensorflow"
   ]
  },
  {
   "cell_type": "code",
   "execution_count": 88,
   "metadata": {
    "_cell_guid": "a5467c25-b57f-4ae8-a407-fdb237e06278",
    "_uuid": "69a11de5-04b5-471b-9e6c-5ae49cd948aa",
    "collapsed": false,
    "execution": {
     "iopub.execute_input": "2023-08-30T09:44:25.459156Z",
     "iopub.status.busy": "2023-08-30T09:44:25.458731Z",
     "iopub.status.idle": "2023-08-30T09:44:25.467761Z",
     "shell.execute_reply": "2023-08-30T09:44:25.466828Z",
     "shell.execute_reply.started": "2023-08-30T09:44:25.459103Z"
    },
    "jupyter": {
     "outputs_hidden": false
    }
   },
   "outputs": [
    {
     "data": {
      "text/plain": [
       "'2.3.1'"
      ]
     },
     "execution_count": 88,
     "metadata": {},
     "output_type": "execute_result"
    }
   ],
   "source": [
    "keras.__version__"
   ]
  },
  {
   "cell_type": "code",
   "execution_count": 89,
   "metadata": {
    "_cell_guid": "0b95592d-c4e3-46e6-9a7d-657c644d1dc3",
    "_uuid": "7e576257-d6ab-4887-9445-22cb65ec354d",
    "collapsed": false,
    "execution": {
     "iopub.execute_input": "2023-08-30T09:44:25.470349Z",
     "iopub.status.busy": "2023-08-30T09:44:25.469643Z",
     "iopub.status.idle": "2023-08-30T09:44:25.478371Z",
     "shell.execute_reply": "2023-08-30T09:44:25.477441Z",
     "shell.execute_reply.started": "2023-08-30T09:44:25.470284Z"
    },
    "jupyter": {
     "outputs_hidden": false
    }
   },
   "outputs": [
    {
     "data": {
      "text/plain": [
       "'2.1.0-rc0'"
      ]
     },
     "execution_count": 89,
     "metadata": {},
     "output_type": "execute_result"
    }
   ],
   "source": [
    "tensorflow.__version__"
   ]
  },
  {
   "cell_type": "code",
   "execution_count": 90,
   "metadata": {
    "_cell_guid": "a5e6adcf-1366-490a-8b9f-9b0419a30a63",
    "_uuid": "39467b06-18c8-4230-845f-b22e49cc3a7c",
    "collapsed": false,
    "execution": {
     "iopub.execute_input": "2023-08-30T09:44:25.480994Z",
     "iopub.status.busy": "2023-08-30T09:44:25.480231Z",
     "iopub.status.idle": "2023-08-30T09:44:26.510414Z",
     "shell.execute_reply": "2023-08-30T09:44:26.509510Z",
     "shell.execute_reply.started": "2023-08-30T09:44:25.480933Z"
    },
    "jupyter": {
     "outputs_hidden": false
    }
   },
   "outputs": [
    {
     "name": "stdout",
     "output_type": "stream",
     "text": [
      "Python 3.6.6 :: Anaconda, Inc.\n"
     ]
    }
   ],
   "source": [
    "!python3 -V"
   ]
  },
  {
   "cell_type": "code",
   "execution_count": 91,
   "metadata": {
    "execution": {
     "iopub.execute_input": "2023-08-30T09:44:26.512496Z",
     "iopub.status.busy": "2023-08-30T09:44:26.512189Z",
     "iopub.status.idle": "2023-08-30T09:44:26.520759Z",
     "shell.execute_reply": "2023-08-30T09:44:26.519768Z",
     "shell.execute_reply.started": "2023-08-30T09:44:26.512440Z"
    }
   },
   "outputs": [
    {
     "data": {
      "text/plain": [
       "'1.3.0'"
      ]
     },
     "execution_count": 91,
     "metadata": {},
     "output_type": "execute_result"
    }
   ],
   "source": [
    "torch.__version__"
   ]
  },
  {
   "cell_type": "code",
   "execution_count": 92,
   "metadata": {
    "_cell_guid": "78661dfe-b713-4c45-926b-0a7680e485c8",
    "_uuid": "0f8e3ee2-2751-4ccb-9f49-3f90a64e8fe3",
    "collapsed": false,
    "execution": {
     "iopub.execute_input": "2023-08-30T09:44:26.523230Z",
     "iopub.status.busy": "2023-08-30T09:44:26.522536Z",
     "iopub.status.idle": "2023-08-30T09:44:26.532524Z",
     "shell.execute_reply": "2023-08-30T09:44:26.531561Z",
     "shell.execute_reply.started": "2023-08-30T09:44:26.523178Z"
    },
    "jupyter": {
     "outputs_hidden": false
    }
   },
   "outputs": [],
   "source": [
    "# !pip freeze > requirements.txt"
   ]
  },
  {
   "cell_type": "code",
   "execution_count": 93,
   "metadata": {
    "_cell_guid": "2a91a3dd-016c-44ab-836e-0eaa618b2232",
    "_uuid": "c4f5ec51-93e7-4575-9f1e-b5b608cc9cac",
    "collapsed": false,
    "execution": {
     "iopub.execute_input": "2023-08-30T09:44:26.534609Z",
     "iopub.status.busy": "2023-08-30T09:44:26.534035Z",
     "iopub.status.idle": "2023-08-30T09:44:26.542081Z",
     "shell.execute_reply": "2023-08-30T09:44:26.541225Z",
     "shell.execute_reply.started": "2023-08-30T09:44:26.534553Z"
    },
    "jupyter": {
     "outputs_hidden": false
    }
   },
   "outputs": [],
   "source": [
    "# !cat requirements.txt"
   ]
  },
  {
   "cell_type": "code",
   "execution_count": 94,
   "metadata": {
    "_cell_guid": "ad876831-b71e-461d-8955-99d6cdb3267e",
    "_uuid": "781e63ae-d0a6-4444-a614-63854acb1c5b",
    "collapsed": false,
    "execution": {
     "iopub.execute_input": "2023-08-30T09:44:26.544080Z",
     "iopub.status.busy": "2023-08-30T09:44:26.543479Z",
     "iopub.status.idle": "2023-08-30T09:44:26.553852Z",
     "shell.execute_reply": "2023-08-30T09:44:26.553019Z",
     "shell.execute_reply.started": "2023-08-30T09:44:26.544026Z"
    },
    "jupyter": {
     "outputs_hidden": false
    }
   },
   "outputs": [
    {
     "data": {
      "text/plain": [
       "21742"
      ]
     },
     "execution_count": 94,
     "metadata": {},
     "output_type": "execute_result"
    }
   ],
   "source": [
    "n_words"
   ]
  },
  {
   "cell_type": "code",
   "execution_count": 95,
   "metadata": {
    "_cell_guid": "0ae2b4d2-10a3-40dd-8f98-4abb9dfd1c64",
    "_uuid": "20bf6a85-e88e-4fe2-8b6b-e1e927d1db2d",
    "collapsed": false,
    "execution": {
     "iopub.execute_input": "2023-08-30T09:44:26.556373Z",
     "iopub.status.busy": "2023-08-30T09:44:26.555833Z",
     "iopub.status.idle": "2023-08-30T09:44:26.570822Z",
     "shell.execute_reply": "2023-08-30T09:44:26.570029Z",
     "shell.execute_reply.started": "2023-08-30T09:44:26.556322Z"
    },
    "jupyter": {
     "outputs_hidden": false
    }
   },
   "outputs": [],
   "source": [
    "from sklearn.model_selection import train_test_split\n",
    "X_train, X_test, y_train, y_test = train_test_split(X_train, y_train, test_size=0.2, random_state=1)"
   ]
  },
  {
   "cell_type": "code",
   "execution_count": 96,
   "metadata": {
    "_cell_guid": "4dd536ce-4151-4493-9ea3-c05b47f9e6fd",
    "_uuid": "0fc52472-8480-4fea-9f87-1e77649f1940",
    "collapsed": false,
    "execution": {
     "iopub.execute_input": "2023-08-30T09:44:26.572700Z",
     "iopub.status.busy": "2023-08-30T09:44:26.572223Z",
     "iopub.status.idle": "2023-08-30T09:44:26.578409Z",
     "shell.execute_reply": "2023-08-30T09:44:26.577566Z",
     "shell.execute_reply.started": "2023-08-30T09:44:26.572649Z"
    },
    "jupyter": {
     "outputs_hidden": false
    }
   },
   "outputs": [
    {
     "data": {
      "text/plain": [
       "280"
      ]
     },
     "execution_count": 96,
     "metadata": {},
     "output_type": "execute_result"
    }
   ],
   "source": [
    "len(X_test)"
   ]
  },
  {
   "cell_type": "code",
   "execution_count": 97,
   "metadata": {
    "_cell_guid": "969375a2-ce1a-4250-98a8-6e9bedd35271",
    "_uuid": "fb4713f7-f210-4c39-9f08-42e89b914248",
    "collapsed": false,
    "execution": {
     "iopub.execute_input": "2023-08-30T09:44:26.580458Z",
     "iopub.status.busy": "2023-08-30T09:44:26.579898Z",
     "iopub.status.idle": "2023-08-30T09:44:26.588109Z",
     "shell.execute_reply": "2023-08-30T09:44:26.587146Z",
     "shell.execute_reply.started": "2023-08-30T09:44:26.580405Z"
    },
    "jupyter": {
     "outputs_hidden": false
    }
   },
   "outputs": [
    {
     "data": {
      "text/plain": [
       "1120"
      ]
     },
     "execution_count": 97,
     "metadata": {},
     "output_type": "execute_result"
    }
   ],
   "source": [
    "\n",
    "len(X_train)"
   ]
  },
  {
   "cell_type": "markdown",
   "metadata": {
    "_cell_guid": "17a174e9-1500-4fa4-bf41-6c46418e5f3d",
    "_uuid": "26143853-9583-46e9-806a-9ce7bdb7c3d5"
   },
   "source": [
    "BI_LSTM_CRF"
   ]
  },
  {
   "cell_type": "code",
   "execution_count": 98,
   "metadata": {
    "_cell_guid": "6927253f-85a4-471a-a6fb-466ea8f119cb",
    "_uuid": "2b0c79ad-986d-4f43-9866-67140eb8e297",
    "collapsed": false,
    "execution": {
     "iopub.execute_input": "2023-08-30T09:44:26.590239Z",
     "iopub.status.busy": "2023-08-30T09:44:26.589503Z",
     "iopub.status.idle": "2023-08-30T09:44:26.598836Z",
     "shell.execute_reply": "2023-08-30T09:44:26.598049Z",
     "shell.execute_reply.started": "2023-08-30T09:44:26.590185Z"
    },
    "jupyter": {
     "outputs_hidden": false
    }
   },
   "outputs": [
    {
     "data": {
      "text/plain": [
       "'1.3.0'"
      ]
     },
     "execution_count": 98,
     "metadata": {},
     "output_type": "execute_result"
    }
   ],
   "source": [
    "import torch\n",
    "from torch.utils.data import TensorDataset, DataLoader, RandomSampler, SequentialSampler\n",
    "# from transformers import BertTokenizer, BertConfig\n",
    "\n",
    "from keras.preprocessing.sequence import pad_sequences\n",
    "from sklearn.model_selection import train_test_split\n",
    "\n",
    "torch.__version__"
   ]
  },
  {
   "cell_type": "code",
   "execution_count": 99,
   "metadata": {
    "_cell_guid": "28a2c6d6-dd28-43f7-9bc9-cf5e4d8c7fd9",
    "_uuid": "aa95946c-5f51-480e-aa3f-abd47354dca7",
    "collapsed": false,
    "execution": {
     "iopub.execute_input": "2023-08-30T09:44:26.601334Z",
     "iopub.status.busy": "2023-08-30T09:44:26.600647Z",
     "iopub.status.idle": "2023-08-30T09:44:26.605854Z",
     "shell.execute_reply": "2023-08-30T09:44:26.605029Z",
     "shell.execute_reply.started": "2023-08-30T09:44:26.601156Z"
    },
    "jupyter": {
     "outputs_hidden": false
    }
   },
   "outputs": [],
   "source": [
    "# device = torch.device(\"cuda\" if torch.cuda.is_available() else \"cpu\")\n",
    "# n_gpu = torch.cuda.device_count()"
   ]
  },
  {
   "cell_type": "code",
   "execution_count": 100,
   "metadata": {
    "_cell_guid": "3c5fe4e8-0e31-48de-bae2-5cbc921b30d6",
    "_uuid": "0a499303-56f2-477d-a105-a7ee2694ca89",
    "collapsed": false,
    "execution": {
     "iopub.execute_input": "2023-08-30T09:44:26.608029Z",
     "iopub.status.busy": "2023-08-30T09:44:26.607368Z",
     "iopub.status.idle": "2023-08-30T09:44:26.616407Z",
     "shell.execute_reply": "2023-08-30T09:44:26.615552Z",
     "shell.execute_reply.started": "2023-08-30T09:44:26.607971Z"
    },
    "jupyter": {
     "outputs_hidden": false
    }
   },
   "outputs": [],
   "source": [
    "# torch.cuda.get_device_name(0)"
   ]
  },
  {
   "cell_type": "code",
   "execution_count": 101,
   "metadata": {
    "_cell_guid": "a8f0a19b-ce94-49d9-a936-6cf671aad97f",
    "_uuid": "479a82e6-efe0-4c41-b03e-81e7658c4d57",
    "collapsed": false,
    "execution": {
     "iopub.execute_input": "2023-08-30T09:44:26.618585Z",
     "iopub.status.busy": "2023-08-30T09:44:26.617944Z",
     "iopub.status.idle": "2023-08-30T09:44:26.625868Z",
     "shell.execute_reply": "2023-08-30T09:44:26.625046Z",
     "shell.execute_reply.started": "2023-08-30T09:44:26.618532Z"
    },
    "jupyter": {
     "outputs_hidden": false
    }
   },
   "outputs": [],
   "source": [
    "# device = torch.device(\"cuda\" if torch.cuda.is_available() else \"cpu\")\n",
    "# X_train = torch.tensor(X_train).to(device)\n",
    "# y_train = torch.tensor(y_train).to(device)\n",
    "# X_test = torch.tensor(X_test).to(device)\n",
    "# y_test = torch.tensor(y_test).to(device)"
   ]
  },
  {
   "cell_type": "code",
   "execution_count": 102,
   "metadata": {
    "_cell_guid": "3da021a3-456c-4ed9-bb17-567b4133bfda",
    "_uuid": "ac8172d7-c7df-48fc-9b81-b12a3d74fc11",
    "collapsed": false,
    "execution": {
     "iopub.execute_input": "2023-08-30T09:44:26.628054Z",
     "iopub.status.busy": "2023-08-30T09:44:26.627404Z",
     "iopub.status.idle": "2023-08-30T09:44:26.635861Z",
     "shell.execute_reply": "2023-08-30T09:44:26.635047Z",
     "shell.execute_reply.started": "2023-08-30T09:44:26.628000Z"
    },
    "jupyter": {
     "outputs_hidden": false
    }
   },
   "outputs": [],
   "source": [
    "# X_train = torch.tensor(X_train).to(device)\n",
    "# y_train = torch.tensor(y_train).to(device)\n",
    "# X_test = torch.tensor(X_test).to(device)\n",
    "# y_test = torch.tensor(y_test).to(device)"
   ]
  },
  {
   "cell_type": "code",
   "execution_count": null,
   "metadata": {
    "_cell_guid": "d3c955ac-2d2b-4539-b69d-52cbba5b34b5",
    "_uuid": "b5d5328c-13f5-42b7-8d79-3ff6403f28d5",
    "collapsed": false,
    "jupyter": {
     "outputs_hidden": false
    }
   },
   "outputs": [],
   "source": []
  },
  {
   "cell_type": "code",
   "execution_count": 103,
   "metadata": {
    "_cell_guid": "fe9b3ba0-28f7-42b9-be98-53a33aa76022",
    "_uuid": "039a235f-d2d4-43cb-896a-540a78df0da9",
    "collapsed": false,
    "execution": {
     "iopub.execute_input": "2023-08-30T09:44:26.638046Z",
     "iopub.status.busy": "2023-08-30T09:44:26.637451Z",
     "iopub.status.idle": "2023-08-30T09:44:27.263075Z",
     "shell.execute_reply": "2023-08-30T09:44:27.262135Z",
     "shell.execute_reply.started": "2023-08-30T09:44:26.637993Z"
    },
    "jupyter": {
     "outputs_hidden": false
    }
   },
   "outputs": [],
   "source": [
    "callback = EarlyStopping(monitor='loss', mode='min', verbose=1, patience=10)# patience = 50\n",
    "\n",
    "model = Sequential()\n",
    "model.add(Embedding(input_dim=n_words+1, output_dim=128, input_length=max_len))\n",
    "model.add(Dropout(0.5))\n",
    "model.add(Bidirectional(LSTM(units=64, return_sequences=True, recurrent_dropout=0.1)))\n",
    "model.add(TimeDistributed(Dense(n_tags, activation=\"relu\")))\n",
    "crf_layer = CRF(n_tags)\n",
    "model.add(crf_layer)"
   ]
  },
  {
   "cell_type": "code",
   "execution_count": null,
   "metadata": {
    "_cell_guid": "375724ae-c6f6-452a-9eb5-711a5b0b37e3",
    "_uuid": "f3d30f06-34df-4dbd-b69e-c44f00f6e3aa",
    "collapsed": false,
    "jupyter": {
     "outputs_hidden": false
    }
   },
   "outputs": [],
   "source": []
  },
  {
   "cell_type": "code",
   "execution_count": 104,
   "metadata": {
    "_cell_guid": "42dda940-63d2-4240-aded-65b53ceb07b7",
    "_uuid": "26e1b1a1-5d6c-47d8-aafe-053964f7bbe8",
    "collapsed": false,
    "execution": {
     "iopub.execute_input": "2023-08-30T09:44:27.265727Z",
     "iopub.status.busy": "2023-08-30T09:44:27.265127Z",
     "iopub.status.idle": "2023-08-30T09:44:27.275660Z",
     "shell.execute_reply": "2023-08-30T09:44:27.274841Z",
     "shell.execute_reply.started": "2023-08-30T09:44:27.265670Z"
    },
    "jupyter": {
     "outputs_hidden": false
    }
   },
   "outputs": [
    {
     "name": "stdout",
     "output_type": "stream",
     "text": [
      "Model: \"sequential_2\"\n",
      "_________________________________________________________________\n",
      "Layer (type)                 Output Shape              Param #   \n",
      "=================================================================\n",
      "embedding_2 (Embedding)      (None, 1000, 128)         2783104   \n",
      "_________________________________________________________________\n",
      "dropout_2 (Dropout)          (None, 1000, 128)         0         \n",
      "_________________________________________________________________\n",
      "bidirectional_2 (Bidirection (None, 1000, 128)         98816     \n",
      "_________________________________________________________________\n",
      "time_distributed_2 (TimeDist (None, 1000, 3)           387       \n",
      "_________________________________________________________________\n",
      "crf_2 (CRF)                  (None, 1000, 3)           27        \n",
      "=================================================================\n",
      "Total params: 2,882,334\n",
      "Trainable params: 2,882,334\n",
      "Non-trainable params: 0\n",
      "_________________________________________________________________\n"
     ]
    }
   ],
   "source": [
    "model.summary()"
   ]
  },
  {
   "cell_type": "code",
   "execution_count": 105,
   "metadata": {
    "_cell_guid": "4ed05f48-ff87-47df-8a3c-f4e217e07a5b",
    "_kg_hide-output": true,
    "_uuid": "d2e2dd85-6432-4b8d-a6a3-c8100844ac21",
    "collapsed": false,
    "execution": {
     "iopub.execute_input": "2023-08-30T09:44:27.277718Z",
     "iopub.status.busy": "2023-08-30T09:44:27.277155Z",
     "iopub.status.idle": "2023-08-30T09:44:27.644822Z",
     "shell.execute_reply": "2023-08-30T09:44:27.643989Z",
     "shell.execute_reply.started": "2023-08-30T09:44:27.277665Z"
    },
    "jupyter": {
     "outputs_hidden": false
    }
   },
   "outputs": [
    {
     "name": "stderr",
     "output_type": "stream",
     "text": [
      "/opt/conda/lib/python3.6/site-packages/keras_contrib/layers/crf.py:346: UserWarning: CRF.loss_function is deprecated and it might be removed in the future. Please use losses.crf_loss instead.\n",
      "  warnings.warn('CRF.loss_function is deprecated '\n",
      "/opt/conda/lib/python3.6/site-packages/keras_contrib/layers/crf.py:353: UserWarning: CRF.accuracy is deprecated and it might be removed in the future. Please use metrics.crf_accuracy\n",
      "  warnings.warn('CRF.accuracy is deprecated and it '\n"
     ]
    }
   ],
   "source": [
    "adam = k.optimizers.Adam(lr=0.0005, beta_1=0.9, beta_2=0.999)\n",
    "model.compile(optimizer='adam', loss=crf_layer.loss_function, metrics=[crf_layer.accuracy])"
   ]
  },
  {
   "cell_type": "code",
   "execution_count": 106,
   "metadata": {
    "_cell_guid": "983ec8c4-418c-494b-a641-9926a580fa71",
    "_uuid": "5b6936bc-3239-48dd-a5d9-75c4be0a08d7",
    "collapsed": false,
    "execution": {
     "iopub.execute_input": "2023-08-30T09:44:27.646677Z",
     "iopub.status.busy": "2023-08-30T09:44:27.646381Z",
     "iopub.status.idle": "2023-08-30T15:48:12.108254Z",
     "shell.execute_reply": "2023-08-30T15:48:12.107044Z",
     "shell.execute_reply.started": "2023-08-30T09:44:27.646628Z"
    },
    "jupyter": {
     "outputs_hidden": false
    }
   },
   "outputs": [
    {
     "name": "stderr",
     "output_type": "stream",
     "text": [
      "/opt/conda/lib/python3.6/site-packages/tensorflow_core/python/framework/indexed_slices.py:433: UserWarning: Converting sparse IndexedSlices to a dense Tensor of unknown shape. This may consume a large amount of memory.\n",
      "  \"Converting sparse IndexedSlices to a dense Tensor of unknown shape. \"\n"
     ]
    },
    {
     "name": "stdout",
     "output_type": "stream",
     "text": [
      "Train on 1120 samples, validate on 280 samples\n",
      "Epoch 1/200\n",
      "1120/1120 [==============================] - 111s 99ms/step - loss: 0.2160 - crf_viterbi_accuracy: 0.9751 - val_loss: 0.1101 - val_crf_viterbi_accuracy: 0.9728\n",
      "Epoch 2/200\n",
      "1120/1120 [==============================] - 108s 97ms/step - loss: 0.0849 - crf_viterbi_accuracy: 0.9751 - val_loss: 0.0695 - val_crf_viterbi_accuracy: 0.9728\n",
      "Epoch 3/200\n",
      "1120/1120 [==============================] - 108s 97ms/step - loss: 0.0584 - crf_viterbi_accuracy: 0.9751 - val_loss: 0.0540 - val_crf_viterbi_accuracy: 0.9728\n",
      "Epoch 4/200\n",
      "1120/1120 [==============================] - 109s 98ms/step - loss: 0.0441 - crf_viterbi_accuracy: 0.9766 - val_loss: 0.0406 - val_crf_viterbi_accuracy: 0.9770\n",
      "Epoch 5/200\n",
      "1120/1120 [==============================] - 109s 97ms/step - loss: 0.0324 - crf_viterbi_accuracy: 0.9841 - val_loss: 0.0293 - val_crf_viterbi_accuracy: 0.9871\n",
      "Epoch 6/200\n",
      "1120/1120 [==============================] - 110s 98ms/step - loss: 0.0225 - crf_viterbi_accuracy: 0.9907 - val_loss: 0.0211 - val_crf_viterbi_accuracy: 0.9906\n",
      "Epoch 7/200\n",
      "1120/1120 [==============================] - 109s 97ms/step - loss: 0.0160 - crf_viterbi_accuracy: 0.9940 - val_loss: 0.0164 - val_crf_viterbi_accuracy: 0.9945\n",
      "Epoch 8/200\n",
      "1120/1120 [==============================] - 110s 98ms/step - loss: 0.0124 - crf_viterbi_accuracy: 0.9965 - val_loss: 0.0140 - val_crf_viterbi_accuracy: 0.9959\n",
      "Epoch 9/200\n",
      "1120/1120 [==============================] - 109s 97ms/step - loss: 0.0102 - crf_viterbi_accuracy: 0.9978 - val_loss: 0.0123 - val_crf_viterbi_accuracy: 0.9969\n",
      "Epoch 10/200\n",
      "1120/1120 [==============================] - 109s 97ms/step - loss: 0.0087 - crf_viterbi_accuracy: 0.9986 - val_loss: 0.0110 - val_crf_viterbi_accuracy: 0.9975\n",
      "Epoch 11/200\n",
      "1120/1120 [==============================] - 109s 97ms/step - loss: 0.0078 - crf_viterbi_accuracy: 0.9990 - val_loss: 0.0103 - val_crf_viterbi_accuracy: 0.9978\n",
      "Epoch 12/200\n",
      "1120/1120 [==============================] - 109s 97ms/step - loss: 0.0072 - crf_viterbi_accuracy: 0.9993 - val_loss: 0.0100 - val_crf_viterbi_accuracy: 0.9978\n",
      "Epoch 13/200\n",
      "1120/1120 [==============================] - 110s 98ms/step - loss: 0.0067 - crf_viterbi_accuracy: 0.9995 - val_loss: 0.0097 - val_crf_viterbi_accuracy: 0.9981\n",
      "Epoch 14/200\n",
      "1120/1120 [==============================] - 108s 97ms/step - loss: 0.0063 - crf_viterbi_accuracy: 0.9996 - val_loss: 0.0096 - val_crf_viterbi_accuracy: 0.9982\n",
      "Epoch 15/200\n",
      "1120/1120 [==============================] - 109s 97ms/step - loss: 0.0060 - crf_viterbi_accuracy: 0.9996 - val_loss: 0.0092 - val_crf_viterbi_accuracy: 0.9981\n",
      "Epoch 16/200\n",
      "1120/1120 [==============================] - 108s 96ms/step - loss: 0.0057 - crf_viterbi_accuracy: 0.9997 - val_loss: 0.0089 - val_crf_viterbi_accuracy: 0.9983\n",
      "Epoch 17/200\n",
      "1120/1120 [==============================] - 109s 98ms/step - loss: 0.0056 - crf_viterbi_accuracy: 0.9997 - val_loss: 0.0092 - val_crf_viterbi_accuracy: 0.9982\n",
      "Epoch 18/200\n",
      "1120/1120 [==============================] - 108s 97ms/step - loss: 0.0054 - crf_viterbi_accuracy: 0.9998 - val_loss: 0.0090 - val_crf_viterbi_accuracy: 0.9983\n",
      "Epoch 19/200\n",
      "1120/1120 [==============================] - 108s 97ms/step - loss: 0.0052 - crf_viterbi_accuracy: 0.9998 - val_loss: 0.0087 - val_crf_viterbi_accuracy: 0.9983\n",
      "Epoch 20/200\n",
      "1120/1120 [==============================] - 109s 98ms/step - loss: 0.0051 - crf_viterbi_accuracy: 0.9998 - val_loss: 0.0087 - val_crf_viterbi_accuracy: 0.9983\n",
      "Epoch 21/200\n",
      "1120/1120 [==============================] - 108s 96ms/step - loss: 0.0049 - crf_viterbi_accuracy: 0.9998 - val_loss: 0.0086 - val_crf_viterbi_accuracy: 0.9984\n",
      "Epoch 22/200\n",
      "1120/1120 [==============================] - 109s 97ms/step - loss: 0.0048 - crf_viterbi_accuracy: 0.9999 - val_loss: 0.0084 - val_crf_viterbi_accuracy: 0.9983\n",
      "Epoch 23/200\n",
      "1120/1120 [==============================] - 108s 96ms/step - loss: 0.0047 - crf_viterbi_accuracy: 0.9999 - val_loss: 0.0087 - val_crf_viterbi_accuracy: 0.9983\n",
      "Epoch 24/200\n",
      "1120/1120 [==============================] - 108s 97ms/step - loss: 0.0046 - crf_viterbi_accuracy: 0.9999 - val_loss: 0.0084 - val_crf_viterbi_accuracy: 0.9984\n",
      "Epoch 25/200\n",
      "1120/1120 [==============================] - 109s 97ms/step - loss: 0.0045 - crf_viterbi_accuracy: 0.9999 - val_loss: 0.0082 - val_crf_viterbi_accuracy: 0.9984\n",
      "Epoch 26/200\n",
      "1120/1120 [==============================] - 108s 97ms/step - loss: 0.0044 - crf_viterbi_accuracy: 0.9999 - val_loss: 0.0083 - val_crf_viterbi_accuracy: 0.9983\n",
      "Epoch 27/200\n",
      "1120/1120 [==============================] - 109s 97ms/step - loss: 0.0042 - crf_viterbi_accuracy: 0.9999 - val_loss: 0.0084 - val_crf_viterbi_accuracy: 0.9984\n",
      "Epoch 28/200\n",
      "1120/1120 [==============================] - 108s 97ms/step - loss: 0.0041 - crf_viterbi_accuracy: 0.9999 - val_loss: 0.0082 - val_crf_viterbi_accuracy: 0.9984\n",
      "Epoch 29/200\n",
      "1120/1120 [==============================] - 108s 97ms/step - loss: 0.0040 - crf_viterbi_accuracy: 0.9999 - val_loss: 0.0081 - val_crf_viterbi_accuracy: 0.9984\n",
      "Epoch 30/200\n",
      "1120/1120 [==============================] - 108s 97ms/step - loss: 0.0039 - crf_viterbi_accuracy: 0.9999 - val_loss: 0.0077 - val_crf_viterbi_accuracy: 0.9984\n",
      "Epoch 31/200\n",
      "1120/1120 [==============================] - 108s 97ms/step - loss: 0.0039 - crf_viterbi_accuracy: 0.9999 - val_loss: 0.0078 - val_crf_viterbi_accuracy: 0.9984\n",
      "Epoch 32/200\n",
      "1120/1120 [==============================] - 109s 97ms/step - loss: 0.0038 - crf_viterbi_accuracy: 0.9999 - val_loss: 0.0077 - val_crf_viterbi_accuracy: 0.9984\n",
      "Epoch 33/200\n",
      "1120/1120 [==============================] - 108s 96ms/step - loss: 0.0037 - crf_viterbi_accuracy: 0.9999 - val_loss: 0.0077 - val_crf_viterbi_accuracy: 0.9984\n",
      "Epoch 34/200\n",
      "1120/1120 [==============================] - 109s 97ms/step - loss: 0.0036 - crf_viterbi_accuracy: 0.9999 - val_loss: 0.0074 - val_crf_viterbi_accuracy: 0.9984\n",
      "Epoch 35/200\n",
      "1120/1120 [==============================] - 108s 97ms/step - loss: 0.0035 - crf_viterbi_accuracy: 0.9999 - val_loss: 0.0076 - val_crf_viterbi_accuracy: 0.9984\n",
      "Epoch 36/200\n",
      "1120/1120 [==============================] - 108s 96ms/step - loss: 0.0034 - crf_viterbi_accuracy: 0.9999 - val_loss: 0.0075 - val_crf_viterbi_accuracy: 0.9984\n",
      "Epoch 37/200\n",
      "1120/1120 [==============================] - 109s 97ms/step - loss: 0.0034 - crf_viterbi_accuracy: 0.9999 - val_loss: 0.0074 - val_crf_viterbi_accuracy: 0.9984\n",
      "Epoch 38/200\n",
      "1120/1120 [==============================] - 108s 97ms/step - loss: 0.0033 - crf_viterbi_accuracy: 0.9999 - val_loss: 0.0073 - val_crf_viterbi_accuracy: 0.9984\n",
      "Epoch 39/200\n",
      "1120/1120 [==============================] - 110s 98ms/step - loss: 0.0032 - crf_viterbi_accuracy: 0.9999 - val_loss: 0.0073 - val_crf_viterbi_accuracy: 0.9984\n",
      "Epoch 40/200\n",
      "1120/1120 [==============================] - 108s 97ms/step - loss: 0.0032 - crf_viterbi_accuracy: 0.9999 - val_loss: 0.0070 - val_crf_viterbi_accuracy: 0.9985\n",
      "Epoch 41/200\n",
      "1120/1120 [==============================] - 109s 97ms/step - loss: 0.0031 - crf_viterbi_accuracy: 0.9999 - val_loss: 0.0071 - val_crf_viterbi_accuracy: 0.9985\n",
      "Epoch 42/200\n",
      "1120/1120 [==============================] - 109s 97ms/step - loss: 0.0030 - crf_viterbi_accuracy: 0.9999 - val_loss: 0.0073 - val_crf_viterbi_accuracy: 0.9984\n",
      "Epoch 43/200\n",
      "1120/1120 [==============================] - 109s 97ms/step - loss: 0.0030 - crf_viterbi_accuracy: 0.9999 - val_loss: 0.0071 - val_crf_viterbi_accuracy: 0.9985\n",
      "Epoch 44/200\n",
      "1120/1120 [==============================] - 109s 97ms/step - loss: 0.0029 - crf_viterbi_accuracy: 0.9999 - val_loss: 0.0068 - val_crf_viterbi_accuracy: 0.9985\n",
      "Epoch 45/200\n",
      "1120/1120 [==============================] - 109s 97ms/step - loss: 0.0028 - crf_viterbi_accuracy: 0.9999 - val_loss: 0.0071 - val_crf_viterbi_accuracy: 0.9984\n",
      "Epoch 46/200\n",
      "1120/1120 [==============================] - 109s 97ms/step - loss: 0.0028 - crf_viterbi_accuracy: 0.9999 - val_loss: 0.0066 - val_crf_viterbi_accuracy: 0.9985\n",
      "Epoch 47/200\n",
      "1120/1120 [==============================] - 109s 97ms/step - loss: 0.0027 - crf_viterbi_accuracy: 0.9999 - val_loss: 0.0071 - val_crf_viterbi_accuracy: 0.9985\n",
      "Epoch 48/200\n",
      "1120/1120 [==============================] - 109s 97ms/step - loss: 0.0027 - crf_viterbi_accuracy: 0.9999 - val_loss: 0.0070 - val_crf_viterbi_accuracy: 0.9984\n",
      "Epoch 49/200\n",
      "1120/1120 [==============================] - 108s 96ms/step - loss: 0.0026 - crf_viterbi_accuracy: 0.9999 - val_loss: 0.0070 - val_crf_viterbi_accuracy: 0.9984\n",
      "Epoch 50/200\n",
      "1120/1120 [==============================] - 108s 96ms/step - loss: 0.0026 - crf_viterbi_accuracy: 0.9999 - val_loss: 0.0065 - val_crf_viterbi_accuracy: 0.9986\n",
      "Epoch 51/200\n",
      "1120/1120 [==============================] - 109s 97ms/step - loss: 0.0025 - crf_viterbi_accuracy: 0.9999 - val_loss: 0.0067 - val_crf_viterbi_accuracy: 0.9985\n",
      "Epoch 52/200\n",
      "1120/1120 [==============================] - 109s 97ms/step - loss: 0.0025 - crf_viterbi_accuracy: 0.9999 - val_loss: 0.0063 - val_crf_viterbi_accuracy: 0.9985\n",
      "Epoch 53/200\n",
      "1120/1120 [==============================] - 109s 97ms/step - loss: 0.0024 - crf_viterbi_accuracy: 0.9999 - val_loss: 0.0066 - val_crf_viterbi_accuracy: 0.9986\n",
      "Epoch 54/200\n",
      "1120/1120 [==============================] - 108s 96ms/step - loss: 0.0024 - crf_viterbi_accuracy: 0.9999 - val_loss: 0.0065 - val_crf_viterbi_accuracy: 0.9985\n",
      "Epoch 55/200\n",
      "1120/1120 [==============================] - 108s 97ms/step - loss: 0.0023 - crf_viterbi_accuracy: 0.9999 - val_loss: 0.0067 - val_crf_viterbi_accuracy: 0.9985\n",
      "Epoch 56/200\n",
      "1120/1120 [==============================] - 109s 97ms/step - loss: 0.0023 - crf_viterbi_accuracy: 0.9999 - val_loss: 0.0065 - val_crf_viterbi_accuracy: 0.9985\n",
      "Epoch 57/200\n",
      "1120/1120 [==============================] - 108s 97ms/step - loss: 0.0022 - crf_viterbi_accuracy: 0.9999 - val_loss: 0.0063 - val_crf_viterbi_accuracy: 0.9986\n",
      "Epoch 58/200\n",
      "1120/1120 [==============================] - 108s 97ms/step - loss: 0.0022 - crf_viterbi_accuracy: 0.9999 - val_loss: 0.0064 - val_crf_viterbi_accuracy: 0.9985\n",
      "Epoch 59/200\n",
      "1120/1120 [==============================] - 109s 97ms/step - loss: 0.0022 - crf_viterbi_accuracy: 0.9999 - val_loss: 0.0062 - val_crf_viterbi_accuracy: 0.9986\n",
      "Epoch 60/200\n",
      "1120/1120 [==============================] - 109s 97ms/step - loss: 0.0021 - crf_viterbi_accuracy: 0.9999 - val_loss: 0.0065 - val_crf_viterbi_accuracy: 0.9985\n",
      "Epoch 61/200\n",
      "1120/1120 [==============================] - 108s 96ms/step - loss: 0.0021 - crf_viterbi_accuracy: 0.9999 - val_loss: 0.0065 - val_crf_viterbi_accuracy: 0.9985\n",
      "Epoch 62/200\n",
      "1120/1120 [==============================] - 108s 97ms/step - loss: 0.0021 - crf_viterbi_accuracy: 0.9999 - val_loss: 0.0065 - val_crf_viterbi_accuracy: 0.9985\n",
      "Epoch 63/200\n",
      "1120/1120 [==============================] - 109s 97ms/step - loss: 0.0020 - crf_viterbi_accuracy: 0.9999 - val_loss: 0.0065 - val_crf_viterbi_accuracy: 0.9986\n",
      "Epoch 64/200\n",
      "1120/1120 [==============================] - 108s 97ms/step - loss: 0.0020 - crf_viterbi_accuracy: 0.9999 - val_loss: 0.0063 - val_crf_viterbi_accuracy: 0.9985\n",
      "Epoch 65/200\n",
      "1120/1120 [==============================] - 109s 98ms/step - loss: 0.0020 - crf_viterbi_accuracy: 0.9999 - val_loss: 0.0061 - val_crf_viterbi_accuracy: 0.9986\n",
      "Epoch 66/200\n",
      "1120/1120 [==============================] - 108s 96ms/step - loss: 0.0019 - crf_viterbi_accuracy: 0.9999 - val_loss: 0.0062 - val_crf_viterbi_accuracy: 0.9986\n",
      "Epoch 67/200\n",
      "1120/1120 [==============================] - 109s 97ms/step - loss: 0.0019 - crf_viterbi_accuracy: 0.9999 - val_loss: 0.0061 - val_crf_viterbi_accuracy: 0.9985\n",
      "Epoch 68/200\n",
      "1120/1120 [==============================] - 108s 97ms/step - loss: 0.0019 - crf_viterbi_accuracy: 0.9999 - val_loss: 0.0065 - val_crf_viterbi_accuracy: 0.9985\n",
      "Epoch 69/200\n",
      "1120/1120 [==============================] - 108s 97ms/step - loss: 0.0019 - crf_viterbi_accuracy: 0.9999 - val_loss: 0.0059 - val_crf_viterbi_accuracy: 0.9986\n",
      "Epoch 70/200\n",
      "1120/1120 [==============================] - 110s 98ms/step - loss: 0.0018 - crf_viterbi_accuracy: 0.9999 - val_loss: 0.0060 - val_crf_viterbi_accuracy: 0.9986\n",
      "Epoch 71/200\n",
      "1120/1120 [==============================] - 109s 97ms/step - loss: 0.0018 - crf_viterbi_accuracy: 0.9999 - val_loss: 0.0059 - val_crf_viterbi_accuracy: 0.9986\n",
      "Epoch 72/200\n",
      "1120/1120 [==============================] - 109s 98ms/step - loss: 0.0018 - crf_viterbi_accuracy: 0.9999 - val_loss: 0.0060 - val_crf_viterbi_accuracy: 0.9986\n",
      "Epoch 73/200\n",
      "1120/1120 [==============================] - 109s 97ms/step - loss: 0.0017 - crf_viterbi_accuracy: 0.9999 - val_loss: 0.0060 - val_crf_viterbi_accuracy: 0.9986\n",
      "Epoch 74/200\n",
      "1120/1120 [==============================] - 109s 98ms/step - loss: 0.0017 - crf_viterbi_accuracy: 0.9999 - val_loss: 0.0061 - val_crf_viterbi_accuracy: 0.9986\n",
      "Epoch 75/200\n",
      "1120/1120 [==============================] - 108s 96ms/step - loss: 0.0017 - crf_viterbi_accuracy: 0.9999 - val_loss: 0.0061 - val_crf_viterbi_accuracy: 0.9986\n",
      "Epoch 76/200\n",
      "1120/1120 [==============================] - 109s 97ms/step - loss: 0.0017 - crf_viterbi_accuracy: 0.9999 - val_loss: 0.0059 - val_crf_viterbi_accuracy: 0.9986\n",
      "Epoch 77/200\n",
      "1120/1120 [==============================] - 111s 99ms/step - loss: 0.0016 - crf_viterbi_accuracy: 0.9999 - val_loss: 0.0062 - val_crf_viterbi_accuracy: 0.9986\n",
      "Epoch 78/200\n",
      "1120/1120 [==============================] - 108s 97ms/step - loss: 0.0016 - crf_viterbi_accuracy: 0.9999 - val_loss: 0.0060 - val_crf_viterbi_accuracy: 0.9986\n",
      "Epoch 79/200\n",
      "1120/1120 [==============================] - 109s 98ms/step - loss: 0.0016 - crf_viterbi_accuracy: 0.9999 - val_loss: 0.0061 - val_crf_viterbi_accuracy: 0.9986\n",
      "Epoch 80/200\n",
      "1120/1120 [==============================] - 109s 97ms/step - loss: 0.0016 - crf_viterbi_accuracy: 0.9999 - val_loss: 0.0061 - val_crf_viterbi_accuracy: 0.9986\n",
      "Epoch 81/200\n",
      "1120/1120 [==============================] - 109s 97ms/step - loss: 0.0015 - crf_viterbi_accuracy: 0.9999 - val_loss: 0.0060 - val_crf_viterbi_accuracy: 0.9986\n",
      "Epoch 82/200\n",
      "1120/1120 [==============================] - 108s 97ms/step - loss: 0.0015 - crf_viterbi_accuracy: 0.9999 - val_loss: 0.0058 - val_crf_viterbi_accuracy: 0.9987\n",
      "Epoch 83/200\n",
      "1120/1120 [==============================] - 109s 98ms/step - loss: 0.0015 - crf_viterbi_accuracy: 0.9999 - val_loss: 0.0059 - val_crf_viterbi_accuracy: 0.9986\n",
      "Epoch 84/200\n",
      "1120/1120 [==============================] - 109s 97ms/step - loss: 0.0015 - crf_viterbi_accuracy: 0.9999 - val_loss: 0.0060 - val_crf_viterbi_accuracy: 0.9986\n",
      "Epoch 85/200\n",
      "1120/1120 [==============================] - 108s 97ms/step - loss: 0.0015 - crf_viterbi_accuracy: 0.9999 - val_loss: 0.0057 - val_crf_viterbi_accuracy: 0.9987\n",
      "Epoch 86/200\n",
      "1120/1120 [==============================] - 109s 98ms/step - loss: 0.0015 - crf_viterbi_accuracy: 0.9999 - val_loss: 0.0058 - val_crf_viterbi_accuracy: 0.9986\n",
      "Epoch 87/200\n",
      "1120/1120 [==============================] - 108s 96ms/step - loss: 0.0014 - crf_viterbi_accuracy: 0.9999 - val_loss: 0.0057 - val_crf_viterbi_accuracy: 0.9986\n",
      "Epoch 88/200\n",
      "1120/1120 [==============================] - 109s 98ms/step - loss: 0.0014 - crf_viterbi_accuracy: 0.9999 - val_loss: 0.0059 - val_crf_viterbi_accuracy: 0.9986\n",
      "Epoch 89/200\n",
      "1120/1120 [==============================] - 108s 97ms/step - loss: 0.0014 - crf_viterbi_accuracy: 0.9999 - val_loss: 0.0060 - val_crf_viterbi_accuracy: 0.9985\n",
      "Epoch 90/200\n",
      "1120/1120 [==============================] - 109s 98ms/step - loss: 0.0014 - crf_viterbi_accuracy: 0.9999 - val_loss: 0.0061 - val_crf_viterbi_accuracy: 0.9986\n",
      "Epoch 91/200\n",
      "1120/1120 [==============================] - 109s 97ms/step - loss: 0.0014 - crf_viterbi_accuracy: 0.9999 - val_loss: 0.0056 - val_crf_viterbi_accuracy: 0.9987\n",
      "Epoch 92/200\n",
      "1120/1120 [==============================] - 109s 97ms/step - loss: 0.0013 - crf_viterbi_accuracy: 0.9999 - val_loss: 0.0059 - val_crf_viterbi_accuracy: 0.9986\n",
      "Epoch 93/200\n",
      "1120/1120 [==============================] - 109s 97ms/step - loss: 0.0013 - crf_viterbi_accuracy: 0.9999 - val_loss: 0.0056 - val_crf_viterbi_accuracy: 0.9987\n",
      "Epoch 94/200\n",
      "1120/1120 [==============================] - 109s 97ms/step - loss: 0.0013 - crf_viterbi_accuracy: 0.9999 - val_loss: 0.0057 - val_crf_viterbi_accuracy: 0.9987\n",
      "Epoch 95/200\n",
      "1120/1120 [==============================] - 109s 98ms/step - loss: 0.0013 - crf_viterbi_accuracy: 0.9999 - val_loss: 0.0060 - val_crf_viterbi_accuracy: 0.9986\n",
      "Epoch 96/200\n",
      "1120/1120 [==============================] - 109s 97ms/step - loss: 0.0013 - crf_viterbi_accuracy: 0.9999 - val_loss: 0.0057 - val_crf_viterbi_accuracy: 0.9987\n",
      "Epoch 97/200\n",
      "1120/1120 [==============================] - 110s 98ms/step - loss: 0.0013 - crf_viterbi_accuracy: 0.9999 - val_loss: 0.0058 - val_crf_viterbi_accuracy: 0.9986\n",
      "Epoch 98/200\n",
      "1120/1120 [==============================] - 109s 97ms/step - loss: 0.0013 - crf_viterbi_accuracy: 0.9999 - val_loss: 0.0057 - val_crf_viterbi_accuracy: 0.9987\n",
      "Epoch 99/200\n",
      "1120/1120 [==============================] - 108s 97ms/step - loss: 0.0012 - crf_viterbi_accuracy: 0.9999 - val_loss: 0.0061 - val_crf_viterbi_accuracy: 0.9985\n",
      "Epoch 100/200\n",
      "1120/1120 [==============================] - 109s 98ms/step - loss: 0.0012 - crf_viterbi_accuracy: 0.9999 - val_loss: 0.0064 - val_crf_viterbi_accuracy: 0.9985\n",
      "Epoch 101/200\n",
      "1120/1120 [==============================] - 108s 96ms/step - loss: 0.0012 - crf_viterbi_accuracy: 0.9999 - val_loss: 0.0056 - val_crf_viterbi_accuracy: 0.9987\n",
      "Epoch 102/200\n",
      "1120/1120 [==============================] - 109s 97ms/step - loss: 0.0012 - crf_viterbi_accuracy: 0.9999 - val_loss: 0.0057 - val_crf_viterbi_accuracy: 0.9986\n",
      "Epoch 103/200\n",
      "1120/1120 [==============================] - 109s 97ms/step - loss: 0.0012 - crf_viterbi_accuracy: 0.9999 - val_loss: 0.0057 - val_crf_viterbi_accuracy: 0.9986\n",
      "Epoch 104/200\n",
      "1120/1120 [==============================] - 109s 97ms/step - loss: 0.0012 - crf_viterbi_accuracy: 0.9999 - val_loss: 0.0055 - val_crf_viterbi_accuracy: 0.9986\n",
      "Epoch 105/200\n",
      "1120/1120 [==============================] - 109s 97ms/step - loss: 0.0012 - crf_viterbi_accuracy: 0.9999 - val_loss: 0.0056 - val_crf_viterbi_accuracy: 0.9987\n",
      "Epoch 106/200\n",
      "1120/1120 [==============================] - 108s 96ms/step - loss: 0.0011 - crf_viterbi_accuracy: 0.9999 - val_loss: 0.0055 - val_crf_viterbi_accuracy: 0.9986\n",
      "Epoch 107/200\n",
      "1120/1120 [==============================] - 109s 97ms/step - loss: 0.0011 - crf_viterbi_accuracy: 0.9999 - val_loss: 0.0054 - val_crf_viterbi_accuracy: 0.9987\n",
      "Epoch 108/200\n",
      "1120/1120 [==============================] - 109s 97ms/step - loss: 0.0011 - crf_viterbi_accuracy: 0.9999 - val_loss: 0.0053 - val_crf_viterbi_accuracy: 0.9987\n",
      "Epoch 109/200\n",
      "1120/1120 [==============================] - 109s 97ms/step - loss: 0.0011 - crf_viterbi_accuracy: 1.0000 - val_loss: 0.0056 - val_crf_viterbi_accuracy: 0.9987\n",
      "Epoch 110/200\n",
      "1120/1120 [==============================] - 109s 97ms/step - loss: 0.0011 - crf_viterbi_accuracy: 1.0000 - val_loss: 0.0054 - val_crf_viterbi_accuracy: 0.9987\n",
      "Epoch 111/200\n",
      "1120/1120 [==============================] - 110s 98ms/step - loss: 0.0011 - crf_viterbi_accuracy: 1.0000 - val_loss: 0.0056 - val_crf_viterbi_accuracy: 0.9987\n",
      "Epoch 112/200\n",
      "1120/1120 [==============================] - 108s 97ms/step - loss: 0.0011 - crf_viterbi_accuracy: 1.0000 - val_loss: 0.0053 - val_crf_viterbi_accuracy: 0.9987\n",
      "Epoch 113/200\n",
      "1120/1120 [==============================] - 108s 96ms/step - loss: 0.0010 - crf_viterbi_accuracy: 1.0000 - val_loss: 0.0059 - val_crf_viterbi_accuracy: 0.9987\n",
      "Epoch 114/200\n",
      "1120/1120 [==============================] - 109s 97ms/step - loss: 0.0010 - crf_viterbi_accuracy: 1.0000 - val_loss: 0.0053 - val_crf_viterbi_accuracy: 0.9987\n",
      "Epoch 115/200\n",
      "1120/1120 [==============================] - 108s 97ms/step - loss: 0.0010 - crf_viterbi_accuracy: 1.0000 - val_loss: 0.0055 - val_crf_viterbi_accuracy: 0.9987\n",
      "Epoch 116/200\n",
      "1120/1120 [==============================] - 108s 97ms/step - loss: 0.0010 - crf_viterbi_accuracy: 1.0000 - val_loss: 0.0056 - val_crf_viterbi_accuracy: 0.9987\n",
      "Epoch 117/200\n",
      "1120/1120 [==============================] - 109s 97ms/step - loss: 0.0010 - crf_viterbi_accuracy: 1.0000 - val_loss: 0.0054 - val_crf_viterbi_accuracy: 0.9987\n",
      "Epoch 118/200\n",
      "1120/1120 [==============================] - 108s 96ms/step - loss: 9.8806e-04 - crf_viterbi_accuracy: 1.0000 - val_loss: 0.0058 - val_crf_viterbi_accuracy: 0.9987\n",
      "Epoch 119/200\n",
      "1120/1120 [==============================] - 109s 97ms/step - loss: 9.7471e-04 - crf_viterbi_accuracy: 1.0000 - val_loss: 0.0057 - val_crf_viterbi_accuracy: 0.9987\n",
      "Epoch 120/200\n",
      "1120/1120 [==============================] - 110s 98ms/step - loss: 9.6931e-04 - crf_viterbi_accuracy: 1.0000 - val_loss: 0.0056 - val_crf_viterbi_accuracy: 0.9987\n",
      "Epoch 121/200\n",
      "1120/1120 [==============================] - 111s 99ms/step - loss: 9.6520e-04 - crf_viterbi_accuracy: 1.0000 - val_loss: 0.0055 - val_crf_viterbi_accuracy: 0.9987\n",
      "Epoch 122/200\n",
      "1120/1120 [==============================] - 109s 97ms/step - loss: 9.4448e-04 - crf_viterbi_accuracy: 1.0000 - val_loss: 0.0056 - val_crf_viterbi_accuracy: 0.9987\n",
      "Epoch 123/200\n",
      "1120/1120 [==============================] - 110s 98ms/step - loss: 9.3907e-04 - crf_viterbi_accuracy: 1.0000 - val_loss: 0.0055 - val_crf_viterbi_accuracy: 0.9987\n",
      "Epoch 124/200\n",
      "1120/1120 [==============================] - 109s 98ms/step - loss: 9.2525e-04 - crf_viterbi_accuracy: 1.0000 - val_loss: 0.0057 - val_crf_viterbi_accuracy: 0.9987\n",
      "Epoch 125/200\n",
      "1120/1120 [==============================] - 111s 99ms/step - loss: 9.1620e-04 - crf_viterbi_accuracy: 1.0000 - val_loss: 0.0057 - val_crf_viterbi_accuracy: 0.9987\n",
      "Epoch 126/200\n",
      "1120/1120 [==============================] - 108s 97ms/step - loss: 9.0610e-04 - crf_viterbi_accuracy: 1.0000 - val_loss: 0.0057 - val_crf_viterbi_accuracy: 0.9987\n",
      "Epoch 127/200\n",
      "1120/1120 [==============================] - 109s 97ms/step - loss: 9.0188e-04 - crf_viterbi_accuracy: 1.0000 - val_loss: 0.0056 - val_crf_viterbi_accuracy: 0.9987\n",
      "Epoch 128/200\n",
      "1120/1120 [==============================] - 108s 97ms/step - loss: 8.8545e-04 - crf_viterbi_accuracy: 1.0000 - val_loss: 0.0056 - val_crf_viterbi_accuracy: 0.9987\n",
      "Epoch 129/200\n",
      "1120/1120 [==============================] - 108s 97ms/step - loss: 8.6380e-04 - crf_viterbi_accuracy: 1.0000 - val_loss: 0.0055 - val_crf_viterbi_accuracy: 0.9987\n",
      "Epoch 130/200\n",
      "1120/1120 [==============================] - 110s 98ms/step - loss: 8.7892e-04 - crf_viterbi_accuracy: 1.0000 - val_loss: 0.0055 - val_crf_viterbi_accuracy: 0.9987\n",
      "Epoch 131/200\n",
      "1120/1120 [==============================] - 108s 97ms/step - loss: 8.5172e-04 - crf_viterbi_accuracy: 1.0000 - val_loss: 0.0054 - val_crf_viterbi_accuracy: 0.9987\n",
      "Epoch 132/200\n",
      "1120/1120 [==============================] - 109s 98ms/step - loss: 8.5356e-04 - crf_viterbi_accuracy: 1.0000 - val_loss: 0.0060 - val_crf_viterbi_accuracy: 0.9987\n",
      "Epoch 133/200\n",
      "1120/1120 [==============================] - 108s 97ms/step - loss: 8.2967e-04 - crf_viterbi_accuracy: 1.0000 - val_loss: 0.0052 - val_crf_viterbi_accuracy: 0.9987\n",
      "Epoch 134/200\n",
      "1120/1120 [==============================] - 109s 97ms/step - loss: 8.1961e-04 - crf_viterbi_accuracy: 1.0000 - val_loss: 0.0055 - val_crf_viterbi_accuracy: 0.9987\n",
      "Epoch 135/200\n",
      "1120/1120 [==============================] - 108s 96ms/step - loss: 8.0797e-04 - crf_viterbi_accuracy: 1.0000 - val_loss: 0.0058 - val_crf_viterbi_accuracy: 0.9987\n",
      "Epoch 136/200\n",
      "1120/1120 [==============================] - 108s 97ms/step - loss: 8.0423e-04 - crf_viterbi_accuracy: 1.0000 - val_loss: 0.0056 - val_crf_viterbi_accuracy: 0.9987\n",
      "Epoch 137/200\n",
      "1120/1120 [==============================] - 109s 97ms/step - loss: 7.9071e-04 - crf_viterbi_accuracy: 1.0000 - val_loss: 0.0053 - val_crf_viterbi_accuracy: 0.9987\n",
      "Epoch 138/200\n",
      "1120/1120 [==============================] - 108s 96ms/step - loss: 7.7891e-04 - crf_viterbi_accuracy: 1.0000 - val_loss: 0.0058 - val_crf_viterbi_accuracy: 0.9987\n",
      "Epoch 139/200\n",
      "1120/1120 [==============================] - 108s 97ms/step - loss: 7.6510e-04 - crf_viterbi_accuracy: 1.0000 - val_loss: 0.0057 - val_crf_viterbi_accuracy: 0.9987\n",
      "Epoch 140/200\n",
      "1120/1120 [==============================] - 108s 96ms/step - loss: 7.6273e-04 - crf_viterbi_accuracy: 1.0000 - val_loss: 0.0050 - val_crf_viterbi_accuracy: 0.9987\n",
      "Epoch 141/200\n",
      "1120/1120 [==============================] - 108s 96ms/step - loss: 7.4925e-04 - crf_viterbi_accuracy: 1.0000 - val_loss: 0.0055 - val_crf_viterbi_accuracy: 0.9987\n",
      "Epoch 142/200\n",
      "1120/1120 [==============================] - 109s 97ms/step - loss: 7.3057e-04 - crf_viterbi_accuracy: 1.0000 - val_loss: 0.0055 - val_crf_viterbi_accuracy: 0.9987\n",
      "Epoch 143/200\n",
      "1120/1120 [==============================] - 108s 97ms/step - loss: 7.2095e-04 - crf_viterbi_accuracy: 1.0000 - val_loss: 0.0052 - val_crf_viterbi_accuracy: 0.9987\n",
      "Epoch 144/200\n",
      "1120/1120 [==============================] - 109s 97ms/step - loss: 7.1061e-04 - crf_viterbi_accuracy: 1.0000 - val_loss: 0.0056 - val_crf_viterbi_accuracy: 0.9987\n",
      "Epoch 145/200\n",
      "1120/1120 [==============================] - 108s 97ms/step - loss: 7.0249e-04 - crf_viterbi_accuracy: 1.0000 - val_loss: 0.0052 - val_crf_viterbi_accuracy: 0.9987\n",
      "Epoch 146/200\n",
      "1120/1120 [==============================] - 109s 97ms/step - loss: 6.9862e-04 - crf_viterbi_accuracy: 1.0000 - val_loss: 0.0052 - val_crf_viterbi_accuracy: 0.9987\n",
      "Epoch 147/200\n",
      "1120/1120 [==============================] - 108s 96ms/step - loss: 6.8303e-04 - crf_viterbi_accuracy: 1.0000 - val_loss: 0.0053 - val_crf_viterbi_accuracy: 0.9987\n",
      "Epoch 148/200\n",
      "1120/1120 [==============================] - 108s 96ms/step - loss: 6.6617e-04 - crf_viterbi_accuracy: 1.0000 - val_loss: 0.0058 - val_crf_viterbi_accuracy: 0.9986\n",
      "Epoch 149/200\n",
      "1120/1120 [==============================] - 109s 97ms/step - loss: 6.6640e-04 - crf_viterbi_accuracy: 1.0000 - val_loss: 0.0057 - val_crf_viterbi_accuracy: 0.9987\n",
      "Epoch 150/200\n",
      "1120/1120 [==============================] - 107s 96ms/step - loss: 6.4548e-04 - crf_viterbi_accuracy: 1.0000 - val_loss: 0.0053 - val_crf_viterbi_accuracy: 0.9987\n",
      "Epoch 151/200\n",
      "1120/1120 [==============================] - 109s 97ms/step - loss: 6.4018e-04 - crf_viterbi_accuracy: 1.0000 - val_loss: 0.0054 - val_crf_viterbi_accuracy: 0.9987\n",
      "Epoch 152/200\n",
      "1120/1120 [==============================] - 107s 96ms/step - loss: 6.2874e-04 - crf_viterbi_accuracy: 1.0000 - val_loss: 0.0052 - val_crf_viterbi_accuracy: 0.9988\n",
      "Epoch 153/200\n",
      "1120/1120 [==============================] - 108s 97ms/step - loss: 6.1618e-04 - crf_viterbi_accuracy: 1.0000 - val_loss: 0.0055 - val_crf_viterbi_accuracy: 0.9986\n",
      "Epoch 154/200\n",
      "1120/1120 [==============================] - 110s 98ms/step - loss: 6.0394e-04 - crf_viterbi_accuracy: 1.0000 - val_loss: 0.0053 - val_crf_viterbi_accuracy: 0.9987\n",
      "Epoch 155/200\n",
      "1120/1120 [==============================] - 109s 97ms/step - loss: 5.9703e-04 - crf_viterbi_accuracy: 1.0000 - val_loss: 0.0052 - val_crf_viterbi_accuracy: 0.9988\n",
      "Epoch 156/200\n",
      "1120/1120 [==============================] - 108s 97ms/step - loss: 5.8732e-04 - crf_viterbi_accuracy: 1.0000 - val_loss: 0.0053 - val_crf_viterbi_accuracy: 0.9987\n",
      "Epoch 157/200\n",
      "1120/1120 [==============================] - 109s 97ms/step - loss: 5.7379e-04 - crf_viterbi_accuracy: 1.0000 - val_loss: 0.0053 - val_crf_viterbi_accuracy: 0.9987\n",
      "Epoch 158/200\n",
      "1120/1120 [==============================] - 108s 97ms/step - loss: 5.6642e-04 - crf_viterbi_accuracy: 1.0000 - val_loss: 0.0050 - val_crf_viterbi_accuracy: 0.9988\n",
      "Epoch 159/200\n",
      "1120/1120 [==============================] - 107s 96ms/step - loss: 5.6190e-04 - crf_viterbi_accuracy: 1.0000 - val_loss: 0.0049 - val_crf_viterbi_accuracy: 0.9988\n",
      "Epoch 160/200\n",
      "1120/1120 [==============================] - 107s 96ms/step - loss: 5.2927e-04 - crf_viterbi_accuracy: 1.0000 - val_loss: 0.0052 - val_crf_viterbi_accuracy: 0.9988\n",
      "Epoch 161/200\n",
      "1120/1120 [==============================] - 108s 96ms/step - loss: 5.3430e-04 - crf_viterbi_accuracy: 1.0000 - val_loss: 0.0051 - val_crf_viterbi_accuracy: 0.9988\n",
      "Epoch 162/200\n",
      "1120/1120 [==============================] - 108s 96ms/step - loss: 5.1313e-04 - crf_viterbi_accuracy: 1.0000 - val_loss: 0.0054 - val_crf_viterbi_accuracy: 0.9987\n",
      "Epoch 163/200\n",
      "1120/1120 [==============================] - 108s 97ms/step - loss: 5.0568e-04 - crf_viterbi_accuracy: 1.0000 - val_loss: 0.0055 - val_crf_viterbi_accuracy: 0.9987\n",
      "Epoch 164/200\n",
      "1120/1120 [==============================] - 108s 96ms/step - loss: 4.8828e-04 - crf_viterbi_accuracy: 1.0000 - val_loss: 0.0050 - val_crf_viterbi_accuracy: 0.9988\n",
      "Epoch 165/200\n",
      "1120/1120 [==============================] - 107s 96ms/step - loss: 4.7949e-04 - crf_viterbi_accuracy: 1.0000 - val_loss: 0.0053 - val_crf_viterbi_accuracy: 0.9988\n",
      "Epoch 166/200\n",
      "1120/1120 [==============================] - 108s 97ms/step - loss: 4.7047e-04 - crf_viterbi_accuracy: 1.0000 - val_loss: 0.0048 - val_crf_viterbi_accuracy: 0.9988\n",
      "Epoch 167/200\n",
      "1120/1120 [==============================] - 107s 96ms/step - loss: 4.5434e-04 - crf_viterbi_accuracy: 1.0000 - val_loss: 0.0054 - val_crf_viterbi_accuracy: 0.9987\n",
      "Epoch 168/200\n",
      "1120/1120 [==============================] - 108s 97ms/step - loss: 4.3581e-04 - crf_viterbi_accuracy: 1.0000 - val_loss: 0.0052 - val_crf_viterbi_accuracy: 0.9987\n",
      "Epoch 169/200\n",
      "1120/1120 [==============================] - 108s 96ms/step - loss: 4.2602e-04 - crf_viterbi_accuracy: 1.0000 - val_loss: 0.0053 - val_crf_viterbi_accuracy: 0.9988\n",
      "Epoch 170/200\n",
      "1120/1120 [==============================] - 107s 96ms/step - loss: 4.2625e-04 - crf_viterbi_accuracy: 1.0000 - val_loss: 0.0051 - val_crf_viterbi_accuracy: 0.9987\n",
      "Epoch 171/200\n",
      "1120/1120 [==============================] - 108s 97ms/step - loss: 4.0347e-04 - crf_viterbi_accuracy: 1.0000 - val_loss: 0.0055 - val_crf_viterbi_accuracy: 0.9987\n",
      "Epoch 172/200\n",
      "1120/1120 [==============================] - 108s 96ms/step - loss: 3.9708e-04 - crf_viterbi_accuracy: 1.0000 - val_loss: 0.0053 - val_crf_viterbi_accuracy: 0.9987\n",
      "Epoch 173/200\n",
      "1120/1120 [==============================] - 108s 97ms/step - loss: 3.8483e-04 - crf_viterbi_accuracy: 1.0000 - val_loss: 0.0072 - val_crf_viterbi_accuracy: 0.9982\n",
      "Epoch 174/200\n",
      "1120/1120 [==============================] - 107s 96ms/step - loss: 4.1650e-04 - crf_viterbi_accuracy: 1.0000 - val_loss: 0.0057 - val_crf_viterbi_accuracy: 0.9985\n",
      "Epoch 175/200\n",
      "1120/1120 [==============================] - 107s 96ms/step - loss: 3.6610e-04 - crf_viterbi_accuracy: 1.0000 - val_loss: 0.0046 - val_crf_viterbi_accuracy: 0.9988\n",
      "Epoch 176/200\n",
      "1120/1120 [==============================] - 108s 96ms/step - loss: 3.4398e-04 - crf_viterbi_accuracy: 1.0000 - val_loss: 0.0053 - val_crf_viterbi_accuracy: 0.9987\n",
      "Epoch 177/200\n",
      "1120/1120 [==============================] - 107s 96ms/step - loss: 3.3201e-04 - crf_viterbi_accuracy: 1.0000 - val_loss: 0.0051 - val_crf_viterbi_accuracy: 0.9988\n",
      "Epoch 178/200\n",
      "1120/1120 [==============================] - 108s 97ms/step - loss: 3.2939e-04 - crf_viterbi_accuracy: 1.0000 - val_loss: 0.0052 - val_crf_viterbi_accuracy: 0.9987\n",
      "Epoch 179/200\n",
      "1120/1120 [==============================] - 107s 96ms/step - loss: 3.0398e-04 - crf_viterbi_accuracy: 1.0000 - val_loss: 0.0052 - val_crf_viterbi_accuracy: 0.9987\n",
      "Epoch 180/200\n",
      "1120/1120 [==============================] - 107s 96ms/step - loss: 2.8951e-04 - crf_viterbi_accuracy: 1.0000 - val_loss: 0.0052 - val_crf_viterbi_accuracy: 0.9987\n",
      "Epoch 181/200\n",
      "1120/1120 [==============================] - 109s 97ms/step - loss: 2.7751e-04 - crf_viterbi_accuracy: 1.0000 - val_loss: 0.0052 - val_crf_viterbi_accuracy: 0.9988\n",
      "Epoch 182/200\n",
      "1120/1120 [==============================] - 107s 96ms/step - loss: 2.5877e-04 - crf_viterbi_accuracy: 1.0000 - val_loss: 0.0052 - val_crf_viterbi_accuracy: 0.9987\n",
      "Epoch 183/200\n",
      "1120/1120 [==============================] - 107s 96ms/step - loss: 2.4956e-04 - crf_viterbi_accuracy: 1.0000 - val_loss: 0.0053 - val_crf_viterbi_accuracy: 0.9987\n",
      "Epoch 184/200\n",
      "1120/1120 [==============================] - 108s 96ms/step - loss: 2.3919e-04 - crf_viterbi_accuracy: 1.0000 - val_loss: 0.0052 - val_crf_viterbi_accuracy: 0.9987\n",
      "Epoch 185/200\n",
      "1120/1120 [==============================] - 107s 96ms/step - loss: 2.1610e-04 - crf_viterbi_accuracy: 1.0000 - val_loss: 0.0053 - val_crf_viterbi_accuracy: 0.9987\n",
      "Epoch 186/200\n",
      "1120/1120 [==============================] - 108s 96ms/step - loss: 2.1147e-04 - crf_viterbi_accuracy: 1.0000 - val_loss: 0.0055 - val_crf_viterbi_accuracy: 0.9987\n",
      "Epoch 187/200\n",
      "1120/1120 [==============================] - 107s 96ms/step - loss: 2.1048e-04 - crf_viterbi_accuracy: 1.0000 - val_loss: 0.0053 - val_crf_viterbi_accuracy: 0.9987\n",
      "Epoch 188/200\n",
      "1120/1120 [==============================] - 107s 96ms/step - loss: 1.7735e-04 - crf_viterbi_accuracy: 1.0000 - val_loss: 0.0049 - val_crf_viterbi_accuracy: 0.9988\n",
      "Epoch 189/200\n",
      "1120/1120 [==============================] - 108s 96ms/step - loss: 1.5703e-04 - crf_viterbi_accuracy: 1.0000 - val_loss: 0.0050 - val_crf_viterbi_accuracy: 0.9987\n",
      "Epoch 190/200\n",
      "1120/1120 [==============================] - 107s 96ms/step - loss: 1.4401e-04 - crf_viterbi_accuracy: 1.0000 - val_loss: 0.0054 - val_crf_viterbi_accuracy: 0.9987\n",
      "Epoch 191/200\n",
      "1120/1120 [==============================] - 108s 96ms/step - loss: 1.3423e-04 - crf_viterbi_accuracy: 1.0000 - val_loss: 0.0054 - val_crf_viterbi_accuracy: 0.9987\n",
      "Epoch 192/200\n",
      "1120/1120 [==============================] - 107s 96ms/step - loss: 1.1406e-04 - crf_viterbi_accuracy: 1.0000 - val_loss: 0.0053 - val_crf_viterbi_accuracy: 0.9987\n",
      "Epoch 193/200\n",
      "1120/1120 [==============================] - 108s 97ms/step - loss: 1.0385e-04 - crf_viterbi_accuracy: 1.0000 - val_loss: 0.0052 - val_crf_viterbi_accuracy: 0.9987\n",
      "Epoch 194/200\n",
      "1120/1120 [==============================] - 119s 106ms/step - loss: 9.1027e-05 - crf_viterbi_accuracy: 1.0000 - val_loss: 0.0049 - val_crf_viterbi_accuracy: 0.9988\n",
      "Epoch 195/200\n",
      "1120/1120 [==============================] - 121s 108ms/step - loss: 6.6648e-05 - crf_viterbi_accuracy: 1.0000 - val_loss: 0.0051 - val_crf_viterbi_accuracy: 0.9988\n",
      "Epoch 196/200\n",
      "1120/1120 [==============================] - 126s 113ms/step - loss: 6.2246e-05 - crf_viterbi_accuracy: 1.0000 - val_loss: 0.0050 - val_crf_viterbi_accuracy: 0.9987\n",
      "Epoch 197/200\n",
      "1120/1120 [==============================] - 128s 114ms/step - loss: 4.0519e-05 - crf_viterbi_accuracy: 1.0000 - val_loss: 0.0048 - val_crf_viterbi_accuracy: 0.9988\n",
      "Epoch 198/200\n",
      "1120/1120 [==============================] - 129s 115ms/step - loss: 2.1421e-05 - crf_viterbi_accuracy: 1.0000 - val_loss: 0.0049 - val_crf_viterbi_accuracy: 0.9987\n",
      "Epoch 199/200\n",
      "1120/1120 [==============================] - 129s 115ms/step - loss: 1.0765e-05 - crf_viterbi_accuracy: 1.0000 - val_loss: 0.0049 - val_crf_viterbi_accuracy: 0.9988\n",
      "Epoch 200/200\n",
      "1120/1120 [==============================] - 131s 117ms/step - loss: -1.0311e-05 - crf_viterbi_accuracy: 1.0000 - val_loss: 0.0046 - val_crf_viterbi_accuracy: 0.9988\n"
     ]
    }
   ],
   "source": [
    "history = model.fit(X_train, np.array(y_train), batch_size=32, epochs=200,\n",
    "                    validation_data=(X_test, np.array(y_test)), verbose=1, callbacks=[callback])"
   ]
  },
  {
   "cell_type": "code",
   "execution_count": 107,
   "metadata": {
    "_cell_guid": "62f66d76-0215-4a55-b171-4affe78a0894",
    "_uuid": "195adf50-f6cb-41a4-a36d-d732e7e3e5f4",
    "collapsed": false,
    "execution": {
     "iopub.execute_input": "2023-08-30T15:48:12.110340Z",
     "iopub.status.busy": "2023-08-30T15:48:12.109974Z",
     "iopub.status.idle": "2023-08-30T15:48:12.118489Z",
     "shell.execute_reply": "2023-08-30T15:48:12.117415Z",
     "shell.execute_reply.started": "2023-08-30T15:48:12.110280Z"
    },
    "jupyter": {
     "outputs_hidden": false
    }
   },
   "outputs": [
    {
     "data": {
      "text/plain": [
       "7"
      ]
     },
     "execution_count": 107,
     "metadata": {},
     "output_type": "execute_result"
    }
   ],
   "source": [
    "3+4"
   ]
  },
  {
   "cell_type": "code",
   "execution_count": 108,
   "metadata": {
    "_cell_guid": "8eb39e5e-e2d6-4a3f-bd0a-29b3cd9e55b8",
    "_uuid": "8c39b2fc-7608-4960-979c-6ae6e2576e86",
    "collapsed": false,
    "execution": {
     "iopub.execute_input": "2023-08-30T15:48:12.121262Z",
     "iopub.status.busy": "2023-08-30T15:48:12.120491Z",
     "iopub.status.idle": "2023-08-30T15:48:12.129544Z",
     "shell.execute_reply": "2023-08-30T15:48:12.128861Z",
     "shell.execute_reply.started": "2023-08-30T15:48:12.121148Z"
    },
    "jupyter": {
     "outputs_hidden": false
    }
   },
   "outputs": [],
   "source": [
    "# import torch\n",
    "# import torch.nn as nn\n",
    "# import torch.optim as optim"
   ]
  },
  {
   "cell_type": "code",
   "execution_count": 109,
   "metadata": {
    "_cell_guid": "161c7101-831d-445e-864c-0462805b53d1",
    "_uuid": "f8f07255-83e9-4294-bc73-016cf2738dcb",
    "collapsed": false,
    "execution": {
     "iopub.execute_input": "2023-08-30T15:48:12.132178Z",
     "iopub.status.busy": "2023-08-30T15:48:12.131383Z",
     "iopub.status.idle": "2023-08-30T15:48:12.140815Z",
     "shell.execute_reply": "2023-08-30T15:48:12.139803Z",
     "shell.execute_reply.started": "2023-08-30T15:48:12.132115Z"
    },
    "jupyter": {
     "outputs_hidden": false
    }
   },
   "outputs": [],
   "source": [
    "# device = torch.device(\"cuda\" if torch.cuda.is_available() else \"cpu\")\n",
    "# X_train = torch.tensor(X_train).to(device)\n",
    "# y_train = torch.tensor(y_train).to(device)\n",
    "# X_test = torch.tensor(X_test).to(device)\n",
    "# y_test = torch.tensor(y_test).to(device)"
   ]
  },
  {
   "cell_type": "code",
   "execution_count": 110,
   "metadata": {
    "_cell_guid": "b8049cae-f847-4965-a6cb-9267203c9a74",
    "_uuid": "d47e0e96-86eb-4a1d-9fe1-e109f1f8ec4c",
    "collapsed": false,
    "execution": {
     "iopub.execute_input": "2023-08-30T15:48:12.142871Z",
     "iopub.status.busy": "2023-08-30T15:48:12.142453Z",
     "iopub.status.idle": "2023-08-30T15:48:12.158239Z",
     "shell.execute_reply": "2023-08-30T15:48:12.157068Z",
     "shell.execute_reply.started": "2023-08-30T15:48:12.142790Z"
    },
    "jupyter": {
     "outputs_hidden": false
    }
   },
   "outputs": [],
   "source": [
    "# model = Sequential()\n",
    "# model.add(Embedding(input_dim=n_words+1, output_dim=128, input_length=max_len))\n",
    "# model.add(Dropout(0.5))\n",
    "# model.add(Bidirectional(LSTM(units=64, return_sequences=True, recurrent_dropout=0.1)))\n",
    "# model.add(TimeDistributed(Dense(n_tags, activation=\"relu\")))\n",
    "# crf_layer = CRF(n_tags)\n",
    "# model.add(crf_layer)\n",
    "# # model.to(device)"
   ]
  },
  {
   "cell_type": "code",
   "execution_count": 111,
   "metadata": {
    "_cell_guid": "2b92a5ca-4eef-445b-84ce-eb1004f3c81c",
    "_uuid": "679e627c-2ca5-47b2-a7fc-f6678316d3ce",
    "collapsed": false,
    "execution": {
     "iopub.execute_input": "2023-08-30T15:48:12.160241Z",
     "iopub.status.busy": "2023-08-30T15:48:12.159848Z",
     "iopub.status.idle": "2023-08-30T15:48:12.169380Z",
     "shell.execute_reply": "2023-08-30T15:48:12.168179Z",
     "shell.execute_reply.started": "2023-08-30T15:48:12.160157Z"
    },
    "jupyter": {
     "outputs_hidden": false
    }
   },
   "outputs": [],
   "source": [
    "# # Move the model to GPU\n",
    "# device = torch.device(\"cuda\" if torch.cuda.is_available() else \"cpu\")\n",
    "# # model.to(device)\n",
    "\n",
    "# # Define your optimizer\n",
    "# parameters = []\n",
    "# for name, module in model.named_modules():\n",
    "#     if isinstance(module, nn.Module):\n",
    "#         parameters.extend(module.named_parameters())\n",
    "# optimizer = optim.Adam(parameters, lr=0.0005, betas=(0.9, 0.999))"
   ]
  },
  {
   "cell_type": "code",
   "execution_count": 112,
   "metadata": {
    "_cell_guid": "62afc752-e991-48b5-9cac-6cae47e481db",
    "_uuid": "2960506a-3072-4ab8-a809-8149456cebb0",
    "collapsed": false,
    "execution": {
     "iopub.execute_input": "2023-08-30T15:48:12.171876Z",
     "iopub.status.busy": "2023-08-30T15:48:12.171173Z",
     "iopub.status.idle": "2023-08-30T15:48:12.181785Z",
     "shell.execute_reply": "2023-08-30T15:48:12.180549Z",
     "shell.execute_reply.started": "2023-08-30T15:48:12.171814Z"
    },
    "jupyter": {
     "outputs_hidden": false
    }
   },
   "outputs": [],
   "source": [
    "# history = []\n",
    "# for epoch in range(50):\n",
    "#     model.train()\n",
    "#     optimizer.zero_grad()\n",
    "#     outputs = model(X_train)\n",
    "#     loss = crf_layer.loss_function(outputs, y_train)\n",
    "#     loss.backward()\n",
    "#     optimizer.step()\n",
    "#     history.append(loss.item())\n",
    "\n",
    "#     model.eval()\n",
    "#     with torch.no_grad():\n",
    "#         val_outputs = model(X_test)\n",
    "#         val_loss = crf_layer.loss_function(val_outputs, y_test)\n",
    "\n",
    "#     print(f\"Epoch {epoch+1}/{50}, Loss: {loss.item():.4f}, Val Loss: {val_loss.item():.4f}\")\n",
    "\n",
    "#     # Add early stopping logic here if needed\n",
    "\n",
    "# # Additional code for evaluation and prediction if required"
   ]
  },
  {
   "cell_type": "code",
   "execution_count": null,
   "metadata": {
    "_cell_guid": "e6b954ef-88e9-4a8a-ad1a-97de7b6288ab",
    "_uuid": "55617b7f-e23a-45a9-8ad2-65f9c5462ed0",
    "collapsed": false,
    "jupyter": {
     "outputs_hidden": false
    }
   },
   "outputs": [],
   "source": []
  },
  {
   "cell_type": "code",
   "execution_count": 113,
   "metadata": {
    "_cell_guid": "75c75670-0620-43b0-9e0a-c98dcaefacd2",
    "_uuid": "3b950ff6-bc3b-47f5-9694-f8da0c985a2b",
    "collapsed": false,
    "execution": {
     "iopub.execute_input": "2023-08-30T15:48:12.185029Z",
     "iopub.status.busy": "2023-08-30T15:48:12.184278Z",
     "iopub.status.idle": "2023-08-30T15:48:12.518937Z",
     "shell.execute_reply": "2023-08-30T15:48:12.517895Z",
     "shell.execute_reply.started": "2023-08-30T15:48:12.184965Z"
    },
    "jupyter": {
     "outputs_hidden": false
    }
   },
   "outputs": [
    {
     "data": {
      "text/plain": [
       "['tags.pkl']"
      ]
     },
     "execution_count": 113,
     "metadata": {},
     "output_type": "execute_result"
    }
   ],
   "source": [
    "model.save(\"model.h5\")\n",
    "joblib.dump(words, 'words.pkl')\n",
    "joblib.dump(tags, 'tags.pkl')"
   ]
  },
  {
   "cell_type": "code",
   "execution_count": 114,
   "metadata": {
    "_cell_guid": "7badbfbf-c4c7-4d99-860c-2442a6b5a282",
    "_uuid": "c14ca5f7-33e3-42f8-b5e5-832064759489",
    "collapsed": false,
    "execution": {
     "iopub.execute_input": "2023-08-30T15:48:12.521652Z",
     "iopub.status.busy": "2023-08-30T15:48:12.521082Z",
     "iopub.status.idle": "2023-08-30T15:48:34.594259Z",
     "shell.execute_reply": "2023-08-30T15:48:34.593130Z",
     "shell.execute_reply.started": "2023-08-30T15:48:12.521589Z"
    },
    "jupyter": {
     "outputs_hidden": false
    }
   },
   "outputs": [
    {
     "name": "stdout",
     "output_type": "stream",
     "text": [
      "Collecting zip\n",
      "  Downloading https://files.pythonhosted.org/packages/dd/31/1c0dc71cd947a5c48f18b0ff9d8fd3a0da0bad9fa63c36dfd9715676926d/zip-0.0.2.tar.gz\n",
      "Collecting Flask-Admin>=1.0.4\n",
      "\u001b[?25l  Downloading https://files.pythonhosted.org/packages/61/b3/656c78dfef163517dbbc9fd106f0604e37b436ad51f9d9450b60e9407e35/Flask_Admin-1.6.1-py3-none-any.whl (7.5MB)\n",
      "\u001b[K     |████████████████████████████████| 7.5MB 3.4MB/s eta 0:00:01     |█████████████████████████████▌  | 6.9MB 3.4MB/s eta 0:00:01\n",
      "\u001b[?25hCollecting Flask-Bootstrap>=2.2.2-1\n",
      "\u001b[?25l  Downloading https://files.pythonhosted.org/packages/88/53/958ce7c2aa26280b7fd7f3eecbf13053f1302ee2acb1db58ef32e1c23c2a/Flask-Bootstrap-3.3.7.1.tar.gz (456kB)\n",
      "\u001b[K     |████████████████████████████████| 460kB 37.1MB/s eta 0:00:01\n",
      "\u001b[?25hCollecting Flask-Cache>=0.10.1\n",
      "\u001b[?25l  Downloading https://files.pythonhosted.org/packages/91/c4/f71095437bd4b691c63f240e72a20c57e2c216085cbc271f79665885d3da/Flask-Cache-0.13.1.tar.gz (45kB)\n",
      "\u001b[K     |████████████████████████████████| 51kB 4.6MB/s  eta 0:00:01\n",
      "\u001b[?25hCollecting Flask-FlatPages>=0.3\n",
      "  Downloading https://files.pythonhosted.org/packages/ed/9b/d86fa78a07bb72bfe13c018979dc31a73ad4dd725a8a764d600b4f46ddee/Flask_FlatPages-0.8.1-py2.py3-none-any.whl\n",
      "Collecting Flask-Gravatar>=0.2.4\n",
      "  Downloading https://files.pythonhosted.org/packages/58/4a/b20260e8d383d0037f2791dd8a3f3ea729ca9f02d7638677a34a236a8702/Flask_Gravatar-0.5.0-py2.py3-none-any.whl\n",
      "Collecting Flask-Login>=0.1.3\n",
      "  Downloading https://files.pythonhosted.org/packages/2b/83/ac5bf3279f969704fc1e63f050c50e10985e50fd340e6069ec7e09df5442/Flask_Login-0.5.0-py2.py3-none-any.whl\n",
      "Collecting Flask-Mail>=0.7.4\n",
      "\u001b[?25l  Downloading https://files.pythonhosted.org/packages/05/2f/6a545452040c2556559779db87148d2a85e78a26f90326647b51dc5e81e9/Flask-Mail-0.9.1.tar.gz (45kB)\n",
      "\u001b[K     |████████████████████████████████| 51kB 4.9MB/s  eta 0:00:01\n",
      "\u001b[?25hCollecting Flask-PyMongo>=0.2.1\n",
      "  Downloading https://files.pythonhosted.org/packages/67/b8/0322016b9ce09a64fba9018211e7c35fd51380527ffd9ea248744f389239/Flask_PyMongo-2.3.0-py2.py3-none-any.whl\n",
      "Collecting Flask-Restless>=0.9.1\n",
      "\u001b[?25l  Downloading https://files.pythonhosted.org/packages/ae/ad/14eee74ef110f2bd8641de98675037f037dd06d614f7c435671be66a55c7/Flask-Restless-0.17.0.tar.gz (42kB)\n",
      "\u001b[K     |████████████████████████████████| 51kB 4.4MB/s  eta 0:00:01\n",
      "\u001b[?25hCollecting Flask-SQLAlchemy>=0.16\n",
      "  Downloading https://files.pythonhosted.org/packages/26/2c/9088b6bd95bca539230bbe9ad446737ed391aab9a83aff403e18dded3e75/Flask_SQLAlchemy-2.5.1-py2.py3-none-any.whl\n",
      "Collecting Flask-Themes>=0.1.3\n",
      "  Downloading https://files.pythonhosted.org/packages/1a/12/5be3cc2a56c63277177a7e3db4a8f346b9f68a6641277bb3029d401688e3/Flask-Themes-0.1.3.tar.gz\n",
      "Collecting Flask-Uploads>=0.1.3\n",
      "  Downloading https://files.pythonhosted.org/packages/c9/a8/2c8e9ec04267d94b7852a374cebeb9a32d60f8cba83818af960e64fafbec/Flask-Uploads-0.2.1.tar.gz\n",
      "Collecting Flask-WTF>=0.8.2\n",
      "  Downloading https://files.pythonhosted.org/packages/3a/26/3803ee692eb9a8d21bf7ba1cecd649ce3a55899c65467bdfc1bad13ec50f/Flask_WTF-1.0.1-py3-none-any.whl\n",
      "Requirement already satisfied: Flask>=0.9 in /opt/conda/lib/python3.6/site-packages (from zip) (1.1.1)\n",
      "Collecting frozen-flask\n",
      "  Downloading https://files.pythonhosted.org/packages/42/02/251de2bf6dfa5dbc2ac55e0cb63d8b48a6e9e08bfc44bcced47560529081/Frozen_Flask-0.18-py3-none-any.whl\n",
      "Requirement already satisfied: Jinja2>=2.6 in /opt/conda/lib/python3.6/site-packages (from zip) (2.10.3)\n",
      "Requirement already satisfied: Markdown>=2.2.1 in /opt/conda/lib/python3.6/site-packages (from zip) (3.1.1)\n",
      "Requirement already satisfied: PyYAML>=3.11 in /opt/conda/lib/python3.6/site-packages (from zip) (5.1.2)\n",
      "Requirement already satisfied: SQLAlchemy>=0.8.0b2 in /opt/conda/lib/python3.6/site-packages (from zip) (1.3.11)\n",
      "Requirement already satisfied: Sphinx>=1.3.1 in /opt/conda/lib/python3.6/site-packages (from zip) (2.2.1)\n",
      "Collecting WTForms>=1.0.3\n",
      "\u001b[?25l  Downloading https://files.pythonhosted.org/packages/9a/38/58698b4bfbc0e93200af1fbe886cc6eb1ff31232b9224b4ebc12356e2f18/WTForms-3.0.0-py3-none-any.whl (136kB)\n",
      "\u001b[K     |████████████████████████████████| 143kB 28.3MB/s eta 0:00:01\n",
      "\u001b[?25hRequirement already satisfied: Werkzeug>=0.8.3 in /opt/conda/lib/python3.6/site-packages (from zip) (0.16.0)\n",
      "Collecting argparse>=1.2.1\n",
      "  Downloading https://files.pythonhosted.org/packages/f2/94/3af39d34be01a24a6e65433d19e107099374224905f1e0cc6bbe1fd22a2f/argparse-1.4.0-py2.py3-none-any.whl\n",
      "Collecting blinker>=1.2\n",
      "  Downloading https://files.pythonhosted.org/packages/30/41/caa5da2dbe6d26029dfe11d31dfa8132b4d6d30b6d6b61a24824075a5f06/blinker-1.5-py2.py3-none-any.whl\n",
      "Collecting bumpversion>=0.5.3\n",
      "  Downloading https://files.pythonhosted.org/packages/4e/ff/93f0db7b3ca337e9f2a289980083e858775dfb3672b38052c6911b36ea66/bumpversion-0.6.0-py2.py3-none-any.whl\n",
      "Requirement already satisfied: click>=6.3 in /opt/conda/lib/python3.6/site-packages (from zip) (7.0)\n",
      "Requirement already satisfied: colorama>=0.3.7 in /opt/conda/lib/python3.6/site-packages (from zip) (0.4.1)\n",
      "Requirement already satisfied: coverage>=4.0 in /opt/conda/lib/python3.6/site-packages (from zip) (4.5.4)\n",
      "Requirement already satisfied: cryptography>=1.0.1 in /opt/conda/lib/python3.6/site-packages (from zip) (2.3.1)\n",
      "Requirement already satisfied: flake8>=2.4.1 in /opt/conda/lib/python3.6/site-packages (from zip) (3.6.0)\n",
      "Requirement already satisfied: networkx>=1.11 in /opt/conda/lib/python3.6/site-packages (from zip) (2.4)\n",
      "Requirement already satisfied: pymongo>=2.5.1 in /opt/conda/lib/python3.6/site-packages (from zip) (3.9.0)\n",
      "Requirement already satisfied: pytest>=2.8.3 in /opt/conda/lib/python3.6/site-packages (from zip) (5.0.1)\n",
      "Requirement already satisfied: python-dateutil>=1.5 in /opt/conda/lib/python3.6/site-packages (from zip) (2.8.0)\n",
      "Requirement already satisfied: six>=1.10.0 in /opt/conda/lib/python3.6/site-packages (from zip) (1.13.0)\n",
      "Collecting tox>=2.1.1\n",
      "\u001b[?25l  Downloading https://files.pythonhosted.org/packages/31/c7/69ec9b8bbb4fe649b4bc960a53b837b4dace889137be5f23b4236a3e9f7c/tox-3.28.0-py2.py3-none-any.whl (86kB)\n",
      "\u001b[K     |████████████████████████████████| 92kB 7.1MB/s  eta 0:00:01\n",
      "\u001b[?25hCollecting watchdog>=0.8.3\n",
      "\u001b[?25l  Downloading https://files.pythonhosted.org/packages/79/21/ffd41427b724a6468c6c5c7f083f8e59948eabe2538538e3a15ff15c33cb/watchdog-2.3.1-py3-none-manylinux2014_x86_64.whl (80kB)\n",
      "\u001b[K     |████████████████████████████████| 81kB 6.6MB/s  eta 0:00:01\n",
      "\u001b[?25hRequirement already satisfied: wheel>=0.23.0 in /opt/conda/lib/python3.6/site-packages (from zip) (0.33.6)\n",
      "Collecting wsgiref>=0.1.2\n",
      "  Downloading https://files.pythonhosted.org/packages/41/9e/309259ce8dff8c596e8c26df86dbc4e848b9249fd36797fd60be456f03fc/wsgiref-0.1.2.zip\n",
      "\u001b[31m    ERROR: Command errored out with exit status 1:\n",
      "     command: /opt/conda/bin/python -c 'import sys, setuptools, tokenize; sys.argv[0] = '\"'\"'/tmp/pip-install-wzbemok1/wsgiref/setup.py'\"'\"'; __file__='\"'\"'/tmp/pip-install-wzbemok1/wsgiref/setup.py'\"'\"';f=getattr(tokenize, '\"'\"'open'\"'\"', open)(__file__);code=f.read().replace('\"'\"'\\r\\n'\"'\"', '\"'\"'\\n'\"'\"');f.close();exec(compile(code, __file__, '\"'\"'exec'\"'\"'))' egg_info --egg-base /tmp/pip-install-wzbemok1/wsgiref/pip-egg-info\n",
      "         cwd: /tmp/pip-install-wzbemok1/wsgiref/\n",
      "    Complete output (8 lines):\n",
      "    Traceback (most recent call last):\n",
      "      File \"<string>\", line 1, in <module>\n",
      "      File \"/tmp/pip-install-wzbemok1/wsgiref/setup.py\", line 5, in <module>\n",
      "        import ez_setup\n",
      "      File \"/tmp/pip-install-wzbemok1/wsgiref/ez_setup/__init__.py\", line 170\n",
      "        print \"Setuptools version\",version,\"or greater has been installed.\"\n",
      "                                 ^\n",
      "    SyntaxError: Missing parentheses in call to 'print'. Did you mean print(\"Setuptools version\",version,\"or greater has been installed.\")?\n",
      "    ----------------------------------------\u001b[0m\n",
      "\u001b[31mERROR: Command errored out with exit status 1: python setup.py egg_info Check the logs for full command output.\u001b[0m\n"
     ]
    }
   ],
   "source": [
    "!pip install zip"
   ]
  },
  {
   "cell_type": "code",
   "execution_count": 115,
   "metadata": {
    "_cell_guid": "8f435d17-365a-46d1-8dbb-6dd760ca160c",
    "_uuid": "efb69948-2e25-4533-8415-755cc50b0d5c",
    "collapsed": false,
    "execution": {
     "iopub.execute_input": "2023-08-30T15:48:34.598944Z",
     "iopub.status.busy": "2023-08-30T15:48:34.598588Z",
     "iopub.status.idle": "2023-08-30T15:48:34.611414Z",
     "shell.execute_reply": "2023-08-30T15:48:34.610168Z",
     "shell.execute_reply.started": "2023-08-30T15:48:34.598868Z"
    },
    "jupyter": {
     "outputs_hidden": false
    }
   },
   "outputs": [],
   "source": [
    "import zipfile\n",
    "import os\n",
    "from IPython.display import FileLink\n",
    "\n",
    "def zip_dir(directory = os.curdir, file_name = 'directory.zip'):\n",
    "    \"\"\"\n",
    "    zip all the files in a directory\n",
    "    \n",
    "    Parameters\n",
    "    _____\n",
    "    directory: str\n",
    "        directory needs to be zipped, defualt is current working directory\n",
    "        \n",
    "    file_name: str\n",
    "        the name of the zipped file (including .zip), default is 'directory.zip'\n",
    "        \n",
    "    Returns\n",
    "    _____\n",
    "    Creates a hyperlink, which can be used to download the zip file)\n",
    "    \"\"\"\n",
    "    os.chdir(directory)\n",
    "    zip_ref = zipfile.ZipFile(file_name, mode='w')\n",
    "    for folder, _, files in os.walk(directory):\n",
    "        for file in files:\n",
    "            if file_name in file:\n",
    "                pass\n",
    "            else:\n",
    "                zip_ref.write(os.path.join(folder, file))\n",
    "\n",
    "    return FileLink(file_name)"
   ]
  },
  {
   "cell_type": "code",
   "execution_count": 116,
   "metadata": {
    "_cell_guid": "cf177234-2928-460d-b31c-9251c5afb608",
    "_uuid": "3a707298-aed4-4db4-8c95-b855ed8f6281",
    "collapsed": false,
    "execution": {
     "iopub.execute_input": "2023-08-30T15:48:34.614018Z",
     "iopub.status.busy": "2023-08-30T15:48:34.613619Z",
     "iopub.status.idle": "2023-08-30T15:48:34.750535Z",
     "shell.execute_reply": "2023-08-30T15:48:34.749099Z",
     "shell.execute_reply.started": "2023-08-30T15:48:34.613955Z"
    },
    "jupyter": {
     "outputs_hidden": false
    }
   },
   "outputs": [
    {
     "data": {
      "text/html": [
       "<a href='directory.zip' target='_blank'>directory.zip</a><br>"
      ],
      "text/plain": [
       "/kaggle/working/directory.zip"
      ]
     },
     "execution_count": 116,
     "metadata": {},
     "output_type": "execute_result"
    }
   ],
   "source": [
    "zip_dir()"
   ]
  },
  {
   "cell_type": "code",
   "execution_count": null,
   "metadata": {},
   "outputs": [],
   "source": []
  },
  {
   "cell_type": "code",
   "execution_count": 117,
   "metadata": {
    "_cell_guid": "cefa208f-7d47-487b-9857-e5a471130436",
    "_uuid": "5743a987-de96-459a-9d1b-96da6cd2ce59",
    "collapsed": false,
    "execution": {
     "iopub.execute_input": "2023-08-30T15:48:34.753126Z",
     "iopub.status.busy": "2023-08-30T15:48:34.752457Z",
     "iopub.status.idle": "2023-08-30T15:48:34.758360Z",
     "shell.execute_reply": "2023-08-30T15:48:34.757099Z",
     "shell.execute_reply.started": "2023-08-30T15:48:34.753061Z"
    },
    "jupyter": {
     "outputs_hidden": false
    }
   },
   "outputs": [],
   "source": [
    "# np.shape(y_train)"
   ]
  },
  {
   "cell_type": "code",
   "execution_count": 118,
   "metadata": {
    "_cell_guid": "8dca5f71-8ba4-4610-960b-04f0d74a792d",
    "_uuid": "e0734ef2-e204-4957-b8e1-d96045b895b8",
    "collapsed": false,
    "execution": {
     "iopub.execute_input": "2023-08-30T15:48:34.760878Z",
     "iopub.status.busy": "2023-08-30T15:48:34.760350Z",
     "iopub.status.idle": "2023-08-30T15:48:34.770095Z",
     "shell.execute_reply": "2023-08-30T15:48:34.768758Z",
     "shell.execute_reply.started": "2023-08-30T15:48:34.760672Z"
    },
    "jupyter": {
     "outputs_hidden": false
    }
   },
   "outputs": [],
   "source": [
    "# from keras.wrappers.scikit_learn import KerasClassifier\n",
    "# from sklearn.model_selection import GridSearchCV\n",
    "\n",
    "# # define a function that returns the Keras model\n",
    "# def create_model(lr=0.0005, lstm_units=64):\n",
    "#     early_stopping = EarlyStopping(monitor='val_loss', mode='min', verbose=1, patience=50)\n",
    "#     model = Sequential()\n",
    "#     model.add(Embedding(input_dim=n_words+1, output_dim=128, input_length=max_len))\n",
    "#     model.add(Dropout(0.5))\n",
    "#     model.add(Bidirectional(LSTM(units=lstm_units, return_sequences=True, recurrent_dropout=0.1)))\n",
    "#     model.add(TimeDistributed(Dense(n_tags, activation=\"relu\")))\n",
    "#     crf_layer = CRF(n_tags)\n",
    "#     model.add(crf_layer)\n",
    "    \n",
    "#     adam = k.optimizers.Adam(lr=lr, beta_1=0.9, beta_2=0.999)\n",
    "#     model.compile(optimizer='adam', loss=crf_layer.loss_function, metrics=[crf_layer.accuracy])\n",
    "#     return model\n",
    "\n",
    "# # create the Keras model\n",
    "# model = KerasClassifier(build_fn=create_model, epochs=100, batch_size=256, verbose=1)\n",
    "\n",
    "\n",
    "# # define the grid search parameters\n",
    "# # learning_rates = [0.001, 0.0005, 0.0001]\n",
    "# # lstm_units = [32, 64, 128]\n",
    "# # param_grid = dict(lr=learning_rates, lstm_units=lstm_units)\n",
    "\n",
    "# # perform the grid search\n",
    "# # grid = GridSearchCV(estimator=model, param_grid=param_grid, cv=5, scoring='accuracy')\n",
    "# grid_result = model.fit(X_train, y_train)"
   ]
  },
  {
   "cell_type": "code",
   "execution_count": 119,
   "metadata": {
    "_cell_guid": "c0f423b9-3922-47aa-a9eb-5f3b084f6cbd",
    "_uuid": "2772b297-bc78-4b5a-bb46-df62ef18c568",
    "collapsed": false,
    "execution": {
     "iopub.execute_input": "2023-08-30T15:48:34.772777Z",
     "iopub.status.busy": "2023-08-30T15:48:34.772176Z",
     "iopub.status.idle": "2023-08-30T15:48:34.788464Z",
     "shell.execute_reply": "2023-08-30T15:48:34.787240Z",
     "shell.execute_reply.started": "2023-08-30T15:48:34.772539Z"
    },
    "jupyter": {
     "outputs_hidden": false
    }
   },
   "outputs": [],
   "source": [
    "# np.shape(X_train)"
   ]
  },
  {
   "cell_type": "code",
   "execution_count": 120,
   "metadata": {
    "_cell_guid": "047f0cf0-8481-4ebc-b666-e57e978af307",
    "_kg_hide-input": true,
    "_kg_hide-output": true,
    "_uuid": "8622a5b7-3790-40d2-aa30-5b5343a7f6a0",
    "collapsed": false,
    "execution": {
     "iopub.execute_input": "2023-08-30T15:48:34.791475Z",
     "iopub.status.busy": "2023-08-30T15:48:34.790876Z",
     "iopub.status.idle": "2023-08-30T15:48:34.800156Z",
     "shell.execute_reply": "2023-08-30T15:48:34.799088Z",
     "shell.execute_reply.started": "2023-08-30T15:48:34.791246Z"
    },
    "jupyter": {
     "outputs_hidden": false
    }
   },
   "outputs": [],
   "source": [
    "# np.shape(y_train)"
   ]
  },
  {
   "cell_type": "code",
   "execution_count": 121,
   "metadata": {
    "_cell_guid": "75575734-0c33-4941-afd0-07fd8ac6ff0e",
    "_uuid": "d41efa9b-70c3-4621-9422-c94bb6c25444",
    "collapsed": false,
    "execution": {
     "iopub.execute_input": "2023-08-30T15:48:34.802946Z",
     "iopub.status.busy": "2023-08-30T15:48:34.802336Z",
     "iopub.status.idle": "2023-08-30T15:48:34.811165Z",
     "shell.execute_reply": "2023-08-30T15:48:34.810143Z",
     "shell.execute_reply.started": "2023-08-30T15:48:34.802666Z"
    },
    "jupyter": {
     "outputs_hidden": false
    }
   },
   "outputs": [],
   "source": [
    "# %%bash\n",
    "# pip install transformers==4.1.1"
   ]
  },
  {
   "cell_type": "code",
   "execution_count": 122,
   "metadata": {
    "_cell_guid": "40a886a0-7eff-4bef-87c0-a36040a55757",
    "_uuid": "47098d2f-803b-42cd-8a32-570028596a6c",
    "collapsed": false,
    "execution": {
     "iopub.execute_input": "2023-08-30T15:48:34.814005Z",
     "iopub.status.busy": "2023-08-30T15:48:34.813198Z",
     "iopub.status.idle": "2023-08-30T15:48:34.820955Z",
     "shell.execute_reply": "2023-08-30T15:48:34.820184Z",
     "shell.execute_reply.started": "2023-08-30T15:48:34.813934Z"
    },
    "jupyter": {
     "outputs_hidden": false
    }
   },
   "outputs": [],
   "source": [
    "# import numpy as np\n",
    "# import pandas as pd\n",
    "# import tensorflow as tf\n",
    "# import transformers\n",
    "# from transformers import BertTokenizer, TFBertModel\n",
    "\n",
    "# # Load the BERT tokenizer and model\n",
    "# tokenizer = BertTokenizer.from_pretrained('bert-base-cased')\n",
    "# model = TFBertModel.from_pretrained('bert-base-cased')\n",
    "\n",
    "# # Define the input and output layers of the model\n",
    "# input_ids = tf.keras.layers.Input(shape=(128,), dtype=tf.int32, name='input_ids')\n",
    "# attention_mask = tf.keras.layers.Input(shape=(128,), dtype=tf.int32, name='attention_mask')\n",
    "# outputs = model({'input_ids': input_ids, 'attention_mask': attention_mask})[0]\n",
    "# outputs = tf.keras.layers.Dropout(0.1)(outputs)\n",
    "# outputs = tf.keras.layers.Dense(7, activation='softmax')(outputs)\n",
    "\n",
    "# # Define the model\n",
    "# model = tf.keras.Model(inputs=[input_ids, attention_mask], outputs=outputs)\n",
    "\n",
    "# # Compile the model\n",
    "# optimizer = tf.keras.optimizers.Adam(lr=5e-5)\n",
    "# loss = tf.keras.losses.SparseCategoricalCrossentropy()\n",
    "# accuracy = tf.keras.metrics.SparseCategoricalAccuracy('accuracy')\n",
    "# model.compile(optimizer=optimizer, loss=loss, metrics=[accuracy])\n",
    "\n",
    "\n",
    "# history = model.fit(X_train, np.array(y_train), epochs=100, batch_size=256, verbose=1,validation_split=0.1)"
   ]
  },
  {
   "cell_type": "code",
   "execution_count": 123,
   "metadata": {
    "_cell_guid": "3ec5819d-0931-47b9-8a56-38f983e1bca8",
    "_uuid": "a63384c5-819f-4b27-8a5f-a8d763149f7e",
    "collapsed": false,
    "execution": {
     "iopub.execute_input": "2023-08-30T15:48:34.823741Z",
     "iopub.status.busy": "2023-08-30T15:48:34.822993Z",
     "iopub.status.idle": "2023-08-30T15:48:34.838903Z",
     "shell.execute_reply": "2023-08-30T15:48:34.837939Z",
     "shell.execute_reply.started": "2023-08-30T15:48:34.823650Z"
    },
    "jupyter": {
     "outputs_hidden": false
    }
   },
   "outputs": [],
   "source": [
    "hist = pd.DataFrame(history.history)"
   ]
  },
  {
   "cell_type": "code",
   "execution_count": 124,
   "metadata": {
    "_cell_guid": "594cde5f-4c60-41a5-b4da-d94bee55622f",
    "_uuid": "75a17468-3c5d-4222-a2a5-0204109e936d",
    "collapsed": false,
    "execution": {
     "iopub.execute_input": "2023-08-30T15:48:34.841672Z",
     "iopub.status.busy": "2023-08-30T15:48:34.841038Z",
     "iopub.status.idle": "2023-08-30T15:48:35.206501Z",
     "shell.execute_reply": "2023-08-30T15:48:35.205516Z",
     "shell.execute_reply.started": "2023-08-30T15:48:34.841607Z"
    },
    "jupyter": {
     "outputs_hidden": false
    }
   },
   "outputs": [
    {
     "data": {
      "image/png": "[encoded data removed]",
      "text/plain": [
       "<Figure size 432x288 with 1 Axes>"
      ]
     },
     "metadata": {
      "needs_background": "light"
     },
     "output_type": "display_data"
    },
    {
     "data": {
      "text/plain": [
       "<Figure size 864x864 with 0 Axes>"
      ]
     },
     "metadata": {},
     "output_type": "display_data"
    }
   ],
   "source": [
    "import matplotlib.pyplot as plt\n",
    "fig, ax = plt.subplots()\n",
    "plt.style.use(\"ggplot\")\n",
    "plt.figure(figsize=(12,12))\n",
    "l1, = ax.plot(hist[\"crf_viterbi_accuracy\"], label = 'Train sample', color='blue', linewidth = 2)\n",
    "l2, = ax.plot(hist[\"val_crf_viterbi_accuracy\"], label = 'Validation sample',color='red', linewidth = 2)\n",
    "ax.set(xlabel='Epoch', ylabel='CRF Viterbi Accuracy')\n",
    "ax.legend((l1,l2),('Train sample','Validation sample'))\n",
    "plt.show()"
   ]
  },
  {
   "cell_type": "code",
   "execution_count": 125,
   "metadata": {
    "_cell_guid": "652f2ac1-a9aa-44c5-b711-63a8aa41d3bb",
    "_kg_hide-output": true,
    "_uuid": "076e586d-faf8-4c16-830e-2ac509dc16e7",
    "collapsed": false,
    "execution": {
     "iopub.execute_input": "2023-08-30T15:48:35.209025Z",
     "iopub.status.busy": "2023-08-30T15:48:35.208346Z",
     "iopub.status.idle": "2023-08-30T15:48:52.359772Z",
     "shell.execute_reply": "2023-08-30T15:48:52.358291Z",
     "shell.execute_reply.started": "2023-08-30T15:48:35.208956Z"
    },
    "jupyter": {
     "outputs_hidden": false
    }
   },
   "outputs": [
    {
     "name": "stdout",
     "output_type": "stream",
     "text": [
      "Collecting seqeval\n",
      "\u001b[?25l  Downloading https://files.pythonhosted.org/packages/9d/2d/233c79d5b4e5ab1dbf111242299153f3caddddbb691219f363ad55ce783d/seqeval-1.2.2.tar.gz (43kB)\n",
      "\u001b[K     |████████████████████████████████| 51kB 2.5MB/s eta 0:00:011\n",
      "\u001b[?25hRequirement already satisfied: numpy>=1.14.0 in /opt/conda/lib/python3.6/site-packages (from seqeval) (1.17.4)\n",
      "Requirement already satisfied: scikit-learn>=0.21.3 in /opt/conda/lib/python3.6/site-packages (from seqeval) (0.21.3)\n",
      "Requirement already satisfied: scipy>=0.17.0 in /opt/conda/lib/python3.6/site-packages (from scikit-learn>=0.21.3->seqeval) (1.3.3)\n",
      "Requirement already satisfied: joblib>=0.11 in /opt/conda/lib/python3.6/site-packages (from scikit-learn>=0.21.3->seqeval) (0.14.0)\n",
      "Building wheels for collected packages: seqeval\n",
      "  Building wheel for seqeval (setup.py) ... \u001b[?25ldone\n",
      "\u001b[?25h  Created wheel for seqeval: filename=seqeval-1.2.2-cp36-none-any.whl size=16172 sha256=2d5a636dff08d9f88c236e9aaaf015e2d78571f74fd7b143fd3ea89a9e0b5fdc\n",
      "  Stored in directory: /root/.cache/pip/wheels/52/df/1b/45d75646c37428f7e626214704a0e35bd3cfc32eda37e59e5f\n",
      "Successfully built seqeval\n",
      "Installing collected packages: seqeval\n",
      "Successfully installed seqeval-1.2.2\n"
     ]
    }
   ],
   "source": [
    "!pip install seqeval"
   ]
  },
  {
   "cell_type": "code",
   "execution_count": 126,
   "metadata": {
    "_cell_guid": "d12ac4b8-c567-4e6d-8a5b-ec4f720b2665",
    "_uuid": "1e3ba2a5-9f45-4a64-b1b4-391c82a1b9b3",
    "collapsed": false,
    "execution": {
     "iopub.execute_input": "2023-08-30T15:48:52.363368Z",
     "iopub.status.busy": "2023-08-30T15:48:52.362967Z",
     "iopub.status.idle": "2023-08-30T15:48:52.382464Z",
     "shell.execute_reply": "2023-08-30T15:48:52.381033Z",
     "shell.execute_reply.started": "2023-08-30T15:48:52.363303Z"
    },
    "jupyter": {
     "outputs_hidden": false
    }
   },
   "outputs": [],
   "source": [
    "from seqeval.metrics import precision_score, recall_score, f1_score, classification_report"
   ]
  },
  {
   "cell_type": "code",
   "execution_count": 127,
   "metadata": {
    "_cell_guid": "d64628b5-4094-43aa-8e88-e505158e621a",
    "_uuid": "9d5eb7e4-85b0-45ab-a63c-ff2941d18e31",
    "collapsed": false,
    "execution": {
     "iopub.execute_input": "2023-08-30T15:48:52.385326Z",
     "iopub.status.busy": "2023-08-30T15:48:52.384584Z",
     "iopub.status.idle": "2023-08-30T15:49:19.080258Z",
     "shell.execute_reply": "2023-08-30T15:49:19.079072Z",
     "shell.execute_reply.started": "2023-08-30T15:48:52.385263Z"
    },
    "jupyter": {
     "outputs_hidden": false
    }
   },
   "outputs": [
    {
     "name": "stdout",
     "output_type": "stream",
     "text": [
      "1120/1120 [==============================] - 26s 24ms/step\n"
     ]
    }
   ],
   "source": [
    "train_pred = model.predict(X_train, verbose=1)"
   ]
  },
  {
   "cell_type": "code",
   "execution_count": 128,
   "metadata": {
    "_cell_guid": "ff40bc58-6cdb-47fe-9029-938d94ec8494",
    "_uuid": "e90fcb75-987f-4aa0-946a-a3065969b174",
    "collapsed": false,
    "execution": {
     "iopub.execute_input": "2023-08-30T15:49:19.082388Z",
     "iopub.status.busy": "2023-08-30T15:49:19.081969Z",
     "iopub.status.idle": "2023-08-30T15:49:25.586651Z",
     "shell.execute_reply": "2023-08-30T15:49:25.585704Z",
     "shell.execute_reply.started": "2023-08-30T15:49:19.082325Z"
    },
    "jupyter": {
     "outputs_hidden": false
    }
   },
   "outputs": [
    {
     "name": "stdout",
     "output_type": "stream",
     "text": [
      "280/280 [==============================] - 6s 23ms/step\n"
     ]
    }
   ],
   "source": [
    "test_pred = model.predict(X_test, verbose=1)"
   ]
  },
  {
   "cell_type": "code",
   "execution_count": 129,
   "metadata": {
    "_cell_guid": "8d90cf27-9d6e-42cf-8cfb-58fd1d66f4f0",
    "_uuid": "5cee285a-0b0f-44e5-a200-2ce5744fea69",
    "collapsed": false,
    "execution": {
     "iopub.execute_input": "2023-08-30T15:49:25.589479Z",
     "iopub.status.busy": "2023-08-30T15:49:25.589096Z",
     "iopub.status.idle": "2023-08-30T15:49:25.594733Z",
     "shell.execute_reply": "2023-08-30T15:49:25.593332Z",
     "shell.execute_reply.started": "2023-08-30T15:49:25.589415Z"
    },
    "jupyter": {
     "outputs_hidden": false
    }
   },
   "outputs": [],
   "source": [
    "# def pred2label(pred):\n",
    "#     out = []\n",
    "#     for pred_i in pred:\n",
    "#         out_i = []\n",
    "#         for p in pred_i:\n",
    "#             p_i = np.argmax(p)\n",
    "#             tag = idx2tag[p_i]\n",
    "#             if isinstance(tag, float):\n",
    "#                 tag = str(tag)\n",
    "#             out_i.append(tag.replace(\"PAD\", \"O\").replace(\"nan\", \"O\"))\n",
    "#         out.append(out_i)\n",
    "#     return out"
   ]
  },
  {
   "cell_type": "code",
   "execution_count": 130,
   "metadata": {
    "_cell_guid": "c8fb0855-b526-4ddd-997b-baf3c6f184b2",
    "_uuid": "53dea444-9ded-44dd-9afa-34606defd44d",
    "collapsed": false,
    "execution": {
     "iopub.execute_input": "2023-08-30T15:49:25.597453Z",
     "iopub.status.busy": "2023-08-30T15:49:25.596877Z",
     "iopub.status.idle": "2023-08-30T15:49:25.611839Z",
     "shell.execute_reply": "2023-08-30T15:49:25.610671Z",
     "shell.execute_reply.started": "2023-08-30T15:49:25.597346Z"
    },
    "jupyter": {
     "outputs_hidden": false
    }
   },
   "outputs": [],
   "source": [
    "def pred2label(pred):\n",
    "    out = []\n",
    "    for pred_i in pred:\n",
    "        out_i = []\n",
    "        for p in pred_i:\n",
    "            p_i = np.argmax(p)\n",
    "            out_i.append(idx2tag[p_i].replace(\"PAD\", \"O\"))\n",
    "        out.append(out_i)\n",
    "    return out"
   ]
  },
  {
   "cell_type": "code",
   "execution_count": 131,
   "metadata": {
    "_cell_guid": "8894a16b-ff77-4ac0-9f03-6652a90061e5",
    "_uuid": "59923c27-dbef-4841-897a-7edf012307f7",
    "collapsed": false,
    "execution": {
     "iopub.execute_input": "2023-08-30T15:49:25.614454Z",
     "iopub.status.busy": "2023-08-30T15:49:25.613665Z",
     "iopub.status.idle": "2023-08-30T15:49:41.152659Z",
     "shell.execute_reply": "2023-08-30T15:49:41.151620Z",
     "shell.execute_reply.started": "2023-08-30T15:49:25.614178Z"
    },
    "jupyter": {
     "outputs_hidden": false
    }
   },
   "outputs": [],
   "source": [
    "train_pred_labels = pred2label(train_pred)\n",
    "train_actual_labels = pred2label(y_train)\n",
    "\n",
    "test_pred_labels = pred2label(test_pred)\n",
    "test_actual_labels = pred2label(y_test)"
   ]
  },
  {
   "cell_type": "code",
   "execution_count": 132,
   "metadata": {
    "_cell_guid": "c5829467-325b-48e3-8ef9-7ba359e8c472",
    "_uuid": "9a6caf15-9cd7-40b2-b1d2-cdbf3f7f2578",
    "collapsed": false,
    "execution": {
     "iopub.execute_input": "2023-08-30T15:49:41.154786Z",
     "iopub.status.busy": "2023-08-30T15:49:41.154421Z",
     "iopub.status.idle": "2023-08-30T15:49:50.240929Z",
     "shell.execute_reply": "2023-08-30T15:49:50.239011Z",
     "shell.execute_reply.started": "2023-08-30T15:49:41.154727Z"
    },
    "jupyter": {
     "outputs_hidden": false
    }
   },
   "outputs": [
    {
     "name": "stdout",
     "output_type": "stream",
     "text": [
      "F1-score: 99.9%\n",
      "F1-score: 91.1%\n"
     ]
    }
   ],
   "source": [
    "print(\"F1-score: {:.1%}\".format(f1_score(train_actual_labels, train_pred_labels)))\n",
    "print(\"F1-score: {:.1%}\".format(f1_score(test_actual_labels, test_pred_labels)))"
   ]
  },
  {
   "cell_type": "code",
   "execution_count": 133,
   "metadata": {
    "_cell_guid": "1257b8f4-7621-4d0a-adab-097597c34ae6",
    "_uuid": "89cb3433-f710-4253-af6a-3126eec5c0a9",
    "collapsed": false,
    "execution": {
     "iopub.execute_input": "2023-08-30T15:49:50.243257Z",
     "iopub.status.busy": "2023-08-30T15:49:50.242677Z",
     "iopub.status.idle": "2023-08-30T15:50:26.178924Z",
     "shell.execute_reply": "2023-08-30T15:50:26.177683Z",
     "shell.execute_reply.started": "2023-08-30T15:49:50.243026Z"
    },
    "jupyter": {
     "outputs_hidden": false
    }
   },
   "outputs": [
    {
     "name": "stdout",
     "output_type": "stream",
     "text": [
      "              precision    recall  f1-score   support\n",
      "\n",
      " BESKRIVELSE       1.00      1.00      1.00      7617\n",
      "\n",
      "   micro avg       1.00      1.00      1.00      7617\n",
      "   macro avg       1.00      1.00      1.00      7617\n",
      "weighted avg       1.00      1.00      1.00      7617\n",
      "\n"
     ]
    }
   ],
   "source": [
    "print(classification_report(train_actual_labels, train_pred_labels))"
   ]
  },
  {
   "cell_type": "code",
   "execution_count": 134,
   "metadata": {
    "_cell_guid": "ff8dc97d-4ba6-4bf2-bbca-63c4a4ebf10a",
    "_uuid": "bb02ec27-634b-4e76-b6b7-23b0bff0f339",
    "collapsed": false,
    "execution": {
     "iopub.execute_input": "2023-08-30T15:50:26.181467Z",
     "iopub.status.busy": "2023-08-30T15:50:26.180867Z",
     "iopub.status.idle": "2023-08-30T15:50:34.965344Z",
     "shell.execute_reply": "2023-08-30T15:50:34.963079Z",
     "shell.execute_reply.started": "2023-08-30T15:50:26.181210Z"
    },
    "jupyter": {
     "outputs_hidden": false
    }
   },
   "outputs": [
    {
     "name": "stdout",
     "output_type": "stream",
     "text": [
      "              precision    recall  f1-score   support\n",
      "\n",
      " BESKRIVELSE       0.92      0.91      0.91      2053\n",
      "\n",
      "   micro avg       0.92      0.91      0.91      2053\n",
      "   macro avg       0.92      0.91      0.91      2053\n",
      "weighted avg       0.92      0.91      0.91      2053\n",
      "\n"
     ]
    }
   ],
   "source": [
    "print(classification_report(test_actual_labels, test_pred_labels))"
   ]
  },
  {
   "cell_type": "code",
   "execution_count": 135,
   "metadata": {
    "_cell_guid": "997a9aaa-9fd7-4028-a9d9-68e5ec882d96",
    "_uuid": "d7159f34-634b-4fa1-85c7-f2f1d8db599c",
    "collapsed": false,
    "execution": {
     "iopub.execute_input": "2023-08-30T15:50:34.967557Z",
     "iopub.status.busy": "2023-08-30T15:50:34.967215Z",
     "iopub.status.idle": "2023-08-30T15:50:43.574684Z",
     "shell.execute_reply": "2023-08-30T15:50:43.573744Z",
     "shell.execute_reply.started": "2023-08-30T15:50:34.967499Z"
    },
    "jupyter": {
     "outputs_hidden": false
    }
   },
   "outputs": [
    {
     "name": "stdout",
     "output_type": "stream",
     "text": [
      "280/280 [==============================] - 9s 31ms/step\n"
     ]
    },
    {
     "data": {
      "text/plain": [
       "[0.004580638018835868, 0.9988043904304504]"
      ]
     },
     "execution_count": 135,
     "metadata": {},
     "output_type": "execute_result"
    }
   ],
   "source": [
    "model.evaluate(X_test, np.array(y_test))"
   ]
  },
  {
   "cell_type": "code",
   "execution_count": 136,
   "metadata": {
    "_cell_guid": "12565c58-f525-4e35-a608-9eb77f251687",
    "_uuid": "b4ef84b0-12b5-42d5-a327-5736f6ec47d2",
    "collapsed": false,
    "execution": {
     "iopub.execute_input": "2023-08-30T15:50:43.576656Z",
     "iopub.status.busy": "2023-08-30T15:50:43.576302Z",
     "iopub.status.idle": "2023-08-30T15:50:43.582513Z",
     "shell.execute_reply": "2023-08-30T15:50:43.581413Z",
     "shell.execute_reply.started": "2023-08-30T15:50:43.576598Z"
    },
    "jupyter": {
     "outputs_hidden": false
    }
   },
   "outputs": [],
   "source": [
    "# p = model.predict(np.array([X_test[i]]))\n",
    "# p = np.argmax(p, axis=-1)\n",
    "# true = np.argmax(y_test[i], -1)\n",
    "# print(\"{},{},{}\".format(\"Word\", \"True\", \"Pred\"))\n",
    "# for w, t, pred in zip(X_test[i], true, p[0]):\n",
    "# #     if w != 0:\n",
    "#     print(\"{},{},{}\".format(words[w-1], tags[t], tags[pred]))"
   ]
  },
  {
   "cell_type": "code",
   "execution_count": 137,
   "metadata": {
    "_cell_guid": "a523e591-2140-4c5b-a840-3e62fdde8e43",
    "_uuid": "984972d2-349d-4fbb-8486-9e2a991d3875",
    "collapsed": false,
    "execution": {
     "iopub.execute_input": "2023-08-30T15:50:43.585281Z",
     "iopub.status.busy": "2023-08-30T15:50:43.584524Z",
     "iopub.status.idle": "2023-08-30T15:50:44.316137Z",
     "shell.execute_reply": "2023-08-30T15:50:44.315244Z",
     "shell.execute_reply.started": "2023-08-30T15:50:43.585221Z"
    },
    "jupyter": {
     "outputs_hidden": false
    }
   },
   "outputs": [
    {
     "name": "stdout",
     "output_type": "stream",
     "text": [
      "Word,True,Pred\n",
      "Faktura,O,O\n",
      "Åbningstider,O,O\n",
      "Mandag,O,O\n",
      "-,O,O\n",
      "fredag:,O,O\n",
      "Lørdag:,O,O\n",
      "Søndag:,O,O\n",
      "6:00,O,O\n",
      "-,O,O\n",
      "17:00,O,O\n",
      "8:00,O,O\n",
      "-,O,O\n",
      "14:00,O,O\n",
      "8:00,O,O\n",
      "-,O,O\n",
      "14:00,O,O\n",
      "inco,O,O\n",
      "CC,O,O\n",
      "Glostrup,O,O\n",
      "A/S,O,O\n",
      "Ejby,O,O\n",
      "Industrivej,O,O\n",
      "111,,O,O\n",
      "DK,O,O\n",
      "2600,O,O\n",
      "Glostrup,O,O\n",
      "Tlf:,O,O\n",
      "72108181,O,O\n",
      "Fax:,O,O\n",
      "621391,O,O\n",
      "Gorms,O,O\n",
      "Food,O,O\n",
      "&,O,O\n",
      "Catering,O,O\n",
      "ApS,O,O\n",
      "*S*,O,O\n",
      "Att.,O,O\n",
      "Christian,O,O\n",
      "Madsen,O,O\n",
      "Marielundvej,O,O\n",
      "34,O,O\n",
      "A,O,O\n",
      "2730,O,O\n",
      "Herlev,O,O\n",
      "Kortholder:,O,O\n",
      "Jack,O,O\n",
      "Christensen,O,O\n",
      "Økologikontrolmyndighed:,O,O\n",
      "DK-ØKO-100,O,O\n",
      "Bank,O,O\n",
      "896,O,O\n",
      "1039038,O,O\n",
      "CVR-nr.,O,O\n",
      "37589608,O,O\n",
      "Side,O,O\n",
      "1,O,O\n",
      "Fakturanr.,O,O\n",
      "Fakturadato,O,O\n",
      "Fakturatidspunkt,O,O\n",
      "Kundenr.,O,O\n",
      "Kunde,O,O\n",
      "CVR-nr.,O,O\n",
      "Betales,O,O\n",
      "inden,O,O\n",
      "Terminal,O,O\n",
      "Bonnr.,O,O\n",
      "302,O,O\n",
      "Eksp.,O,O\n",
      "96020017,O,O\n",
      "3302321766,O,O\n",
      "14,O,O\n",
      "juni,O,O\n",
      "2022,O,O\n",
      "08:19:48,O,O\n",
      "621391,O,O\n",
      "29816271,O,O\n",
      "15,O,O\n",
      "juni,O,O\n",
      "2022,O,O\n",
      "4,O,O\n",
      "302000326265,O,O\n",
      "Kortnr.,O,O\n",
      "Varenr.,O,O\n",
      "Antal,O,O\n",
      "Enhed,O,O\n",
      "Antal,O,O\n",
      "pr.,O,O\n",
      "enhed,O,O\n",
      "Beskrivelse,O,O\n",
      "Listepris,O,O\n",
      "excl.,O,O\n",
      "moms,O,O\n",
      "Enhedspris,O,O\n",
      "Beløb,O,O\n",
      "201414,O,O\n",
      "114931,O,O\n",
      "1,O,O\n",
      "1,O,O\n",
      "PS,O,O\n",
      "STK,O,O\n",
      "1,O,O\n",
      "PS,O,O\n",
      "1,O,O\n",
      "STK,O,O\n",
      "GRØNT,O,O\n",
      "Rødløg,B-BESKRIVELSE,B-BESKRIVELSE\n",
      "hele,I-BESKRIVELSE,I-BESKRIVELSE\n",
      "skrællet,I-BESKRIVELSE,I-BESKRIVELSE\n",
      "5kg,I-BESKRIVELSE,I-BESKRIVELSE\n",
      "Tomater,B-BESKRIVELSE,B-BESKRIVELSE\n",
      "stilk,I-BESKRIVELSE,I-BESKRIVELSE\n",
      "5kg,I-BESKRIVELSE,I-BESKRIVELSE\n",
      "Oprindelse,O,O\n",
      "på,O,O\n",
      "frugt,O,O\n",
      "og,O,O\n",
      "grønt,O,O\n",
      "fremgår,O,O\n",
      "af,O,O\n",
      "varen,,O,O\n",
      "hvis,O,O\n",
      "det,O,O\n",
      "ikke,O,O\n",
      "fremgår,O,O\n",
      "af,O,O\n",
      "fakturaen,O,O\n",
      "Subtotal,O,O\n",
      ".,O,O\n",
      ".,O,O\n",
      ".,O,O\n",
      ".,O,O\n",
      ".,O,O\n",
      ".,O,O\n",
      ".,O,O\n",
      ".,O,O\n",
      "74,99,O,O\n",
      "54,99,O,O\n",
      "37,50,O,O\n",
      "54,99,O,O\n",
      "92,49,O,O\n",
      "37,50,O,O\n",
      "54,99,O,O\n",
      "Ordreliniertotal,O,O\n",
      "Total,O,O\n",
      "før,O,O\n",
      "moms,O,O\n",
      "Total,O,O\n",
      "moms,O,O\n",
      "25%,O,O\n",
      "Fakturabeløb,O,O\n",
      "92,49,O,O\n",
      "92,49,O,O\n",
      "23,12,O,O\n",
      "115,61,O,O\n",
      "Rabat,O,O\n",
      "ialt,O,O\n",
      "denne,O,O\n",
      "faktura,O,O\n",
      "37,50,O,O\n",
      "71<,O,O\n",
      "330232176603,O,O\n",
      "+87063453<,O,O\n",
      "Beløbet,O,O\n",
      "trækkes,O,O\n",
      "gennem,O,O\n",
      "PBS-Leverandørservice,O,O\n",
      "på,O,O\n",
      "forfaldsdagen,O,O\n",
      "Efter,O,O\n",
      "forfald,O,O\n",
      "renteberegnes,O,O\n",
      "med,O,O\n",
      "2,O,O\n",
      "%,O,O\n",
      "pr.,O,O\n",
      "måned,O,O\n",
      "=,O,O\n",
      "fast,O,O\n",
      "lavpris,O,O\n",
      "-,O,O\n",
      "ø,O,O\n",
      "=,O,O\n",
      "økologisk,O,O\n",
      "vare,O,O\n",
      "inco,O,O\n",
      "CC,O,O\n",
      "Glostrup,O,O\n",
      "A/S,O,O\n",
      "•,O,O\n",
      "Ejby,O,O\n",
      "Industrivej,O,O\n",
      "111,O,O\n",
      "•,O,O\n",
      "2600,O,O\n",
      "Glostrup,O,O\n",
      "•,O,O\n",
      "Tlf.:,O,O\n",
      "45,O,O\n",
      "72,O,O\n",
      "10,O,O\n",
      "81,O,O\n",
      "81,O,O\n",
      "•,O,O\n",
      "inco@inco.dk,O,O\n",
      "10:32:44,O,O\n",
      "10:32:44,O,O\n",
      "10:32:44,O,O\n",
      "10:32:44,O,O\n",
      "10:32:44,O,O\n",
      "10:32:44,O,O\n",
      "10:32:44,O,O\n",
      "10:32:44,O,O\n",
      "10:32:44,O,O\n",
      "10:32:44,O,O\n",
      "10:32:44,O,O\n",
      "10:32:44,O,O\n",
      "10:32:44,O,O\n",
      "10:32:44,O,O\n",
      "10:32:44,O,O\n",
      "10:32:44,O,O\n",
      "10:32:44,O,O\n",
      "10:32:44,O,O\n",
      "10:32:44,O,O\n",
      "10:32:44,O,O\n",
      "10:32:44,O,O\n",
      "10:32:44,O,O\n",
      "10:32:44,O,O\n",
      "10:32:44,O,O\n",
      "10:32:44,O,O\n",
      "10:32:44,O,O\n",
      "10:32:44,O,O\n",
      "10:32:44,O,O\n",
      "10:32:44,O,O\n",
      "10:32:44,O,O\n",
      "10:32:44,O,O\n",
      "10:32:44,O,O\n",
      "10:32:44,O,O\n",
      "10:32:44,O,O\n",
      "10:32:44,O,O\n",
      "10:32:44,O,O\n",
      "10:32:44,O,O\n",
      "10:32:44,O,O\n",
      "10:32:44,O,O\n",
      "10:32:44,O,O\n",
      "10:32:44,O,O\n",
      "10:32:44,O,O\n",
      "10:32:44,O,O\n",
      "10:32:44,O,O\n",
      "10:32:44,O,O\n",
      "10:32:44,O,O\n",
      "10:32:44,O,O\n",
      "10:32:44,O,O\n",
      "10:32:44,O,O\n",
      "10:32:44,O,O\n",
      "10:32:44,O,O\n",
      "10:32:44,O,O\n",
      "10:32:44,O,O\n",
      "10:32:44,O,O\n",
      "10:32:44,O,O\n",
      "10:32:44,O,O\n",
      "10:32:44,O,O\n",
      "10:32:44,O,O\n",
      "10:32:44,O,O\n",
      "10:32:44,O,O\n",
      "10:32:44,O,O\n",
      "10:32:44,O,O\n",
      "10:32:44,O,O\n",
      "10:32:44,O,O\n",
      "10:32:44,O,O\n",
      "10:32:44,O,O\n",
      "10:32:44,O,O\n",
      "10:32:44,O,O\n",
      "10:32:44,O,O\n",
      "10:32:44,O,O\n",
      "10:32:44,O,O\n",
      "10:32:44,O,O\n",
      "10:32:44,O,O\n",
      "10:32:44,O,O\n",
      "10:32:44,O,O\n",
      "10:32:44,O,O\n",
      "10:32:44,O,O\n",
      "10:32:44,O,O\n",
      "10:32:44,O,O\n",
      "10:32:44,O,O\n",
      "10:32:44,O,O\n",
      "10:32:44,O,O\n",
      "10:32:44,O,O\n",
      "10:32:44,O,O\n",
      "10:32:44,O,O\n",
      "10:32:44,O,O\n",
      "10:32:44,O,O\n",
      "10:32:44,O,O\n",
      "10:32:44,O,O\n",
      "10:32:44,O,O\n",
      "10:32:44,O,O\n",
      "10:32:44,O,O\n",
      "10:32:44,O,O\n",
      "10:32:44,O,O\n",
      "10:32:44,O,O\n",
      "10:32:44,O,O\n",
      "10:32:44,O,O\n",
      "10:32:44,O,O\n",
      "10:32:44,O,O\n",
      "10:32:44,O,O\n",
      "10:32:44,O,O\n",
      "10:32:44,O,O\n",
      "10:32:44,O,O\n",
      "10:32:44,O,O\n",
      "10:32:44,O,O\n",
      "10:32:44,O,O\n",
      "10:32:44,O,O\n",
      "10:32:44,O,O\n",
      "10:32:44,O,O\n",
      "10:32:44,O,O\n",
      "10:32:44,O,O\n",
      "10:32:44,O,O\n",
      "10:32:44,O,O\n",
      "10:32:44,O,O\n",
      "10:32:44,O,O\n",
      "10:32:44,O,O\n",
      "10:32:44,O,O\n",
      "10:32:44,O,O\n",
      "10:32:44,O,O\n",
      "10:32:44,O,O\n",
      "10:32:44,O,O\n",
      "10:32:44,O,O\n",
      "10:32:44,O,O\n",
      "10:32:44,O,O\n",
      "10:32:44,O,O\n",
      "10:32:44,O,O\n",
      "10:32:44,O,O\n",
      "10:32:44,O,O\n",
      "10:32:44,O,O\n",
      "10:32:44,O,O\n",
      "10:32:44,O,O\n",
      "10:32:44,O,O\n",
      "10:32:44,O,O\n",
      "10:32:44,O,O\n",
      "10:32:44,O,O\n",
      "10:32:44,O,O\n",
      "10:32:44,O,O\n",
      "10:32:44,O,O\n",
      "10:32:44,O,O\n",
      "10:32:44,O,O\n",
      "10:32:44,O,O\n",
      "10:32:44,O,O\n",
      "10:32:44,O,O\n",
      "10:32:44,O,O\n",
      "10:32:44,O,O\n",
      "10:32:44,O,O\n",
      "10:32:44,O,O\n",
      "10:32:44,O,O\n",
      "10:32:44,O,O\n",
      "10:32:44,O,O\n",
      "10:32:44,O,O\n",
      "10:32:44,O,O\n",
      "10:32:44,O,O\n",
      "10:32:44,O,O\n",
      "10:32:44,O,O\n",
      "10:32:44,O,O\n",
      "10:32:44,O,O\n",
      "10:32:44,O,O\n",
      "10:32:44,O,O\n",
      "10:32:44,O,O\n",
      "10:32:44,O,O\n",
      "10:32:44,O,O\n",
      "10:32:44,O,O\n",
      "10:32:44,O,O\n",
      "10:32:44,O,O\n",
      "10:32:44,O,O\n",
      "10:32:44,O,O\n",
      "10:32:44,O,O\n",
      "10:32:44,O,O\n",
      "10:32:44,O,O\n",
      "10:32:44,O,O\n",
      "10:32:44,O,O\n",
      "10:32:44,O,O\n",
      "10:32:44,O,O\n",
      "10:32:44,O,O\n",
      "10:32:44,O,O\n",
      "10:32:44,O,O\n",
      "10:32:44,O,O\n",
      "10:32:44,O,O\n",
      "10:32:44,O,O\n",
      "10:32:44,O,O\n",
      "10:32:44,O,O\n",
      "10:32:44,O,O\n",
      "10:32:44,O,O\n",
      "10:32:44,O,O\n",
      "10:32:44,O,O\n",
      "10:32:44,O,O\n",
      "10:32:44,O,O\n",
      "10:32:44,O,O\n",
      "10:32:44,O,O\n",
      "10:32:44,O,O\n",
      "10:32:44,O,O\n",
      "10:32:44,O,O\n",
      "10:32:44,O,O\n",
      "10:32:44,O,O\n",
      "10:32:44,O,O\n",
      "10:32:44,O,O\n",
      "10:32:44,O,O\n",
      "10:32:44,O,O\n",
      "10:32:44,O,O\n",
      "10:32:44,O,O\n",
      "10:32:44,O,O\n",
      "10:32:44,O,O\n",
      "10:32:44,O,O\n",
      "10:32:44,O,O\n",
      "10:32:44,O,O\n",
      "10:32:44,O,O\n",
      "10:32:44,O,O\n",
      "10:32:44,O,O\n",
      "10:32:44,O,O\n",
      "10:32:44,O,O\n",
      "10:32:44,O,O\n",
      "10:32:44,O,O\n",
      "10:32:44,O,O\n",
      "10:32:44,O,O\n",
      "10:32:44,O,O\n",
      "10:32:44,O,O\n",
      "10:32:44,O,O\n",
      "10:32:44,O,O\n",
      "10:32:44,O,O\n",
      "10:32:44,O,O\n",
      "10:32:44,O,O\n",
      "10:32:44,O,O\n",
      "10:32:44,O,O\n",
      "10:32:44,O,O\n",
      "10:32:44,O,O\n",
      "10:32:44,O,O\n",
      "10:32:44,O,O\n",
      "10:32:44,O,O\n",
      "10:32:44,O,O\n",
      "10:32:44,O,O\n",
      "10:32:44,O,O\n",
      "10:32:44,O,O\n",
      "10:32:44,O,O\n",
      "10:32:44,O,O\n",
      "10:32:44,O,O\n",
      "10:32:44,O,O\n",
      "10:32:44,O,O\n",
      "10:32:44,O,O\n",
      "10:32:44,O,O\n",
      "10:32:44,O,O\n",
      "10:32:44,O,O\n",
      "10:32:44,O,O\n",
      "10:32:44,O,O\n",
      "10:32:44,O,O\n",
      "10:32:44,O,O\n",
      "10:32:44,O,O\n",
      "10:32:44,O,O\n",
      "10:32:44,O,O\n",
      "10:32:44,O,O\n",
      "10:32:44,O,O\n",
      "10:32:44,O,O\n",
      "10:32:44,O,O\n",
      "10:32:44,O,O\n",
      "10:32:44,O,O\n",
      "10:32:44,O,O\n",
      "10:32:44,O,O\n",
      "10:32:44,O,O\n",
      "10:32:44,O,O\n",
      "10:32:44,O,O\n",
      "10:32:44,O,O\n",
      "10:32:44,O,O\n",
      "10:32:44,O,O\n",
      "10:32:44,O,O\n",
      "10:32:44,O,O\n",
      "10:32:44,O,O\n",
      "10:32:44,O,O\n",
      "10:32:44,O,O\n",
      "10:32:44,O,O\n",
      "10:32:44,O,O\n",
      "10:32:44,O,O\n",
      "10:32:44,O,O\n",
      "10:32:44,O,O\n",
      "10:32:44,O,O\n",
      "10:32:44,O,O\n",
      "10:32:44,O,O\n",
      "10:32:44,O,O\n",
      "10:32:44,O,O\n",
      "10:32:44,O,O\n",
      "10:32:44,O,O\n",
      "10:32:44,O,O\n",
      "10:32:44,O,O\n",
      "10:32:44,O,O\n",
      "10:32:44,O,O\n",
      "10:32:44,O,O\n",
      "10:32:44,O,O\n",
      "10:32:44,O,O\n",
      "10:32:44,O,O\n",
      "10:32:44,O,O\n",
      "10:32:44,O,O\n",
      "10:32:44,O,O\n",
      "10:32:44,O,O\n",
      "10:32:44,O,O\n",
      "10:32:44,O,O\n",
      "10:32:44,O,O\n",
      "10:32:44,O,O\n",
      "10:32:44,O,O\n",
      "10:32:44,O,O\n",
      "10:32:44,O,O\n",
      "10:32:44,O,O\n",
      "10:32:44,O,O\n",
      "10:32:44,O,O\n",
      "10:32:44,O,O\n",
      "10:32:44,O,O\n",
      "10:32:44,O,O\n",
      "10:32:44,O,O\n",
      "10:32:44,O,O\n",
      "10:32:44,O,O\n",
      "10:32:44,O,O\n",
      "10:32:44,O,O\n",
      "10:32:44,O,O\n",
      "10:32:44,O,O\n",
      "10:32:44,O,O\n",
      "10:32:44,O,O\n",
      "10:32:44,O,O\n",
      "10:32:44,O,O\n",
      "10:32:44,O,O\n",
      "10:32:44,O,O\n",
      "10:32:44,O,O\n",
      "10:32:44,O,O\n",
      "10:32:44,O,O\n",
      "10:32:44,O,O\n",
      "10:32:44,O,O\n",
      "10:32:44,O,O\n",
      "10:32:44,O,O\n",
      "10:32:44,O,O\n",
      "10:32:44,O,O\n",
      "10:32:44,O,O\n",
      "10:32:44,O,O\n",
      "10:32:44,O,O\n",
      "10:32:44,O,O\n",
      "10:32:44,O,O\n",
      "10:32:44,O,O\n",
      "10:32:44,O,O\n",
      "10:32:44,O,O\n",
      "10:32:44,O,O\n",
      "10:32:44,O,O\n",
      "10:32:44,O,O\n",
      "10:32:44,O,O\n",
      "10:32:44,O,O\n",
      "10:32:44,O,O\n",
      "10:32:44,O,O\n",
      "10:32:44,O,O\n",
      "10:32:44,O,O\n",
      "10:32:44,O,O\n",
      "10:32:44,O,O\n",
      "10:32:44,O,O\n",
      "10:32:44,O,O\n",
      "10:32:44,O,O\n",
      "10:32:44,O,O\n",
      "10:32:44,O,O\n",
      "10:32:44,O,O\n",
      "10:32:44,O,O\n",
      "10:32:44,O,O\n",
      "10:32:44,O,O\n",
      "10:32:44,O,O\n",
      "10:32:44,O,O\n",
      "10:32:44,O,O\n",
      "10:32:44,O,O\n",
      "10:32:44,O,O\n",
      "10:32:44,O,O\n",
      "10:32:44,O,O\n",
      "10:32:44,O,O\n",
      "10:32:44,O,O\n",
      "10:32:44,O,O\n",
      "10:32:44,O,O\n",
      "10:32:44,O,O\n",
      "10:32:44,O,O\n",
      "10:32:44,O,O\n",
      "10:32:44,O,O\n",
      "10:32:44,O,O\n",
      "10:32:44,O,O\n",
      "10:32:44,O,O\n",
      "10:32:44,O,O\n",
      "10:32:44,O,O\n",
      "10:32:44,O,O\n",
      "10:32:44,O,O\n",
      "10:32:44,O,O\n",
      "10:32:44,O,O\n",
      "10:32:44,O,O\n",
      "10:32:44,O,O\n",
      "10:32:44,O,O\n",
      "10:32:44,O,O\n",
      "10:32:44,O,O\n",
      "10:32:44,O,O\n",
      "10:32:44,O,O\n",
      "10:32:44,O,O\n",
      "10:32:44,O,O\n",
      "10:32:44,O,O\n",
      "10:32:44,O,O\n",
      "10:32:44,O,O\n",
      "10:32:44,O,O\n",
      "10:32:44,O,O\n",
      "10:32:44,O,O\n",
      "10:32:44,O,O\n",
      "10:32:44,O,O\n",
      "10:32:44,O,O\n",
      "10:32:44,O,O\n",
      "10:32:44,O,O\n",
      "10:32:44,O,O\n",
      "10:32:44,O,O\n",
      "10:32:44,O,O\n",
      "10:32:44,O,O\n",
      "10:32:44,O,O\n",
      "10:32:44,O,O\n",
      "10:32:44,O,O\n",
      "10:32:44,O,O\n",
      "10:32:44,O,O\n",
      "10:32:44,O,O\n",
      "10:32:44,O,O\n",
      "10:32:44,O,O\n",
      "10:32:44,O,O\n",
      "10:32:44,O,O\n",
      "10:32:44,O,O\n",
      "10:32:44,O,O\n",
      "10:32:44,O,O\n",
      "10:32:44,O,O\n",
      "10:32:44,O,O\n",
      "10:32:44,O,O\n",
      "10:32:44,O,O\n",
      "10:32:44,O,O\n",
      "10:32:44,O,O\n",
      "10:32:44,O,O\n",
      "10:32:44,O,O\n",
      "10:32:44,O,O\n",
      "10:32:44,O,O\n",
      "10:32:44,O,O\n",
      "10:32:44,O,O\n",
      "10:32:44,O,O\n",
      "10:32:44,O,O\n",
      "10:32:44,O,O\n",
      "10:32:44,O,O\n",
      "10:32:44,O,O\n",
      "10:32:44,O,O\n",
      "10:32:44,O,O\n",
      "10:32:44,O,O\n",
      "10:32:44,O,O\n",
      "10:32:44,O,O\n",
      "10:32:44,O,O\n",
      "10:32:44,O,O\n",
      "10:32:44,O,O\n",
      "10:32:44,O,O\n",
      "10:32:44,O,O\n",
      "10:32:44,O,O\n",
      "10:32:44,O,O\n",
      "10:32:44,O,O\n",
      "10:32:44,O,O\n",
      "10:32:44,O,O\n",
      "10:32:44,O,O\n",
      "10:32:44,O,O\n",
      "10:32:44,O,O\n",
      "10:32:44,O,O\n",
      "10:32:44,O,O\n",
      "10:32:44,O,O\n",
      "10:32:44,O,O\n",
      "10:32:44,O,O\n",
      "10:32:44,O,O\n",
      "10:32:44,O,O\n",
      "10:32:44,O,O\n",
      "10:32:44,O,O\n",
      "10:32:44,O,O\n",
      "10:32:44,O,O\n",
      "10:32:44,O,O\n",
      "10:32:44,O,O\n",
      "10:32:44,O,O\n",
      "10:32:44,O,O\n",
      "10:32:44,O,O\n",
      "10:32:44,O,O\n",
      "10:32:44,O,O\n",
      "10:32:44,O,O\n",
      "10:32:44,O,O\n",
      "10:32:44,O,O\n",
      "10:32:44,O,O\n",
      "10:32:44,O,O\n",
      "10:32:44,O,O\n",
      "10:32:44,O,O\n",
      "10:32:44,O,O\n",
      "10:32:44,O,O\n",
      "10:32:44,O,O\n",
      "10:32:44,O,O\n",
      "10:32:44,O,O\n",
      "10:32:44,O,O\n",
      "10:32:44,O,O\n",
      "10:32:44,O,O\n",
      "10:32:44,O,O\n",
      "10:32:44,O,O\n",
      "10:32:44,O,O\n",
      "10:32:44,O,O\n",
      "10:32:44,O,O\n",
      "10:32:44,O,O\n",
      "10:32:44,O,O\n",
      "10:32:44,O,O\n",
      "10:32:44,O,O\n",
      "10:32:44,O,O\n",
      "10:32:44,O,O\n",
      "10:32:44,O,O\n",
      "10:32:44,O,O\n",
      "10:32:44,O,O\n",
      "10:32:44,O,O\n",
      "10:32:44,O,O\n",
      "10:32:44,O,O\n",
      "10:32:44,O,O\n",
      "10:32:44,O,O\n",
      "10:32:44,O,O\n",
      "10:32:44,O,O\n",
      "10:32:44,O,O\n",
      "10:32:44,O,O\n",
      "10:32:44,O,O\n",
      "10:32:44,O,O\n",
      "10:32:44,O,O\n",
      "10:32:44,O,O\n",
      "10:32:44,O,O\n",
      "10:32:44,O,O\n",
      "10:32:44,O,O\n",
      "10:32:44,O,O\n",
      "10:32:44,O,O\n",
      "10:32:44,O,O\n",
      "10:32:44,O,O\n",
      "10:32:44,O,O\n",
      "10:32:44,O,O\n",
      "10:32:44,O,O\n",
      "10:32:44,O,O\n",
      "10:32:44,O,O\n",
      "10:32:44,O,O\n",
      "10:32:44,O,O\n",
      "10:32:44,O,O\n",
      "10:32:44,O,O\n",
      "10:32:44,O,O\n",
      "10:32:44,O,O\n",
      "10:32:44,O,O\n",
      "10:32:44,O,O\n",
      "10:32:44,O,O\n",
      "10:32:44,O,O\n",
      "10:32:44,O,O\n",
      "10:32:44,O,O\n",
      "10:32:44,O,O\n",
      "10:32:44,O,O\n",
      "10:32:44,O,O\n",
      "10:32:44,O,O\n",
      "10:32:44,O,O\n",
      "10:32:44,O,O\n",
      "10:32:44,O,O\n",
      "10:32:44,O,O\n",
      "10:32:44,O,O\n",
      "10:32:44,O,O\n",
      "10:32:44,O,O\n",
      "10:32:44,O,O\n",
      "10:32:44,O,O\n",
      "10:32:44,O,O\n",
      "10:32:44,O,O\n",
      "10:32:44,O,O\n",
      "10:32:44,O,O\n",
      "10:32:44,O,O\n",
      "10:32:44,O,O\n",
      "10:32:44,O,O\n",
      "10:32:44,O,O\n",
      "10:32:44,O,O\n",
      "10:32:44,O,O\n",
      "10:32:44,O,O\n",
      "10:32:44,O,O\n",
      "10:32:44,O,O\n",
      "10:32:44,O,O\n",
      "10:32:44,O,O\n",
      "10:32:44,O,O\n",
      "10:32:44,O,O\n",
      "10:32:44,O,O\n",
      "10:32:44,O,O\n",
      "10:32:44,O,O\n",
      "10:32:44,O,O\n",
      "10:32:44,O,O\n",
      "10:32:44,O,O\n",
      "10:32:44,O,O\n",
      "10:32:44,O,O\n",
      "10:32:44,O,O\n",
      "10:32:44,O,O\n",
      "10:32:44,O,O\n",
      "10:32:44,O,O\n",
      "10:32:44,O,O\n",
      "10:32:44,O,O\n",
      "10:32:44,O,O\n",
      "10:32:44,O,O\n",
      "10:32:44,O,O\n",
      "10:32:44,O,O\n",
      "10:32:44,O,O\n",
      "10:32:44,O,O\n",
      "10:32:44,O,O\n",
      "10:32:44,O,O\n",
      "10:32:44,O,O\n",
      "10:32:44,O,O\n",
      "10:32:44,O,O\n",
      "10:32:44,O,O\n",
      "10:32:44,O,O\n",
      "10:32:44,O,O\n",
      "10:32:44,O,O\n",
      "10:32:44,O,O\n",
      "10:32:44,O,O\n",
      "10:32:44,O,O\n",
      "10:32:44,O,O\n",
      "10:32:44,O,O\n",
      "10:32:44,O,O\n",
      "10:32:44,O,O\n",
      "10:32:44,O,O\n",
      "10:32:44,O,O\n",
      "10:32:44,O,O\n",
      "10:32:44,O,O\n",
      "10:32:44,O,O\n",
      "10:32:44,O,O\n",
      "10:32:44,O,O\n",
      "10:32:44,O,O\n",
      "10:32:44,O,O\n",
      "10:32:44,O,O\n",
      "10:32:44,O,O\n",
      "10:32:44,O,O\n",
      "10:32:44,O,O\n",
      "10:32:44,O,O\n",
      "10:32:44,O,O\n",
      "10:32:44,O,O\n",
      "10:32:44,O,O\n",
      "10:32:44,O,O\n",
      "10:32:44,O,O\n",
      "10:32:44,O,O\n",
      "10:32:44,O,O\n",
      "10:32:44,O,O\n",
      "10:32:44,O,O\n",
      "10:32:44,O,O\n",
      "10:32:44,O,O\n",
      "10:32:44,O,O\n",
      "10:32:44,O,O\n",
      "10:32:44,O,O\n",
      "10:32:44,O,O\n",
      "10:32:44,O,O\n",
      "10:32:44,O,O\n",
      "10:32:44,O,O\n",
      "10:32:44,O,O\n",
      "10:32:44,O,O\n",
      "10:32:44,O,O\n",
      "10:32:44,O,O\n",
      "10:32:44,O,O\n",
      "10:32:44,O,O\n",
      "10:32:44,O,O\n",
      "10:32:44,O,O\n",
      "10:32:44,O,O\n",
      "10:32:44,O,O\n",
      "10:32:44,O,O\n",
      "10:32:44,O,O\n",
      "10:32:44,O,O\n",
      "10:32:44,O,O\n",
      "10:32:44,O,O\n",
      "10:32:44,O,O\n",
      "10:32:44,O,O\n",
      "10:32:44,O,O\n",
      "10:32:44,O,O\n",
      "10:32:44,O,O\n",
      "10:32:44,O,O\n",
      "10:32:44,O,O\n",
      "10:32:44,O,O\n",
      "10:32:44,O,O\n",
      "10:32:44,O,O\n",
      "10:32:44,O,O\n",
      "10:32:44,O,O\n",
      "10:32:44,O,O\n",
      "10:32:44,O,O\n",
      "10:32:44,O,O\n",
      "10:32:44,O,O\n",
      "10:32:44,O,O\n",
      "10:32:44,O,O\n",
      "10:32:44,O,O\n",
      "10:32:44,O,O\n",
      "10:32:44,O,O\n",
      "10:32:44,O,O\n",
      "10:32:44,O,O\n",
      "10:32:44,O,O\n",
      "10:32:44,O,O\n",
      "10:32:44,O,O\n",
      "10:32:44,O,O\n",
      "10:32:44,O,O\n",
      "10:32:44,O,O\n",
      "10:32:44,O,O\n",
      "10:32:44,O,O\n",
      "10:32:44,O,O\n",
      "10:32:44,O,O\n",
      "10:32:44,O,O\n",
      "10:32:44,O,O\n",
      "10:32:44,O,O\n",
      "10:32:44,O,O\n",
      "10:32:44,O,O\n",
      "10:32:44,O,O\n",
      "10:32:44,O,O\n",
      "10:32:44,O,O\n",
      "10:32:44,O,O\n",
      "10:32:44,O,O\n",
      "10:32:44,O,O\n",
      "10:32:44,O,O\n",
      "10:32:44,O,O\n",
      "10:32:44,O,O\n",
      "10:32:44,O,O\n",
      "10:32:44,O,O\n",
      "10:32:44,O,O\n",
      "10:32:44,O,O\n",
      "10:32:44,O,O\n",
      "10:32:44,O,O\n",
      "10:32:44,O,O\n",
      "10:32:44,O,O\n",
      "10:32:44,O,O\n",
      "10:32:44,O,O\n",
      "10:32:44,O,O\n",
      "10:32:44,O,O\n",
      "10:32:44,O,O\n",
      "10:32:44,O,O\n",
      "10:32:44,O,O\n",
      "10:32:44,O,O\n",
      "10:32:44,O,O\n",
      "10:32:44,O,O\n",
      "10:32:44,O,O\n",
      "10:32:44,O,O\n",
      "10:32:44,O,O\n",
      "10:32:44,O,O\n",
      "10:32:44,O,O\n",
      "10:32:44,O,O\n",
      "10:32:44,O,O\n",
      "10:32:44,O,O\n",
      "10:32:44,O,O\n",
      "10:32:44,O,O\n",
      "10:32:44,O,O\n",
      "10:32:44,O,O\n",
      "10:32:44,O,O\n",
      "10:32:44,O,O\n",
      "10:32:44,O,O\n",
      "10:32:44,O,O\n",
      "10:32:44,O,O\n",
      "10:32:44,O,O\n",
      "10:32:44,O,O\n",
      "10:32:44,O,O\n",
      "10:32:44,O,O\n",
      "10:32:44,O,O\n",
      "10:32:44,O,O\n",
      "10:32:44,O,O\n",
      "10:32:44,O,O\n",
      "10:32:44,O,O\n",
      "10:32:44,O,O\n",
      "10:32:44,O,O\n",
      "10:32:44,O,O\n",
      "10:32:44,O,O\n",
      "10:32:44,O,O\n",
      "10:32:44,O,O\n",
      "10:32:44,O,O\n",
      "10:32:44,O,O\n",
      "10:32:44,O,O\n",
      "10:32:44,O,O\n",
      "10:32:44,O,O\n",
      "10:32:44,O,O\n",
      "10:32:44,O,O\n",
      "10:32:44,O,O\n",
      "10:32:44,O,O\n",
      "10:32:44,O,O\n",
      "10:32:44,O,O\n",
      "10:32:44,O,O\n",
      "10:32:44,O,O\n",
      "10:32:44,O,O\n",
      "10:32:44,O,O\n",
      "10:32:44,O,O\n",
      "10:32:44,O,O\n",
      "10:32:44,O,O\n",
      "10:32:44,O,O\n",
      "10:32:44,O,O\n",
      "10:32:44,O,O\n",
      "10:32:44,O,O\n",
      "10:32:44,O,O\n",
      "10:32:44,O,O\n",
      "10:32:44,O,O\n",
      "10:32:44,O,O\n",
      "10:32:44,O,O\n",
      "10:32:44,O,O\n",
      "10:32:44,O,O\n",
      "10:32:44,O,O\n",
      "10:32:44,O,O\n",
      "10:32:44,O,O\n",
      "10:32:44,O,O\n",
      "10:32:44,O,O\n",
      "10:32:44,O,O\n",
      "10:32:44,O,O\n",
      "10:32:44,O,O\n",
      "10:32:44,O,O\n",
      "10:32:44,O,O\n",
      "10:32:44,O,O\n",
      "10:32:44,O,O\n",
      "10:32:44,O,O\n",
      "10:32:44,O,O\n",
      "10:32:44,O,O\n",
      "10:32:44,O,O\n",
      "10:32:44,O,O\n",
      "10:32:44,O,O\n",
      "10:32:44,O,O\n",
      "10:32:44,O,O\n",
      "10:32:44,O,O\n",
      "10:32:44,O,O\n"
     ]
    }
   ],
   "source": [
    "i = 1\n",
    "p = model.predict(np.array([X_test[i]]))\n",
    "p = np.argmax(p, axis=-1)\n",
    "true = np.argmax(y_test[i], -1)\n",
    "print(\"{},{},{}\".format(\"Word\", \"True\", \"Pred\"))\n",
    "for w, t, pred in zip(X_test[i], true, p[0]):\n",
    "#     if w != 0:\n",
    "    print(\"{},{},{}\".format(words[w-1], tags[t], tags[pred]))"
   ]
  },
  {
   "cell_type": "code",
   "execution_count": 138,
   "metadata": {
    "_cell_guid": "5a4e4207-2543-4f55-be2a-a5b2484ae646",
    "_uuid": "0df0e3c2-be9b-4f17-8755-70eb1011e0e0",
    "collapsed": false,
    "execution": {
     "iopub.execute_input": "2023-08-30T15:50:44.322569Z",
     "iopub.status.busy": "2023-08-30T15:50:44.322257Z",
     "iopub.status.idle": "2023-08-30T15:50:44.329977Z",
     "shell.execute_reply": "2023-08-30T15:50:44.328864Z",
     "shell.execute_reply.started": "2023-08-30T15:50:44.322512Z"
    },
    "jupyter": {
     "outputs_hidden": false
    }
   },
   "outputs": [],
   "source": [
    "# p"
   ]
  },
  {
   "cell_type": "code",
   "execution_count": 139,
   "metadata": {
    "_cell_guid": "e40505b6-49e8-4459-a70c-be327268b614",
    "_uuid": "f6f7b78f-6ff5-44fa-9995-3b2bad77f08a",
    "collapsed": false,
    "execution": {
     "iopub.execute_input": "2023-08-30T15:50:44.335387Z",
     "iopub.status.busy": "2023-08-30T15:50:44.334746Z",
     "iopub.status.idle": "2023-08-30T15:50:44.344967Z",
     "shell.execute_reply": "2023-08-30T15:50:44.342295Z",
     "shell.execute_reply.started": "2023-08-30T15:50:44.335127Z"
    },
    "jupyter": {
     "outputs_hidden": false
    }
   },
   "outputs": [],
   "source": [
    "# Custom Tokenizer\n",
    "re_tok = re.compile(f'([{string.punctuation}“”¨«»®´·º½¾¿¡§£₤‘’])')\n",
    "def tokenize(s): return s.split()"
   ]
  },
  {
   "cell_type": "code",
   "execution_count": 140,
   "metadata": {
    "_cell_guid": "c36aa268-6d6a-418b-8e8a-1052fa5fa343",
    "_uuid": "a1327ee9-cf5f-45b9-ba37-2321d4be59dc",
    "collapsed": false,
    "execution": {
     "iopub.execute_input": "2023-08-30T15:50:44.349518Z",
     "iopub.status.busy": "2023-08-30T15:50:44.349178Z",
     "iopub.status.idle": "2023-08-30T15:50:45.094542Z",
     "shell.execute_reply": "2023-08-30T15:50:45.092739Z",
     "shell.execute_reply.started": "2023-08-30T15:50:44.349444Z"
    },
    "jupyter": {
     "outputs_hidden": false
    }
   },
   "outputs": [
    {
     "name": "stdout",
     "output_type": "stream",
     "text": [
      "Word           ||Prediction\n",
      "==============================\n"
     ]
    }
   ],
   "source": [
    "test_sentence=''\n",
    "x_test_sent = pad_sequences(sequences=[[word2idx.get(w, 0) for w in tokenize(test_sentence)]],\n",
    "                            padding=\"post\", value=0, maxlen=max_len)\n",
    "p = model.predict(np.array([x_test_sent[0]]))\n",
    "p = np.argmax(p, axis=-1)\n",
    "print(\"{:15}||{}\".format(\"Word\", \"Prediction\"))\n",
    "print(30 * \"=\")\n",
    "for w, pred in zip(tokenize(test_sentence), p[0]):\n",
    "    print(\"{:15}: {:5}\".format(w, tags[pred]))"
   ]
  },
  {
   "cell_type": "code",
   "execution_count": 141,
   "metadata": {
    "_cell_guid": "5972ada9-6966-45d4-b703-35afdd8ce841",
    "_uuid": "865e1623-a7b5-4e79-9249-265e661ecc0a",
    "collapsed": false,
    "execution": {
     "iopub.execute_input": "2023-08-30T15:50:45.096631Z",
     "iopub.status.busy": "2023-08-30T15:50:45.096280Z",
     "iopub.status.idle": "2023-08-30T15:50:45.106395Z",
     "shell.execute_reply": "2023-08-30T15:50:45.105177Z",
     "shell.execute_reply.started": "2023-08-30T15:50:45.096572Z"
    },
    "jupyter": {
     "outputs_hidden": false
    }
   },
   "outputs": [
    {
     "data": {
      "text/plain": [
       "384608"
      ]
     },
     "execution_count": 141,
     "metadata": {},
     "output_type": "execute_result"
    }
   ],
   "source": [
    "len(data)"
   ]
  },
  {
   "cell_type": "markdown",
   "metadata": {
    "_cell_guid": "67478230-c1ed-48b5-ac55-048f577720e0",
    "_uuid": "57ce701c-95a0-42ef-a415-976822537e49"
   },
   "source": []
  },
  {
   "cell_type": "code",
   "execution_count": 142,
   "metadata": {
    "_cell_guid": "cb08562e-ef90-4451-9b52-e7c0905bb897",
    "_uuid": "24f83b7f-e706-4a43-b8fc-71427921af31",
    "collapsed": false,
    "execution": {
     "iopub.execute_input": "2023-08-30T15:50:45.111086Z",
     "iopub.status.busy": "2023-08-30T15:50:45.110772Z",
     "iopub.status.idle": "2023-08-30T15:50:45.538505Z",
     "shell.execute_reply": "2023-08-30T15:50:45.537445Z",
     "shell.execute_reply.started": "2023-08-30T15:50:45.111027Z"
    },
    "jupyter": {
     "outputs_hidden": false
    }
   },
   "outputs": [],
   "source": [
    "# get sentences\n",
    "# data_test\n",
    "getter_test = SentenceGetter(data)\n",
    "sent_test = getter_test.get_next()\n",
    "sentences_test = getter_test.sentences"
   ]
  },
  {
   "cell_type": "code",
   "execution_count": 143,
   "metadata": {
    "_cell_guid": "b5e76774-625e-488b-a1ac-218c56a62b16",
    "_uuid": "cd3eb1e0-ae8b-46d4-a9df-484bb12e64ef",
    "collapsed": false,
    "execution": {
     "iopub.execute_input": "2023-08-30T15:50:45.541993Z",
     "iopub.status.busy": "2023-08-30T15:50:45.540478Z",
     "iopub.status.idle": "2023-08-30T15:50:45.994622Z",
     "shell.execute_reply": "2023-08-30T15:50:45.993602Z",
     "shell.execute_reply.started": "2023-08-30T15:50:45.540810Z"
    },
    "jupyter": {
     "outputs_hidden": false
    }
   },
   "outputs": [],
   "source": [
    "# pad the sequence - test sample\n",
    "X_test = [[word2idx[w[0]] for w in s] for s in sentences_test]\n",
    "X_test = pad_sequences(maxlen=max_len, sequences=X_test, padding=\"post\", value=n_words-1)\n",
    "\n",
    "# pad the target - dev sample\n",
    "y_test = [[tag2idx[w[1]] for w in s] for s in sentences_test]\n",
    "# y_test = pad_sequences(maxlen=max_len, sequences=y_test, padding=\"post\", value=tag2idx[\"O\"])\n",
    "y_test = pad_sequences(maxlen=max_len, sequences=y_test, padding=\"post\")\n",
    "\n",
    "y_test = [to_categorical(i, num_classes=n_tags) for i in y_test]"
   ]
  },
  {
   "cell_type": "code",
   "execution_count": 144,
   "metadata": {
    "_cell_guid": "cadd3a80-0c4f-4c99-9be8-789e81eecbc4",
    "_uuid": "e58c5e80-cc24-4423-beab-4c2f91847c23",
    "collapsed": false,
    "execution": {
     "iopub.execute_input": "2023-08-30T15:50:45.998758Z",
     "iopub.status.busy": "2023-08-30T15:50:45.998075Z",
     "iopub.status.idle": "2023-08-30T15:51:17.021322Z",
     "shell.execute_reply": "2023-08-30T15:51:17.020479Z",
     "shell.execute_reply.started": "2023-08-30T15:50:45.998692Z"
    },
    "jupyter": {
     "outputs_hidden": false
    }
   },
   "outputs": [
    {
     "name": "stdout",
     "output_type": "stream",
     "text": [
      "1400/1400 [==============================] - 31s 22ms/step\n"
     ]
    }
   ],
   "source": [
    "test_pred = model.predict(X_test, verbose=1)"
   ]
  },
  {
   "cell_type": "code",
   "execution_count": 145,
   "metadata": {
    "_cell_guid": "6f42f383-5231-44c6-8eca-ec9ce5366802",
    "_uuid": "df3424aa-2a7a-42b0-bf87-07ef22fef71c",
    "collapsed": false,
    "execution": {
     "iopub.execute_input": "2023-08-30T15:51:17.024440Z",
     "iopub.status.busy": "2023-08-30T15:51:17.024084Z",
     "iopub.status.idle": "2023-08-30T15:51:31.727432Z",
     "shell.execute_reply": "2023-08-30T15:51:31.726588Z",
     "shell.execute_reply.started": "2023-08-30T15:51:17.024380Z"
    },
    "jupyter": {
     "outputs_hidden": false
    }
   },
   "outputs": [],
   "source": [
    "test_pred_labels = pred2label(test_pred)\n",
    "test_actual_labels = pred2label(y_test)"
   ]
  },
  {
   "cell_type": "code",
   "execution_count": 146,
   "metadata": {
    "_cell_guid": "ebe46927-6ba8-4e12-a7cc-395ab75f7abb",
    "_uuid": "d5c21624-54f6-4e05-a33b-0f91dda9e02e",
    "collapsed": false,
    "execution": {
     "iopub.execute_input": "2023-08-30T15:51:31.730032Z",
     "iopub.status.busy": "2023-08-30T15:51:31.729376Z",
     "iopub.status.idle": "2023-08-30T15:51:40.689108Z",
     "shell.execute_reply": "2023-08-30T15:51:40.688117Z",
     "shell.execute_reply.started": "2023-08-30T15:51:31.729835Z"
    },
    "jupyter": {
     "outputs_hidden": false
    }
   },
   "outputs": [
    {
     "name": "stdout",
     "output_type": "stream",
     "text": [
      "F1-score: 98.1%\n"
     ]
    }
   ],
   "source": [
    "print(\"F1-score: {:.1%}\".format(f1_score(test_actual_labels, test_pred_labels)))"
   ]
  },
  {
   "cell_type": "code",
   "execution_count": 147,
   "metadata": {
    "_cell_guid": "a3e8907e-c182-4274-b604-117e443e56bc",
    "_uuid": "fea4a3c5-eeb5-4682-a23e-ed9b83008693",
    "collapsed": false,
    "execution": {
     "iopub.execute_input": "2023-08-30T15:51:40.697502Z",
     "iopub.status.busy": "2023-08-30T15:51:40.694459Z",
     "iopub.status.idle": "2023-08-30T15:52:26.219894Z",
     "shell.execute_reply": "2023-08-30T15:52:26.218081Z",
     "shell.execute_reply.started": "2023-08-30T15:51:40.697439Z"
    },
    "jupyter": {
     "outputs_hidden": false
    }
   },
   "outputs": [
    {
     "name": "stdout",
     "output_type": "stream",
     "text": [
      "              precision    recall  f1-score   support\n",
      "\n",
      " BESKRIVELSE       0.98      0.98      0.98      9670\n",
      "\n",
      "   micro avg       0.98      0.98      0.98      9670\n",
      "   macro avg       0.98      0.98      0.98      9670\n",
      "weighted avg       0.98      0.98      0.98      9670\n",
      "\n"
     ]
    }
   ],
   "source": [
    "print(classification_report(test_actual_labels, test_pred_labels))"
   ]
  },
  {
   "cell_type": "code",
   "execution_count": null,
   "metadata": {
    "_cell_guid": "d9057376-5d45-4eb8-8eb9-d3495a2ce21d",
    "_uuid": "a09e381d-a52c-46b0-875c-0f5ca9df7c64",
    "collapsed": false,
    "jupyter": {
     "outputs_hidden": false
    }
   },
   "outputs": [],
   "source": []
  },
  {
   "cell_type": "markdown",
   "metadata": {
    "_cell_guid": "b810ec8f-3819-46fa-b426-de126a11e70d",
    "_uuid": "a5b97f04-dbc1-4fad-ac83-423f3df63129"
   },
   "source": [
    "## Example"
   ]
  },
  {
   "cell_type": "code",
   "execution_count": 148,
   "metadata": {
    "_cell_guid": "46239423-944e-4879-acf5-243ccbd1e0c2",
    "_uuid": "69a9222a-195e-45f4-8f83-bbe4f3d3d906",
    "collapsed": false,
    "execution": {
     "iopub.execute_input": "2023-08-30T15:52:26.222299Z",
     "iopub.status.busy": "2023-08-30T15:52:26.221723Z",
     "iopub.status.idle": "2023-08-30T15:52:26.228613Z",
     "shell.execute_reply": "2023-08-30T15:52:26.227640Z",
     "shell.execute_reply.started": "2023-08-30T15:52:26.222061Z"
    },
    "jupyter": {
     "outputs_hidden": false
    }
   },
   "outputs": [],
   "source": [
    "# d = {'Index_': [1,2,3,4,5,6,7,8,9,10,11,12],\n",
    "#      'NER': ['PERSONTYPE', \n",
    "#              'PERSON', \n",
    "#              'ADDRESS', \n",
    "#              'PHONENUMBER', \n",
    "#              'DATETIME',\n",
    "#              'ORGANIZATION', \n",
    "#              'LOCATION', \n",
    "#              'PRODUCT', \n",
    "#              'EMAIL', \n",
    "#              'MISCELLANEOUS',\n",
    "#              'URL', \n",
    "#              'IP'], \n",
    "#      'Sentence' : ['Tổng giám đốc đi công tác tại Phú Yên.',\n",
    "#                   'Nguyễn Văn Thanh được phong làm NSND.',\n",
    "#                   'Chiếc điện thoại này cần giao tới địa chỉ số 57, đường Lý Thường Kiệt, p.Trần Hưng Đạo, Hà Nội.',\n",
    "#                   'Hãy gọi cho cô Hoa vào số điện thoại 0934.456.787.',\n",
    "#                   '15 giờ sáng ngày 24 tháng 6 năm 2021, xảy ra một vụ cháy tại quận Thanh Xuân.',\n",
    "#                   'Tòa án nhân dân tối cao là cơ quan xét xử cao nhất của nước Cộng hòa xã hội chủ nghĩa Việt Nam.',\n",
    "#                   'Đông Nam Á là tiểu vùng địa lý phía đông nam của châu Á.',\n",
    "#                   'Iphone 14 là phiên bản điện thoại mới nhất của tập đoàn công nghệ Apple.',\n",
    "#                   'Email của tôi là hanoi@gmail.com.',\n",
    "#                   'COVID-19 là một bệnh đường hô hấp cấp tính truyền nhiễm gây ra bởi chủng virus corona SARS-CoV-2 và các biến thể của nó.',\n",
    "#                   'Bạn có thể đọc tin tức tại trang vnexpress.net.',\n",
    "#                   'Máy tính có IP là 120.126.1.1 hiện đang bị lỗi.']}\n",
    "# data_sample = pd.DataFrame(d)"
   ]
  },
  {
   "cell_type": "code",
   "execution_count": 149,
   "metadata": {
    "_cell_guid": "495b544b-61bb-4401-bfac-79221c45a26b",
    "_uuid": "18d8da4e-7545-4bf5-b843-324f728ad070",
    "collapsed": false,
    "execution": {
     "iopub.execute_input": "2023-08-30T15:52:26.231004Z",
     "iopub.status.busy": "2023-08-30T15:52:26.230345Z",
     "iopub.status.idle": "2023-08-30T15:52:26.246331Z",
     "shell.execute_reply": "2023-08-30T15:52:26.245216Z",
     "shell.execute_reply.started": "2023-08-30T15:52:26.230936Z"
    },
    "jupyter": {
     "outputs_hidden": false
    }
   },
   "outputs": [],
   "source": [
    "# data_sample"
   ]
  },
  {
   "cell_type": "code",
   "execution_count": 150,
   "metadata": {
    "_cell_guid": "b02dad9d-1ecd-40d6-bbc3-f8a210b3fe61",
    "_uuid": "610e837a-f8ca-47fd-9a14-98b278aa1526",
    "collapsed": false,
    "execution": {
     "iopub.execute_input": "2023-08-30T15:52:26.248774Z",
     "iopub.status.busy": "2023-08-30T15:52:26.248105Z",
     "iopub.status.idle": "2023-08-30T15:52:26.257361Z",
     "shell.execute_reply": "2023-08-30T15:52:26.256471Z",
     "shell.execute_reply.started": "2023-08-30T15:52:26.248426Z"
    },
    "jupyter": {
     "outputs_hidden": false
    }
   },
   "outputs": [],
   "source": [
    "# def test_sentence(index):\n",
    "#     test_sentence=d['Sentence'][index]\n",
    "#     x_test_sent = pad_sequences(sequences=[[word2idx.get(w, 0) for w in tokenize(test_sentence)]],padding=\"post\", value=0, maxlen=max_len)\n",
    "#     p = model.predict(np.array([x_test_sent[0]]))\n",
    "#     p = np.argmax(p, axis=-1)\n",
    "#     print(\"{:15}||{}\".format(\"Word\", \"Prediction\"))\n",
    "#     print(30 * \"=\")\n",
    "#     for w, pred in zip(tokenize(test_sentence), p[0]):\n",
    "#         print(\"{:15}: {:5}\".format(w, tags[pred]))"
   ]
  },
  {
   "cell_type": "code",
   "execution_count": null,
   "metadata": {
    "_cell_guid": "5b273d8c-820c-4626-8eb9-28e7c37ab880",
    "_uuid": "7d68e9cd-12e1-49c3-a482-97c1e58a4a59",
    "collapsed": false,
    "jupyter": {
     "outputs_hidden": false
    }
   },
   "outputs": [],
   "source": []
  },
  {
   "cell_type": "code",
   "execution_count": 151,
   "metadata": {
    "_cell_guid": "02bc4030-6eb6-41d2-86c9-833e3efba8f0",
    "_uuid": "0a5f15b7-9322-4d6b-a1a3-689f42232bfc",
    "collapsed": false,
    "execution": {
     "iopub.execute_input": "2023-08-30T15:52:26.260842Z",
     "iopub.status.busy": "2023-08-30T15:52:26.260207Z",
     "iopub.status.idle": "2023-08-30T15:52:26.273280Z",
     "shell.execute_reply": "2023-08-30T15:52:26.272281Z",
     "shell.execute_reply.started": "2023-08-30T15:52:26.260782Z"
    },
    "jupyter": {
     "outputs_hidden": false
    }
   },
   "outputs": [],
   "source": [
    "def test_sentence_sample(test_sentence):\n",
    "    #test_sentence=\"Anh Mai đang bị hâm\"\n",
    "    x_test_sent = pad_sequences(sequences=[[word2idx.get(w, 0) for w in tokenize(test_sentence)]],padding=\"post\", value=0, maxlen=max_len)\n",
    "    p = model.predict(np.array([x_test_sent[0]]))\n",
    "    p = np.argmax(p, axis=-1)\n",
    "    print(\"{:15}||{}\".format(\"Word\", \"Prediction\"))\n",
    "    print(30 * \"=\")\n",
    "    for w, pred in zip(tokenize(test_sentence), p[0]):\n",
    "        print(\"{:15}: {:5}\".format(w, tags[pred]))"
   ]
  },
  {
   "cell_type": "code",
   "execution_count": 152,
   "metadata": {
    "_cell_guid": "64a78915-0dbe-4713-91da-a01c33b49a5f",
    "_uuid": "42f6bef1-0f33-49c7-8424-92bccfb156ee",
    "collapsed": false,
    "execution": {
     "iopub.execute_input": "2023-08-30T15:52:26.277071Z",
     "iopub.status.busy": "2023-08-30T15:52:26.276228Z",
     "iopub.status.idle": "2023-08-30T15:52:26.948619Z",
     "shell.execute_reply": "2023-08-30T15:52:26.947428Z",
     "shell.execute_reply.started": "2023-08-30T15:52:26.277009Z"
    },
    "jupyter": {
     "outputs_hidden": false
    }
   },
   "outputs": [
    {
     "name": "stdout",
     "output_type": "stream",
     "text": [
      "Word           ||Prediction\n",
      "==============================\n",
      "Frostvarer     : I-BESKRIVELSE\n",
      "201204         : B-BESKRIVELSE\n",
      "Jordbær        : I-BESKRIVELSE\n",
      "1              : O    \n",
      "Total          : O    \n",
      "FRIGODAN       : O    \n",
      "1              : O    \n",
      "PS             : O    \n",
      "(2,5           : O    \n",
      "KG)            : O    \n"
     ]
    }
   ],
   "source": [
    "test_sentence_sample(\"Frostvarer 201204 Jordbær 1 Total FRIGODAN 1 PS (2,5 KG)\")"
   ]
  },
  {
   "cell_type": "code",
   "execution_count": 153,
   "metadata": {
    "_cell_guid": "ad67168a-9540-4577-9241-8b7cd274b09c",
    "_uuid": "00032f7d-d892-412f-ab07-178ea42bb2b0",
    "collapsed": false,
    "execution": {
     "iopub.execute_input": "2023-08-30T15:52:26.950737Z",
     "iopub.status.busy": "2023-08-30T15:52:26.950374Z",
     "iopub.status.idle": "2023-08-30T15:52:34.870398Z",
     "shell.execute_reply": "2023-08-30T15:52:34.869128Z",
     "shell.execute_reply.started": "2023-08-30T15:52:26.950678Z"
    },
    "jupyter": {
     "outputs_hidden": false
    }
   },
   "outputs": [
    {
     "name": "stdout",
     "output_type": "stream",
     "text": [
      "Collecting gdown\n",
      "  Downloading https://files.pythonhosted.org/packages/e7/38/e3393edb5fd157abaa54292f31251f8c2ff739673f535990f8a43e69b9dd/gdown-4.7.1-py3-none-any.whl\n",
      "Requirement already satisfied: tqdm in /opt/conda/lib/python3.6/site-packages (from gdown) (4.39.0)\n",
      "Requirement already satisfied: beautifulsoup4 in /opt/conda/lib/python3.6/site-packages (from gdown) (4.8.1)\n",
      "Requirement already satisfied: requests[socks] in /opt/conda/lib/python3.6/site-packages (from gdown) (2.22.0)\n",
      "Requirement already satisfied: filelock in /opt/conda/lib/python3.6/site-packages (from gdown) (3.0.12)\n",
      "Requirement already satisfied: six in /opt/conda/lib/python3.6/site-packages (from gdown) (1.13.0)\n",
      "Requirement already satisfied: soupsieve>=1.2 in /opt/conda/lib/python3.6/site-packages (from beautifulsoup4->gdown) (1.9.5)\n",
      "Requirement already satisfied: urllib3!=1.25.0,!=1.25.1,<1.26,>=1.21.1 in /opt/conda/lib/python3.6/site-packages (from requests[socks]->gdown) (1.24.2)\n",
      "Requirement already satisfied: chardet<3.1.0,>=3.0.2 in /opt/conda/lib/python3.6/site-packages (from requests[socks]->gdown) (3.0.4)\n",
      "Requirement already satisfied: idna<2.9,>=2.5 in /opt/conda/lib/python3.6/site-packages (from requests[socks]->gdown) (2.8)\n",
      "Requirement already satisfied: certifi>=2017.4.17 in /opt/conda/lib/python3.6/site-packages (from requests[socks]->gdown) (2019.9.11)\n",
      "Requirement already satisfied: PySocks!=1.5.7,>=1.5.6; extra == \"socks\" in /opt/conda/lib/python3.6/site-packages (from requests[socks]->gdown) (1.7.1)\n",
      "Installing collected packages: gdown\n",
      "Successfully installed gdown-4.7.1\n"
     ]
    }
   ],
   "source": [
    "!pip install  gdown"
   ]
  },
  {
   "cell_type": "code",
   "execution_count": 154,
   "metadata": {
    "_cell_guid": "249f97c5-f13f-4376-aabb-290a7738544d",
    "_uuid": "170176e9-c7d3-4351-aeae-e268a449ae16",
    "collapsed": false,
    "execution": {
     "iopub.execute_input": "2023-08-30T15:52:34.872982Z",
     "iopub.status.busy": "2023-08-30T15:52:34.872589Z",
     "iopub.status.idle": "2023-08-30T15:52:37.876566Z",
     "shell.execute_reply": "2023-08-30T15:52:37.875445Z",
     "shell.execute_reply.started": "2023-08-30T15:52:34.872885Z"
    },
    "jupyter": {
     "outputs_hidden": false
    }
   },
   "outputs": [
    {
     "name": "stdout",
     "output_type": "stream",
     "text": [
      "Downloading...\n",
      "From: https://drive.google.com/uc?id=1Y3jPwcGvO-bndkEKNNTYu4vJHreroezj\n",
      "To: /kaggle/working/inv-Tl91T-1630501455.pdf\n",
      "100%|██████████████████████████████████████| 91.6k/91.6k [00:00<00:00, 44.1MB/s]\n"
     ]
    }
   ],
   "source": [
    "!gdown https://drive.google.com/file/d/1Y3jPwcGvO-bndkEKNNTYu4vJHreroezj/view?usp=sharing --fuzzy"
   ]
  },
  {
   "cell_type": "code",
   "execution_count": 155,
   "metadata": {
    "_cell_guid": "a45087db-9533-49eb-a259-ae8de585af79",
    "_uuid": "d9632e81-b883-4d88-a2ff-0603fd1142d8",
    "collapsed": false,
    "execution": {
     "iopub.execute_input": "2023-08-30T15:52:37.879100Z",
     "iopub.status.busy": "2023-08-30T15:52:37.878690Z",
     "iopub.status.idle": "2023-08-30T15:54:36.396347Z",
     "shell.execute_reply": "2023-08-30T15:54:36.395015Z",
     "shell.execute_reply.started": "2023-08-30T15:52:37.879033Z"
    },
    "jupyter": {
     "outputs_hidden": false
    }
   },
   "outputs": [
    {
     "name": "stdout",
     "output_type": "stream",
     "text": [
      "Collecting package metadata (current_repodata.json): done\n",
      "Solving environment: done\n",
      "\n",
      "\n",
      "==> WARNING: A newer version of conda exists. <==\n",
      "  current version: 4.7.12\n",
      "  latest version: 23.7.3\n",
      "\n",
      "Please update conda by running\n",
      "\n",
      "    $ conda update -n base -c defaults conda\n",
      "\n",
      "\n",
      "\n",
      "## Package Plan ##\n",
      "\n",
      "  environment location: /opt/conda\n",
      "\n",
      "  added / updated specs:\n",
      "    - pdfminer.six\n",
      "\n",
      "\n",
      "The following packages will be downloaded:\n",
      "\n",
      "    package                    |            build\n",
      "    ---------------------------|-----------------\n",
      "    ca-certificates-2023.7.22  |       hbcca054_0         146 KB  conda-forge\n",
      "    certifi-2020.6.20          |     pyhd3eb1b0_3         155 KB\n",
      "    openssl-1.0.2u             |       h516909a_0         3.2 MB  conda-forge\n",
      "    pdfminer.six-20201018      |     pyhd8ed1ab_3         4.9 MB  conda-forge\n",
      "    ------------------------------------------------------------\n",
      "                                           Total:         8.3 MB\n",
      "\n",
      "The following NEW packages will be INSTALLED:\n",
      "\n",
      "  pdfminer.six       conda-forge/noarch::pdfminer.six-20201018-pyhd8ed1ab_3\n",
      "\n",
      "The following packages will be UPDATED:\n",
      "\n",
      "  ca-certificates    pkgs/main::ca-certificates-2019.10.16~ --> conda-forge::ca-certificates-2023.7.22-hbcca054_0\n",
      "  certifi            pkgs/main/linux-64::certifi-2019.9.11~ --> pkgs/main/noarch::certifi-2020.6.20-pyhd3eb1b0_3\n",
      "  openssl              pkgs/main::openssl-1.0.2t-h7b6447c_1 --> conda-forge::openssl-1.0.2u-h516909a_0\n",
      "\n",
      "\n",
      "\n",
      "Downloading and Extracting Packages\n",
      "certifi-2020.6.20    | 155 KB    | ##################################### | 100% \n",
      "ca-certificates-2023 | 146 KB    | ##################################### | 100% \n",
      "openssl-1.0.2u       | 3.2 MB    | ##################################### | 100% \n",
      "pdfminer.six-2020101 | 4.9 MB    | ##################################### | 100% \n",
      "Preparing transaction: done\n",
      "Verifying transaction: done\n",
      "Executing transaction: done\n",
      "\n",
      "Note: you may need to restart the kernel to use updated packages.\n"
     ]
    }
   ],
   "source": [
    "conda install -c conda-forge pdfminer.six"
   ]
  },
  {
   "cell_type": "code",
   "execution_count": 156,
   "metadata": {
    "_cell_guid": "1d21d69d-63d5-493b-a2cf-968ce890f2b0",
    "_uuid": "193edf79-1f24-47ab-abc0-47516c36b773",
    "collapsed": false,
    "execution": {
     "iopub.execute_input": "2023-08-30T15:54:36.399185Z",
     "iopub.status.busy": "2023-08-30T15:54:36.398535Z",
     "iopub.status.idle": "2023-08-30T15:54:36.784102Z",
     "shell.execute_reply": "2023-08-30T15:54:36.783123Z",
     "shell.execute_reply.started": "2023-08-30T15:54:36.399115Z"
    },
    "jupyter": {
     "outputs_hidden": false
    }
   },
   "outputs": [
    {
     "name": "stdout",
     "output_type": "stream",
     "text": [
      "['Totalleverandør', 'af', 'fødevarer', 'og', 'nonfood-artikler', 'House', 'of', 'Shawarma', 'Fantastic', 'Food', 'Aps', 'Rosengårdcentret', 'Ørbækvej', '75', '5220', 'Odense', 'SØ', 'Kundenr.', '.', '.', '.', '.', '.', '.', '.', '.', '.', '79874', 'Økologikontrolmyndighed:', 'DK-ØKO-100', 'Kopi', '*10-3162056*', 'Faktura', '.', '.', '.', '.', '.', '.', 'Bogføringsdato', '.', '.', '.', '.', '.', '.', '.', '.', '.', '.', '.', 'Rute', 'Sælger', 'Betalingsbetingels', '.', '.', '.', '.', '.', '.', 'Betales', 'inden', '.', '.', '.', '.', '.', '.', '.', '.', '.', '.', '.', 'Side', '10-3162056', '09-07-21', '55', 'CGOPHA/CGOCLG', '30', 'Dage', 'Netto', '08-08-21', '1', '59007', 'Nummer', 'Beskrivelse', 'Mærke', 'Antal', 'Enhed', 'Salgspris', 'Beløb', '206873', 'Agurk', 'm/Film', '(NL)', '206928', 'Koriander', 'i', 'Bundt', '(KE)', '206863', 'Løg', 'i', 'PS', '(DK)', '229956', 'Persille', 'Bredbladet', 'i', 'Bundt', '(IT)', '206826', 'Salat', 'Iceberg', '(NL)', '218441', 'Tomat', 'Udenlandsk', '57-67', '(NL)', '67418', 'Yoghurt', 'Græsk', 'Inspireret', '10%', '3232', 'Yoghurt', 'Sødmælk', 'Naturel', '3,5%', '2435', 'Salatmayonnaise', '50%', '42893', 'Salatmayonnaise', 'Portion', '42891', 'Tomatketchup', 'Portionspakning', '72647', 'Sødmælk', 'UHT', '3,5%', '316302', 'Fritureolie', '316304', 'Rapsolie', '21390', 'Eddike', 'u/Konserveringsmid', '5%', 'Kølevarer', 'GRØNT', 'KRYDDER', 'HØJVANG', 'KRYDDER', 'GRØNT', 'GRØNT', 'SOL', 'ARLA', 'PRO', 'KRAFT', 'BÄHNCKE', 'BÄHNCKE', 'GOURMET', 'DELTA', 'DELTA', 'LAGERBE', 'Tørvarer', 'Frostvarer', '3', '2', '2', '2', '8', '4', '1', '10', '1', '3', '3', '12', '6', '2', '4', 'STK', 'PS', 'PS', 'BT', 'KRT', 'KRT', 'SP', '(5', 'KG)', 'SP', '(5', 'LTR)', 'SP', '(10', 'KG)', 'ÆSK', '(126x25', 'G)', 'ÆSK', '(126x25', 'G)', 'STK', '(1', 'LTR)', 'DK', '(10', 'LTR)', 'DK', '(10', 'LTR)', 'DK', '(10', 'LTR)', '4,74', '11,96', '6,35', '10,31', '65,40', '67,62', '83,35', '60,45', '149,00', '125,50', '129,05', '7,75', '108,00', '108,00', '39,50', '14,22', '23,92', '12,70', '20,62', '523,20', '270,48', '83,35', '604,50', '149,00', '376,50', '387,15', '93,00', '648,00', '216,00', '158,00', '*', '*', '*', '*', '*', '*', '*', '*', '*', '*', '*', '*', '*', '*', '*', '*', '234734', 'PommesFrites', '7x7', 'mm', 'FARMFRIT', '12', 'KRT', '(5x2,5', 'KG)', '106,25', '1.275,00', 'Moms', 'nr.', '.', '.', '.', '.', '.', '.', '.', '.', '.', '39902060', '+71<', '000010316205607', '+89136296<', 'I', 'alt', 'DKK', '25%', 'moms', 'I', 'alt', 'DKK', 'inkl.', 'moms', '4.855,64', '1.213,91', '6.069,55', 'BC', 'Catering', 'Grossisten', 'A/S', 'Blækhatten', '10', '5220', 'Odense', 'SØ', 'Tlf.', '63', '15', '88', '55', 'CVR', '10', '83', '70', '49', 'www.bccatering.dk']\n",
      "Totalleverandør af fødevarer og nonfood-artikler House of Shawarma Fantastic Food Aps Rosengårdcentret Ørbækvej 75 5220 Odense SØ Kundenr. . . . . . . . . . 79874 Økologikontrolmyndighed: DK-ØKO-100 Kopi *10-3162056* Faktura . . . . . . Bogføringsdato . . . . . . . . . . . Rute Sælger Betalingsbetingels . . . . . . Betales inden . . . . . . . . . . . Side 10-3162056 09-07-21 55 CGOPHA/CGOCLG 30 Dage Netto 08-08-21 1 59007 Nummer Beskrivelse Mærke Antal Enhed Salgspris Beløb 206873 Agurk m/Film (NL) 206928 Koriander i Bundt (KE) 206863 Løg i PS (DK) 229956 Persille Bredbladet i Bundt (IT) 206826 Salat Iceberg (NL) 218441 Tomat Udenlandsk 57-67 (NL) 67418 Yoghurt Græsk Inspireret 10% 3232 Yoghurt Sødmælk Naturel 3,5% 2435 Salatmayonnaise 50% 42893 Salatmayonnaise Portion 42891 Tomatketchup Portionspakning 72647 Sødmælk UHT 3,5% 316302 Fritureolie 316304 Rapsolie 21390 Eddike u/Konserveringsmid 5% Kølevarer GRØNT KRYDDER HØJVANG KRYDDER GRØNT GRØNT SOL ARLA PRO KRAFT BÄHNCKE BÄHNCKE GOURMET DELTA DELTA LAGERBE Tørvarer Frostvarer 3 2 2 2 8 4 1 10 1 3 3 12 6 2 4 STK PS PS BT KRT KRT SP (5 KG) SP (5 LTR) SP (10 KG) ÆSK (126x25 G) ÆSK (126x25 G) STK (1 LTR) DK (10 LTR) DK (10 LTR) DK (10 LTR) 4,74 11,96 6,35 10,31 65,40 67,62 83,35 60,45 149,00 125,50 129,05 7,75 108,00 108,00 39,50 14,22 23,92 12,70 20,62 523,20 270,48 83,35 604,50 149,00 376,50 387,15 93,00 648,00 216,00 158,00 * * * * * * * * * * * * * * * * 234734 PommesFrites 7x7 mm FARMFRIT 12 KRT (5x2,5 KG) 106,25 1.275,00 Moms nr. . . . . . . . . . 39902060 +71< 000010316205607 +89136296< I alt DKK 25% moms I alt DKK inkl. moms 4.855,64 1.213,91 6.069,55 BC Catering Grossisten A/S Blækhatten 10 5220 Odense SØ Tlf. 63 15 88 55 CVR 10 83 70 49 www.bccatering.dk\n"
     ]
    }
   ],
   "source": [
    "import csv\n",
    "from pdfminer.high_level import extract_text\n",
    "\n",
    "pdf_file = \"/kaggle/working/inv-Tl91T-1630501455.pdf\"\n",
    "csv_file = \"/kaggle/working/output.csv\"\n",
    "\n",
    "# Extract text from pdf\n",
    "text = extract_text(pdf_file)\n",
    "# Generate tokens\n",
    "tokens = text.split()\n",
    "\n",
    "print(tokens)\n",
    "\n",
    "check =  ' '.join(tokens)\n",
    "print(check)"
   ]
  },
  {
   "cell_type": "code",
   "execution_count": 157,
   "metadata": {
    "_cell_guid": "a015c2e8-5d12-4b30-a0f4-f40a4954dba7",
    "_uuid": "f526f483-9a7e-47df-9cfe-a167dafe43da",
    "collapsed": false,
    "execution": {
     "iopub.execute_input": "2023-08-30T15:54:36.786320Z",
     "iopub.status.busy": "2023-08-30T15:54:36.785730Z",
     "iopub.status.idle": "2023-08-30T15:54:46.950694Z",
     "shell.execute_reply": "2023-08-30T15:54:46.949527Z",
     "shell.execute_reply.started": "2023-08-30T15:54:36.786256Z"
    },
    "jupyter": {
     "outputs_hidden": false
    }
   },
   "outputs": [
    {
     "name": "stdout",
     "output_type": "stream",
     "text": [
      "Collecting git+https://www.github.com/keras-team/keras-contrib.git\n",
      "  Cloning https://www.github.com/keras-team/keras-contrib.git to /tmp/pip-req-build-78lflzgz\n",
      "  Running command git clone -q https://www.github.com/keras-team/keras-contrib.git /tmp/pip-req-build-78lflzgz\n",
      "Requirement already satisfied (use --upgrade to upgrade): keras-contrib==2.0.8 from git+https://www.github.com/keras-team/keras-contrib.git in /opt/conda/lib/python3.6/site-packages\n",
      "Requirement already satisfied: keras in /opt/conda/lib/python3.6/site-packages (from keras-contrib==2.0.8) (2.3.1)\n",
      "Requirement already satisfied: scipy>=0.14 in /opt/conda/lib/python3.6/site-packages (from keras->keras-contrib==2.0.8) (1.3.3)\n",
      "Requirement already satisfied: numpy>=1.9.1 in /opt/conda/lib/python3.6/site-packages (from keras->keras-contrib==2.0.8) (1.17.4)\n",
      "Requirement already satisfied: h5py in /opt/conda/lib/python3.6/site-packages (from keras->keras-contrib==2.0.8) (2.9.0)\n",
      "Requirement already satisfied: keras-preprocessing>=1.0.5 in /opt/conda/lib/python3.6/site-packages (from keras->keras-contrib==2.0.8) (1.1.0)\n",
      "Requirement already satisfied: six>=1.9.0 in /opt/conda/lib/python3.6/site-packages (from keras->keras-contrib==2.0.8) (1.13.0)\n",
      "Requirement already satisfied: keras-applications>=1.0.6 in /opt/conda/lib/python3.6/site-packages (from keras->keras-contrib==2.0.8) (1.0.8)\n",
      "Requirement already satisfied: pyyaml in /opt/conda/lib/python3.6/site-packages (from keras->keras-contrib==2.0.8) (5.1.2)\n",
      "Building wheels for collected packages: keras-contrib\n",
      "  Building wheel for keras-contrib (setup.py) ... \u001b[?25ldone\n",
      "\u001b[?25h  Created wheel for keras-contrib: filename=keras_contrib-2.0.8-cp36-none-any.whl size=101065 sha256=efc9f570203e265a3714b6dacd397e6114f647d6d1ba8ea78e65b47f6cdc503a\n",
      "  Stored in directory: /tmp/pip-ephem-wheel-cache-9px3k7rp/wheels/11/27/c8/4ed56de7b55f4f61244e2dc6ef3cdbaff2692527a2ce6502ba\n",
      "Successfully built keras-contrib\n"
     ]
    }
   ],
   "source": [
    "!pip install git+https://www.github.com/keras-team/keras-contrib.git"
   ]
  },
  {
   "cell_type": "code",
   "execution_count": 158,
   "metadata": {
    "_cell_guid": "edc40e2d-4d88-48ac-8e07-919586405988",
    "_uuid": "624c5025-8d22-41bc-8b96-2bc4b7cf3f4d",
    "collapsed": false,
    "execution": {
     "iopub.execute_input": "2023-08-30T15:54:46.953955Z",
     "iopub.status.busy": "2023-08-30T15:54:46.953549Z",
     "iopub.status.idle": "2023-08-30T15:54:53.097001Z",
     "shell.execute_reply": "2023-08-30T15:54:53.095892Z",
     "shell.execute_reply.started": "2023-08-30T15:54:46.953866Z"
    },
    "jupyter": {
     "outputs_hidden": false
    }
   },
   "outputs": [
    {
     "name": "stderr",
     "output_type": "stream",
     "text": [
      "/opt/conda/lib/python3.6/site-packages/keras_contrib/layers/crf.py:346: UserWarning: CRF.loss_function is deprecated and it might be removed in the future. Please use losses.crf_loss instead.\n",
      "  warnings.warn('CRF.loss_function is deprecated '\n",
      "/opt/conda/lib/python3.6/site-packages/keras_contrib/layers/crf.py:353: UserWarning: CRF.accuracy is deprecated and it might be removed in the future. Please use metrics.crf_accuracy\n",
      "  warnings.warn('CRF.accuracy is deprecated and it '\n",
      "/opt/conda/lib/python3.6/site-packages/tensorflow_core/python/framework/indexed_slices.py:433: UserWarning: Converting sparse IndexedSlices to a dense Tensor of unknown shape. This may consume a large amount of memory.\n",
      "  \"Converting sparse IndexedSlices to a dense Tensor of unknown shape. \"\n"
     ]
    }
   ],
   "source": [
    "import numpy as np\n",
    "import csv\n",
    "import re\n",
    "import joblib\n",
    "\n",
    "from collections import OrderedDict\n",
    "from pdfminer.high_level import extract_text\n",
    "\n",
    "from keras.models import load_model\n",
    "from keras_contrib.layers import CRF\n",
    "from keras.preprocessing.sequence import pad_sequences\n",
    "\n",
    "\n",
    "max_len = 1000\n",
    "model_predict = load_model('/kaggle/working/model.h5', custom_objects={\"CRF\": CRF, 'crf_loss': crf_layer.loss_function, 'crf_viterbi_accuracy': crf_layer.accuracy})\n",
    "\n",
    "\n",
    "# Load the word2idx and tag2idx dictionaries\n",
    "with open('/kaggle/working/words.pkl', 'rb') as f:\n",
    "    words = joblib.load(f)\n",
    "    \n",
    "with open('/kaggle/working/tags.pkl', 'rb') as f:\n",
    "    tags = joblib.load(f)\n",
    "\n",
    "word2idx = {w: i + 1 for i, w in enumerate(words)}\n",
    "tag2idx = {t: i for i, t in enumerate(tags)}\n",
    "idx2tag = {i: w for w, i in tag2idx.items()}\n",
    "\n",
    "\n",
    "def test_sentence_sample(test_sentence):\n",
    "    results = []\n",
    "    x_test_sent = pad_sequences(sequences=[[word2idx.get(w, 0) for w in tokenize(test_sentence)]],padding=\"post\", value=0, maxlen=max_len)\n",
    "    p = model_predict.predict(np.array([x_test_sent[0]]))\n",
    "    p = np.argmax(p, axis=-1)\n",
    "    for w, pred in zip(tokenize(test_sentence), p[0]):\n",
    "        results.append([w, tags[pred]])\n",
    "    return results\n",
    "        \n",
    "    \n",
    "def tokenize(s): return s.split()\n",
    "\n",
    "\n",
    "\n",
    "pdf_file = \"/kaggle/working/inv-Tl91T-1630501455.pdf\"\n",
    "csv_file = \"output.csv\"\n",
    "\n",
    "# Extract text from pdf\n",
    "text = extract_text(pdf_file)\n",
    "# Generate tokens\n",
    "# tokens = text.split()\n",
    "\n",
    "# print(tokens)\n",
    "\n",
    "# check =  ' '.join(tokens)\n",
    "# print(check)\n",
    "\n",
    "results = test_sentence_sample(text)"
   ]
  },
  {
   "cell_type": "code",
   "execution_count": 159,
   "metadata": {
    "_cell_guid": "95f019d0-ffb3-46bb-aaa1-782e211d9046",
    "_uuid": "79e4d12e-aedf-4da7-8e38-019c2facffae",
    "collapsed": false,
    "execution": {
     "iopub.execute_input": "2023-08-30T15:54:53.108167Z",
     "iopub.status.busy": "2023-08-30T15:54:53.105379Z",
     "iopub.status.idle": "2023-08-30T15:54:53.114711Z",
     "shell.execute_reply": "2023-08-30T15:54:53.113762Z",
     "shell.execute_reply.started": "2023-08-30T15:54:53.108096Z"
    },
    "jupyter": {
     "outputs_hidden": false
    }
   },
   "outputs": [],
   "source": [
    "# results"
   ]
  },
  {
   "cell_type": "code",
   "execution_count": 160,
   "metadata": {
    "_cell_guid": "42746cfb-2351-41bf-8af6-262bdc77f4dd",
    "_uuid": "fb7021dd-719f-449f-8818-8f9b756f6190",
    "collapsed": false,
    "execution": {
     "iopub.execute_input": "2023-08-30T15:54:53.118526Z",
     "iopub.status.busy": "2023-08-30T15:54:53.116507Z",
     "iopub.status.idle": "2023-08-30T15:54:53.148286Z",
     "shell.execute_reply": "2023-08-30T15:54:53.146947Z",
     "shell.execute_reply.started": "2023-08-30T15:54:53.118461Z"
    },
    "jupyter": {
     "outputs_hidden": false
    }
   },
   "outputs": [],
   "source": [
    "def process_text_file(input_text, output_file_path):\n",
    "    # Split the input text into lines\n",
    "    lines = input_text.split('\\n')\n",
    "\n",
    "    # Create a CSV writer\n",
    "    with open(output_file_path, 'w', newline='') as output_file:\n",
    "        writer = csv.writer(output_file)\n",
    "\n",
    "        # Write the header row\n",
    "        writer.writerow([\"PRODUCT-NUMBER\", \"PRODUCT-VAT\", \"TOTAL-AMOUNT\", \"CVR\"])\n",
    "\n",
    "        # Initialize variables\n",
    "        product_number = ''\n",
    "        product_vat = ''\n",
    "        total_amount = ''\n",
    "        cvrs = []\n",
    "\n",
    "        # Loop through the lines in the input file\n",
    "        for line in lines:\n",
    "            # Strip any leading/trailing whitespace\n",
    "            line = line.strip()\n",
    "\n",
    "            # If the line contains one of the desired keys\n",
    "            if \"B-TOTAL-AMOUNT\" in line:\n",
    "                pattern = r'\"(.*?)\"'  # Pattern to match any characters inside double quotes\n",
    "                match = re.search(pattern, line)\n",
    "\n",
    "                if match:\n",
    "                    total_amount = match.group(1)\n",
    "\n",
    "            elif \"B-PRODUCT-VAT\" in line:\n",
    "                pattern = r'\"(.*?)\"'  # Pattern to match any characters inside double quotes\n",
    "                match = re.search(pattern, line)\n",
    "\n",
    "                if match:\n",
    "                    product_vat = match.group(1)\n",
    "\n",
    "            elif \"B-CVR\" in line or \"I-CVR\" in line:\n",
    "                # Split the line by commas\n",
    "                values = line.split(',')\n",
    "\n",
    "                # Get the second word of the line\n",
    "                second_word = values[1]\n",
    "                cvrs.append(second_word)\n",
    "\n",
    "            elif \"B-PRODUCT-NUMBER\" in line:\n",
    "                # Split the line by commas\n",
    "                values = line.split(',')\n",
    "\n",
    "                # Get the second word of the line\n",
    "                product_number = values[1]\n",
    "\n",
    "        # Write the values to the CSV file\n",
    "        cvrsu = list(OrderedDict.fromkeys(cvrs))\n",
    "        writer.writerow([product_number, product_vat, total_amount, ' '.join(cvrsu)])\n",
    "\n",
    "        # Return output as a dictionary\n",
    "        return {\"PRODUCT-NUMBER\": product_number, \"PRODUCT-VAT\": product_vat, \"TOTAL-AMOUNT\": total_amount, \"CVR\": cvrsu}"
   ]
  },
  {
   "cell_type": "code",
   "execution_count": 161,
   "metadata": {
    "_cell_guid": "c5d863a8-c630-4bf4-bb82-8c49f40cce24",
    "_uuid": "f7262e19-587f-4856-9013-068aeac0b626",
    "collapsed": false,
    "execution": {
     "iopub.execute_input": "2023-08-30T15:54:53.158059Z",
     "iopub.status.busy": "2023-08-30T15:54:53.154791Z",
     "iopub.status.idle": "2023-08-30T15:54:53.180548Z",
     "shell.execute_reply": "2023-08-30T15:54:53.179346Z",
     "shell.execute_reply.started": "2023-08-30T15:54:53.157989Z"
    },
    "jupyter": {
     "outputs_hidden": false
    }
   },
   "outputs": [],
   "source": [
    "def process_text_file(input_text, output_file_path):\n",
    "    # Split the input text into lines\n",
    "#     lines = input_text.split('\\n')\n",
    "\n",
    "    # Create a CSV writer\n",
    "    with open(output_file_path, 'w', newline='') as output_file:\n",
    "        writer = csv.writer(output_file)\n",
    "\n",
    "        # Write the header row\n",
    "        writer.writerow([\"PRODUCT-NUMBER\", \"PRODUCT-VAT\", \"TOTAL-AMOUNT\", \"CVR\"])\n",
    "\n",
    "        # Initialize variables\n",
    "        product_number = []\n",
    "        product_vat = []\n",
    "        total_amount = []\n",
    "        cvrs = []\n",
    "\n",
    "        # Loop through the lines in the input file\n",
    "        for line in input_text:\n",
    "            # Strip any leading/trailing whitespace\n",
    "\n",
    "            # If the line contains one of the desired keys\n",
    "            if \"B-TOTAL-AMOUNT\" in line[1]:\n",
    "                total_amount = line[0]\n",
    "\n",
    "            elif \"B-PRODUCT-VAT\" in line[1] or \"I-PRODUCT-VAT\" in line[1]:\n",
    "                product_vat.append(line[0])\n",
    "\n",
    "            elif \"B-CVR\" in line[1] or \"I-CVR\" in line[1]:\n",
    "                # Split the line by commas\n",
    "#                 values = line.split(',')\n",
    "                # Get the second word of the line\n",
    "#                 second_word = values[1]\n",
    "                cvrs.append(line[0])\n",
    "\n",
    "            elif \"B-PRODUCT-NUMBER\" in line[1] or \"I-PRODUCT-NUMBER\" in line[1]:\n",
    "                # Split the line by commas\n",
    "#                 values = line.split(',')\n",
    "\n",
    "                # Get the second word of the line\n",
    "                product_number.append(line[0])\n",
    "\n",
    "        # Write the values to the CSV file\n",
    "        cvrsu = list(OrderedDict.fromkeys(cvrs))\n",
    "        writer.writerow([product_number, product_vat, total_amount, ''.join(cvrsu)])\n",
    "\n",
    "        # Return output as a dictionary\n",
    "        return {\"PRODUCT-NUMBER\": product_number, \"PRODUCT-VAT\": product_vat, \"TOTAL-AMOUNT\": total_amount, \"CVR\": ''.join(cvrsu)}"
   ]
  },
  {
   "cell_type": "code",
   "execution_count": 162,
   "metadata": {
    "_cell_guid": "60a12795-313e-4ff9-b888-5dbc35df79be",
    "_uuid": "0e239e4d-4912-46f1-8d00-b065842a6fcf",
    "collapsed": false,
    "execution": {
     "iopub.execute_input": "2023-08-30T15:54:53.183409Z",
     "iopub.status.busy": "2023-08-30T15:54:53.182681Z",
     "iopub.status.idle": "2023-08-30T15:54:53.216488Z",
     "shell.execute_reply": "2023-08-30T15:54:53.215311Z",
     "shell.execute_reply.started": "2023-08-30T15:54:53.183323Z"
    },
    "jupyter": {
     "outputs_hidden": false
    }
   },
   "outputs": [
    {
     "data": {
      "text/plain": [
       "[['Totalleverandør', 'I-BESKRIVELSE'],\n",
       " ['af', 'O'],\n",
       " ['fødevarer', 'B-BESKRIVELSE'],\n",
       " ['og', 'I-BESKRIVELSE'],\n",
       " ['nonfood-artikler', 'B-BESKRIVELSE'],\n",
       " ['House', 'I-BESKRIVELSE'],\n",
       " ['of', 'I-BESKRIVELSE'],\n",
       " ['Shawarma', 'I-BESKRIVELSE'],\n",
       " ['Fantastic', 'O'],\n",
       " ['Food', 'O'],\n",
       " ['Aps', 'O'],\n",
       " ['Rosengårdcentret', 'O'],\n",
       " ['Ørbækvej', 'O'],\n",
       " ['75', 'O'],\n",
       " ['5220', 'O'],\n",
       " ['Odense', 'O'],\n",
       " ['SØ', 'O'],\n",
       " ['Kundenr.', 'O'],\n",
       " ['.', 'O'],\n",
       " ['.', 'O'],\n",
       " ['.', 'O'],\n",
       " ['.', 'O'],\n",
       " ['.', 'O'],\n",
       " ['.', 'O'],\n",
       " ['.', 'O'],\n",
       " ['.', 'O'],\n",
       " ['.', 'O'],\n",
       " ['79874', 'O'],\n",
       " ['Økologikontrolmyndighed:', 'O'],\n",
       " ['DK-ØKO-100', 'O'],\n",
       " ['Kopi', 'O'],\n",
       " ['*10-3162056*', 'O'],\n",
       " ['Faktura', 'O'],\n",
       " ['.', 'O'],\n",
       " ['.', 'O'],\n",
       " ['.', 'O'],\n",
       " ['.', 'O'],\n",
       " ['.', 'O'],\n",
       " ['.', 'O'],\n",
       " ['Bogføringsdato', 'O'],\n",
       " ['.', 'O'],\n",
       " ['.', 'O'],\n",
       " ['.', 'O'],\n",
       " ['.', 'O'],\n",
       " ['.', 'O'],\n",
       " ['.', 'O'],\n",
       " ['.', 'O'],\n",
       " ['.', 'O'],\n",
       " ['.', 'O'],\n",
       " ['.', 'O'],\n",
       " ['.', 'O'],\n",
       " ['Rute', 'O'],\n",
       " ['Sælger', 'O'],\n",
       " ['Betalingsbetingels', 'O'],\n",
       " ['.', 'O'],\n",
       " ['.', 'O'],\n",
       " ['.', 'O'],\n",
       " ['.', 'O'],\n",
       " ['.', 'O'],\n",
       " ['.', 'O'],\n",
       " ['Betales', 'O'],\n",
       " ['inden', 'O'],\n",
       " ['.', 'O'],\n",
       " ['.', 'O'],\n",
       " ['.', 'O'],\n",
       " ['.', 'O'],\n",
       " ['.', 'O'],\n",
       " ['.', 'O'],\n",
       " ['.', 'O'],\n",
       " ['.', 'O'],\n",
       " ['.', 'O'],\n",
       " ['.', 'O'],\n",
       " ['.', 'O'],\n",
       " ['Side', 'O'],\n",
       " ['10-3162056', 'O'],\n",
       " ['09-07-21', 'O'],\n",
       " ['55', 'O'],\n",
       " ['CGOPHA/CGOCLG', 'O'],\n",
       " ['30', 'O'],\n",
       " ['Dage', 'O'],\n",
       " ['Netto', 'O'],\n",
       " ['08-08-21', 'O'],\n",
       " ['1', 'O'],\n",
       " ['59007', 'O'],\n",
       " ['Nummer', 'O'],\n",
       " ['Beskrivelse', 'O'],\n",
       " ['Mærke', 'O'],\n",
       " ['Antal', 'O'],\n",
       " ['Enhed', 'O'],\n",
       " ['Salgspris', 'O'],\n",
       " ['Beløb', 'O'],\n",
       " ['206873', 'O'],\n",
       " ['Agurk', 'B-BESKRIVELSE'],\n",
       " ['m/Film', 'I-BESKRIVELSE'],\n",
       " ['(NL)', 'I-BESKRIVELSE'],\n",
       " ['206928', 'O'],\n",
       " ['Koriander', 'B-BESKRIVELSE'],\n",
       " ['i', 'I-BESKRIVELSE'],\n",
       " ['Bundt', 'I-BESKRIVELSE'],\n",
       " ['(KE)', 'O'],\n",
       " ['206863', 'O'],\n",
       " ['Løg', 'B-BESKRIVELSE'],\n",
       " ['i', 'I-BESKRIVELSE'],\n",
       " ['PS', 'O'],\n",
       " ['(DK)', 'O'],\n",
       " ['229956', 'O'],\n",
       " ['Persille', 'B-BESKRIVELSE'],\n",
       " ['Bredbladet', 'I-BESKRIVELSE'],\n",
       " ['i', 'I-BESKRIVELSE'],\n",
       " ['Bundt', 'I-BESKRIVELSE'],\n",
       " ['(IT)', 'O'],\n",
       " ['206826', 'O'],\n",
       " ['Salat', 'B-BESKRIVELSE'],\n",
       " ['Iceberg', 'I-BESKRIVELSE'],\n",
       " ['(NL)', 'I-BESKRIVELSE'],\n",
       " ['218441', 'O'],\n",
       " ['Tomat', 'B-BESKRIVELSE'],\n",
       " ['Udenlandsk', 'I-BESKRIVELSE'],\n",
       " ['57-67', 'I-BESKRIVELSE'],\n",
       " ['(NL)', 'O'],\n",
       " ['67418', 'O'],\n",
       " ['Yoghurt', 'B-BESKRIVELSE'],\n",
       " ['Græsk', 'I-BESKRIVELSE'],\n",
       " ['Inspireret', 'I-BESKRIVELSE'],\n",
       " ['10%', 'I-BESKRIVELSE'],\n",
       " ['3232', 'O'],\n",
       " ['Yoghurt', 'B-BESKRIVELSE'],\n",
       " ['Sødmælk', 'I-BESKRIVELSE'],\n",
       " ['Naturel', 'I-BESKRIVELSE'],\n",
       " ['3,5%', 'I-BESKRIVELSE'],\n",
       " ['2435', 'I-BESKRIVELSE'],\n",
       " ['Salatmayonnaise', 'B-BESKRIVELSE'],\n",
       " ['50%', 'I-BESKRIVELSE'],\n",
       " ['42893', 'I-BESKRIVELSE'],\n",
       " ['Salatmayonnaise', 'B-BESKRIVELSE'],\n",
       " ['Portion', 'I-BESKRIVELSE'],\n",
       " ['42891', 'I-BESKRIVELSE'],\n",
       " ['Tomatketchup', 'B-BESKRIVELSE'],\n",
       " ['Portionspakning', 'I-BESKRIVELSE'],\n",
       " ['72647', 'O'],\n",
       " ['Sødmælk', 'B-BESKRIVELSE'],\n",
       " ['UHT', 'I-BESKRIVELSE'],\n",
       " ['3,5%', 'I-BESKRIVELSE'],\n",
       " ['316302', 'O'],\n",
       " ['Fritureolie', 'B-BESKRIVELSE'],\n",
       " ['316304', 'I-BESKRIVELSE'],\n",
       " ['Rapsolie', 'B-BESKRIVELSE'],\n",
       " ['21390', 'I-BESKRIVELSE'],\n",
       " ['Eddike', 'B-BESKRIVELSE'],\n",
       " ['u/Konserveringsmid', 'I-BESKRIVELSE'],\n",
       " ['5%', 'I-BESKRIVELSE'],\n",
       " ['Kølevarer', 'O'],\n",
       " ['GRØNT', 'O'],\n",
       " ['KRYDDER', 'O'],\n",
       " ['HØJVANG', 'O'],\n",
       " ['KRYDDER', 'O'],\n",
       " ['GRØNT', 'O'],\n",
       " ['GRØNT', 'O'],\n",
       " ['SOL', 'I-BESKRIVELSE'],\n",
       " ['ARLA', 'O'],\n",
       " ['PRO', 'O'],\n",
       " ['KRAFT', 'O'],\n",
       " ['BÄHNCKE', 'O'],\n",
       " ['BÄHNCKE', 'O'],\n",
       " ['GOURMET', 'O'],\n",
       " ['DELTA', 'O'],\n",
       " ['DELTA', 'O'],\n",
       " ['LAGERBE', 'O'],\n",
       " ['Tørvarer', 'O'],\n",
       " ['Frostvarer', 'O'],\n",
       " ['3', 'O'],\n",
       " ['2', 'O'],\n",
       " ['2', 'O'],\n",
       " ['2', 'O'],\n",
       " ['8', 'O'],\n",
       " ['4', 'O'],\n",
       " ['1', 'O'],\n",
       " ['10', 'O'],\n",
       " ['1', 'O'],\n",
       " ['3', 'O'],\n",
       " ['3', 'O'],\n",
       " ['12', 'O'],\n",
       " ['6', 'O'],\n",
       " ['2', 'O'],\n",
       " ['4', 'O'],\n",
       " ['STK', 'O'],\n",
       " ['PS', 'O'],\n",
       " ['PS', 'O'],\n",
       " ['BT', 'O'],\n",
       " ['KRT', 'O'],\n",
       " ['KRT', 'O'],\n",
       " ['SP', 'O'],\n",
       " ['(5', 'O'],\n",
       " ['KG)', 'O'],\n",
       " ['SP', 'O'],\n",
       " ['(5', 'O'],\n",
       " ['LTR)', 'O'],\n",
       " ['SP', 'O'],\n",
       " ['(10', 'O'],\n",
       " ['KG)', 'O'],\n",
       " ['ÆSK', 'O'],\n",
       " ['(126x25', 'O'],\n",
       " ['G)', 'O'],\n",
       " ['ÆSK', 'O'],\n",
       " ['(126x25', 'O'],\n",
       " ['G)', 'O'],\n",
       " ['STK', 'O'],\n",
       " ['(1', 'O'],\n",
       " ['LTR)', 'O'],\n",
       " ['DK', 'O'],\n",
       " ['(10', 'O'],\n",
       " ['LTR)', 'O'],\n",
       " ['DK', 'O'],\n",
       " ['(10', 'O'],\n",
       " ['LTR)', 'O'],\n",
       " ['DK', 'O'],\n",
       " ['(10', 'O'],\n",
       " ['LTR)', 'O'],\n",
       " ['4,74', 'O'],\n",
       " ['11,96', 'O'],\n",
       " ['6,35', 'O'],\n",
       " ['10,31', 'O'],\n",
       " ['65,40', 'O'],\n",
       " ['67,62', 'O'],\n",
       " ['83,35', 'O'],\n",
       " ['60,45', 'O'],\n",
       " ['149,00', 'O'],\n",
       " ['125,50', 'O'],\n",
       " ['129,05', 'O'],\n",
       " ['7,75', 'O'],\n",
       " ['108,00', 'O'],\n",
       " ['108,00', 'O'],\n",
       " ['39,50', 'O'],\n",
       " ['14,22', 'O'],\n",
       " ['23,92', 'O'],\n",
       " ['12,70', 'O'],\n",
       " ['20,62', 'O'],\n",
       " ['523,20', 'O'],\n",
       " ['270,48', 'O'],\n",
       " ['83,35', 'O'],\n",
       " ['604,50', 'O'],\n",
       " ['149,00', 'O'],\n",
       " ['376,50', 'O'],\n",
       " ['387,15', 'O'],\n",
       " ['93,00', 'O'],\n",
       " ['648,00', 'O'],\n",
       " ['216,00', 'O'],\n",
       " ['158,00', 'O'],\n",
       " ['*', 'O'],\n",
       " ['*', 'O'],\n",
       " ['*', 'O'],\n",
       " ['*', 'O'],\n",
       " ['*', 'O'],\n",
       " ['*', 'O'],\n",
       " ['*', 'O'],\n",
       " ['*', 'O'],\n",
       " ['*', 'O'],\n",
       " ['*', 'O'],\n",
       " ['*', 'O'],\n",
       " ['*', 'O'],\n",
       " ['*', 'O'],\n",
       " ['*', 'O'],\n",
       " ['*', 'O'],\n",
       " ['*', 'O'],\n",
       " ['234734', 'O'],\n",
       " ['PommesFrites', 'B-BESKRIVELSE'],\n",
       " ['7x7', 'I-BESKRIVELSE'],\n",
       " ['mm', 'I-BESKRIVELSE'],\n",
       " ['FARMFRIT', 'O'],\n",
       " ['12', 'O'],\n",
       " ['KRT', 'O'],\n",
       " ['(5x2,5', 'O'],\n",
       " ['KG)', 'O'],\n",
       " ['106,25', 'O'],\n",
       " ['1.275,00', 'O'],\n",
       " ['Moms', 'O'],\n",
       " ['nr.', 'O'],\n",
       " ['.', 'O'],\n",
       " ['.', 'O'],\n",
       " ['.', 'O'],\n",
       " ['.', 'O'],\n",
       " ['.', 'O'],\n",
       " ['.', 'O'],\n",
       " ['.', 'O'],\n",
       " ['.', 'O'],\n",
       " ['.', 'O'],\n",
       " ['39902060', 'O'],\n",
       " ['+71<', 'O'],\n",
       " ['000010316205607', 'O'],\n",
       " ['+89136296<', 'O'],\n",
       " ['I', 'O'],\n",
       " ['alt', 'O'],\n",
       " ['DKK', 'O'],\n",
       " ['25%', 'O'],\n",
       " ['moms', 'O'],\n",
       " ['I', 'O'],\n",
       " ['alt', 'O'],\n",
       " ['DKK', 'O'],\n",
       " ['inkl.', 'O'],\n",
       " ['moms', 'O'],\n",
       " ['4.855,64', 'O'],\n",
       " ['1.213,91', 'O'],\n",
       " ['6.069,55', 'O'],\n",
       " ['BC', 'O'],\n",
       " ['Catering', 'O'],\n",
       " ['Grossisten', 'O'],\n",
       " ['A/S', 'O'],\n",
       " ['Blækhatten', 'O'],\n",
       " ['10', 'O'],\n",
       " ['5220', 'O'],\n",
       " ['Odense', 'O'],\n",
       " ['SØ', 'O'],\n",
       " ['Tlf.', 'O'],\n",
       " ['63', 'O'],\n",
       " ['15', 'O'],\n",
       " ['88', 'O'],\n",
       " ['55', 'O'],\n",
       " ['CVR', 'O'],\n",
       " ['10', 'O'],\n",
       " ['83', 'B-BESKRIVELSE'],\n",
       " ['70', 'I-BESKRIVELSE'],\n",
       " ['49', 'I-BESKRIVELSE'],\n",
       " ['www.bccatering.dk', 'I-BESKRIVELSE']]"
      ]
     },
     "execution_count": 162,
     "metadata": {},
     "output_type": "execute_result"
    }
   ],
   "source": [
    "results"
   ]
  },
  {
   "cell_type": "code",
   "execution_count": 163,
   "metadata": {
    "_cell_guid": "3aa1e5c4-6828-4cb6-90a6-6839519fbcc0",
    "_uuid": "cf71b403-0aa4-46c3-bf61-03b7c4e7dae1",
    "collapsed": false,
    "execution": {
     "iopub.execute_input": "2023-08-30T15:54:53.219131Z",
     "iopub.status.busy": "2023-08-30T15:54:53.218436Z",
     "iopub.status.idle": "2023-08-30T15:54:53.231268Z",
     "shell.execute_reply": "2023-08-30T15:54:53.229764Z",
     "shell.execute_reply.started": "2023-08-30T15:54:53.218884Z"
    },
    "jupyter": {
     "outputs_hidden": false
    }
   },
   "outputs": [
    {
     "data": {
      "text/plain": [
       "{'PRODUCT-NUMBER': [], 'PRODUCT-VAT': [], 'TOTAL-AMOUNT': [], 'CVR': ''}"
      ]
     },
     "execution_count": 163,
     "metadata": {},
     "output_type": "execute_result"
    }
   ],
   "source": [
    "process_text_file(results, 'input.csv')"
   ]
  },
  {
   "cell_type": "code",
   "execution_count": 164,
   "metadata": {
    "_cell_guid": "b125135d-eb1b-4694-96d7-b19de560a2d7",
    "_uuid": "f9576e05-d3a5-4cec-8e4e-e35ff6c8ddff",
    "collapsed": false,
    "execution": {
     "iopub.execute_input": "2023-08-30T15:54:53.233897Z",
     "iopub.status.busy": "2023-08-30T15:54:53.233297Z",
     "iopub.status.idle": "2023-08-30T15:54:53.242592Z",
     "shell.execute_reply": "2023-08-30T15:54:53.241645Z",
     "shell.execute_reply.started": "2023-08-30T15:54:53.233618Z"
    },
    "jupyter": {
     "outputs_hidden": false
    }
   },
   "outputs": [],
   "source": [
    "# !cd /kaggle/working"
   ]
  },
  {
   "cell_type": "code",
   "execution_count": 165,
   "metadata": {
    "_cell_guid": "894a82b7-0528-437f-9ec2-15f14df13fc7",
    "_uuid": "8f820811-53d8-4db9-9366-1bd8cb815c8d",
    "collapsed": false,
    "execution": {
     "iopub.execute_input": "2023-08-30T15:54:53.244691Z",
     "iopub.status.busy": "2023-08-30T15:54:53.244357Z",
     "iopub.status.idle": "2023-08-30T15:54:53.255236Z",
     "shell.execute_reply": "2023-08-30T15:54:53.254348Z",
     "shell.execute_reply.started": "2023-08-30T15:54:53.244635Z"
    },
    "jupyter": {
     "outputs_hidden": false
    }
   },
   "outputs": [],
   "source": [
    "# !cd .."
   ]
  },
  {
   "cell_type": "code",
   "execution_count": 166,
   "metadata": {
    "_cell_guid": "7bd50cbe-1a35-4a9a-bd2c-cffbd874fdda",
    "_uuid": "c0713f69-e6c3-487a-99db-7c74cbd68824",
    "collapsed": false,
    "execution": {
     "iopub.execute_input": "2023-08-30T15:54:53.257952Z",
     "iopub.status.busy": "2023-08-30T15:54:53.257285Z",
     "iopub.status.idle": "2023-08-30T15:54:53.266601Z",
     "shell.execute_reply": "2023-08-30T15:54:53.265594Z",
     "shell.execute_reply.started": "2023-08-30T15:54:53.257758Z"
    },
    "jupyter": {
     "outputs_hidden": false
    }
   },
   "outputs": [],
   "source": [
    "# from IPython.display import FileLink\n",
    "# FileLink(r'model.h5')"
   ]
  },
  {
   "cell_type": "markdown",
   "metadata": {
    "_cell_guid": "8333e560-a958-4c49-8db5-a3c2255a47d9",
    "_uuid": "67d0cc10-5e62-4687-bfeb-8a6424efc712"
   },
   "source": []
  },
  {
   "cell_type": "code",
   "execution_count": null,
   "metadata": {
    "_cell_guid": "8cc0b529-36b5-4411-ab60-53d992d6c7b2",
    "_uuid": "404f213a-a418-47d2-9a1e-4da11e41e5fa",
    "collapsed": false,
    "jupyter": {
     "outputs_hidden": false
    }
   },
   "outputs": [],
   "source": []
  },
  {
   "cell_type": "code",
   "execution_count": null,
   "metadata": {
    "_cell_guid": "4e84ec78-3929-4b5b-b613-44c63e2544d0",
    "_uuid": "cfcc81c5-1a79-4c6e-a9c9-ba8a485d36aa",
    "collapsed": false,
    "jupyter": {
     "outputs_hidden": false
    }
   },
   "outputs": [],
   "source": []
  },
  {
   "cell_type": "code",
   "execution_count": null,
   "metadata": {
    "_cell_guid": "ac3b047a-7d25-4bc2-82a5-efd5458ef242",
    "_uuid": "b1a024f4-383d-4a2c-bec5-8ea0698443b1",
    "collapsed": false,
    "jupyter": {
     "outputs_hidden": false
    }
   },
   "outputs": [],
   "source": []
  },
  {
   "cell_type": "code",
   "execution_count": null,
   "metadata": {
    "_cell_guid": "05b507a0-46de-425f-bb61-d0156d590d83",
    "_uuid": "20bd4e97-58b0-4d84-87bc-969ffda41012",
    "collapsed": false,
    "jupyter": {
     "outputs_hidden": false
    }
   },
   "outputs": [],
   "source": []
  },
  {
   "cell_type": "code",
   "execution_count": null,
   "metadata": {
    "_cell_guid": "e84e0691-6229-4c91-9556-89d297352acf",
    "_uuid": "04f5eef3-0689-4b41-a2ed-9ced0726b44e",
    "collapsed": false,
    "jupyter": {
     "outputs_hidden": false
    }
   },
   "outputs": [],
   "source": []
  },
  {
   "cell_type": "code",
   "execution_count": 167,
   "metadata": {
    "_cell_guid": "c6f01b3d-b08a-48fd-ac0f-1cc4d72bcc8c",
    "_uuid": "1d89d09b-0979-4f96-91c6-69d050949355",
    "collapsed": false,
    "execution": {
     "iopub.execute_input": "2023-08-30T15:54:53.268956Z",
     "iopub.status.busy": "2023-08-30T15:54:53.268302Z",
     "iopub.status.idle": "2023-08-30T15:54:53.282348Z",
     "shell.execute_reply": "2023-08-30T15:54:53.280432Z",
     "shell.execute_reply.started": "2023-08-30T15:54:53.268750Z"
    },
    "jupyter": {
     "outputs_hidden": false
    }
   },
   "outputs": [
    {
     "ename": "SyntaxError",
     "evalue": "invalid syntax (<ipython-input-167-0b024bbfe84e>, line 1)",
     "output_type": "error",
     "traceback": [
      "\u001b[0;36m  File \u001b[0;32m\"<ipython-input-167-0b024bbfe84e>\"\u001b[0;36m, line \u001b[0;32m1\u001b[0m\n\u001b[0;31m    +\u001b[0m\n\u001b[0m     ^\u001b[0m\n\u001b[0;31mSyntaxError\u001b[0m\u001b[0;31m:\u001b[0m invalid syntax\n"
     ]
    }
   ],
   "source": [
    "+"
   ]
  },
  {
   "cell_type": "code",
   "execution_count": null,
   "metadata": {
    "_cell_guid": "98296998-3b7f-4c2c-8a70-ef0d4243113c",
    "_uuid": "873e8860-ded7-4f06-bd65-226a256f11ac",
    "collapsed": false,
    "jupyter": {
     "outputs_hidden": false
    }
   },
   "outputs": [],
   "source": []
  },
  {
   "cell_type": "code",
   "execution_count": null,
   "metadata": {
    "_cell_guid": "f0b9c943-396e-4538-b77f-c76b0874ac43",
    "_uuid": "e6836c74-5541-48ca-a650-144320de1f3d",
    "collapsed": false,
    "jupyter": {
     "outputs_hidden": false
    }
   },
   "outputs": [],
   "source": []
  },
  {
   "cell_type": "code",
   "execution_count": null,
   "metadata": {
    "_cell_guid": "8eb93788-4f3b-427a-b34c-2c4b55385a23",
    "_uuid": "67700569-259d-46ba-b432-717cfd2e2e5c",
    "collapsed": false,
    "jupyter": {
     "outputs_hidden": false
    }
   },
   "outputs": [],
   "source": []
  },
  {
   "cell_type": "code",
   "execution_count": null,
   "metadata": {
    "_cell_guid": "bb612f40-64e1-4423-b511-f6e307a6391e",
    "_uuid": "308355b8-73ba-4584-893b-05ed252d4331",
    "collapsed": false,
    "jupyter": {
     "outputs_hidden": false
    }
   },
   "outputs": [],
   "source": []
  },
  {
   "cell_type": "code",
   "execution_count": null,
   "metadata": {
    "_cell_guid": "41145970-e6a3-4067-bd2e-3c34c0717e4b",
    "_uuid": "8d5b4ba1-17e1-44e4-8837-e103a1bdf88d",
    "collapsed": false,
    "jupyter": {
     "outputs_hidden": false
    }
   },
   "outputs": [],
   "source": []
  },
  {
   "cell_type": "code",
   "execution_count": null,
   "metadata": {
    "_cell_guid": "30b0e720-e33a-46c3-8673-756c78da3b16",
    "_uuid": "b890bab3-c619-4ce2-a495-d18ca257313b",
    "collapsed": false,
    "jupyter": {
     "outputs_hidden": false
    }
   },
   "outputs": [],
   "source": []
  },
  {
   "cell_type": "code",
   "execution_count": null,
   "metadata": {
    "_cell_guid": "a5a0f344-7441-47b8-8531-825751a48236",
    "_uuid": "ccadb323-ae3f-4523-b79e-9a75bc0b2ba3",
    "collapsed": false,
    "jupyter": {
     "outputs_hidden": false
    }
   },
   "outputs": [],
   "source": []
  },
  {
   "cell_type": "code",
   "execution_count": null,
   "metadata": {
    "_cell_guid": "c89ff5cf-c084-4c21-a588-e7f0e7097747",
    "_uuid": "f43e7ccc-b183-43e8-8def-0dc265addd5f",
    "collapsed": false,
    "jupyter": {
     "outputs_hidden": false
    }
   },
   "outputs": [],
   "source": []
  },
  {
   "cell_type": "code",
   "execution_count": null,
   "metadata": {
    "_cell_guid": "9a3cdd31-897a-4f3a-b75a-c3d12f0f6847",
    "_uuid": "7b015bac-be16-4ef2-9bb0-fcc0a7af8876",
    "collapsed": false,
    "jupyter": {
     "outputs_hidden": false
    }
   },
   "outputs": [],
   "source": []
  },
  {
   "cell_type": "code",
   "execution_count": null,
   "metadata": {
    "_cell_guid": "ad982a45-717f-44f4-b1a8-a3087c9896ee",
    "_uuid": "1edd5359-a68d-48f9-8a9b-1b2e4c061328",
    "collapsed": false,
    "jupyter": {
     "outputs_hidden": false
    }
   },
   "outputs": [],
   "source": []
  },
  {
   "cell_type": "code",
   "execution_count": null,
   "metadata": {
    "_cell_guid": "f8882d7f-0304-4828-91b3-056cf354dfd7",
    "_uuid": "fdf781a6-eee1-4209-82ae-7ed9decda3d9",
    "collapsed": false,
    "jupyter": {
     "outputs_hidden": false
    }
   },
   "outputs": [],
   "source": []
  },
  {
   "cell_type": "code",
   "execution_count": null,
   "metadata": {
    "_cell_guid": "d20c4a8a-9297-4351-9d1a-ed54d4d2a4f4",
    "_uuid": "06627459-fec6-4577-b857-157323b3367e",
    "collapsed": false,
    "jupyter": {
     "outputs_hidden": false
    }
   },
   "outputs": [],
   "source": []
  },
  {
   "cell_type": "code",
   "execution_count": null,
   "metadata": {
    "_cell_guid": "df9dc7c8-e0f1-4154-9741-2e79a3b27218",
    "_uuid": "6bd4e038-f0ec-45d7-93f4-5f75b4cc4bfb",
    "collapsed": false,
    "jupyter": {
     "outputs_hidden": false
    }
   },
   "outputs": [],
   "source": []
  },
  {
   "cell_type": "code",
   "execution_count": null,
   "metadata": {
    "_cell_guid": "12779b5d-8bfd-4839-ae0d-86babdacc45e",
    "_uuid": "f9d8b0ca-0240-4a26-ae0f-4cec32b2ea4a",
    "collapsed": false,
    "jupyter": {
     "outputs_hidden": false
    }
   },
   "outputs": [],
   "source": []
  },
  {
   "cell_type": "code",
   "execution_count": null,
   "metadata": {
    "_cell_guid": "3ba6148a-2495-44f2-a111-2277858f5aff",
    "_uuid": "be499f4f-f321-4bf5-8eef-ee1e270126ee",
    "collapsed": false,
    "jupyter": {
     "outputs_hidden": false
    }
   },
   "outputs": [],
   "source": []
  },
  {
   "cell_type": "code",
   "execution_count": null,
   "metadata": {
    "_cell_guid": "f35fbf26-3ddc-4138-b5a2-c79f337e93a0",
    "_uuid": "7e7c4e5e-8669-4b40-aa16-1e6b673da22e",
    "collapsed": false,
    "jupyter": {
     "outputs_hidden": false
    }
   },
   "outputs": [],
   "source": []
  }
 ],
 "metadata": {
  "kernelspec": {
   "display_name": "Python 3 (ipykernel)",
   "language": "python",
   "name": "python3"
  },
  "language_info": {
   "codemirror_mode": {
    "name": "ipython",
    "version": 3
   },
   "file_extension": ".py",
   "mimetype": "text/x-python",
   "name": "python",
   "nbconvert_exporter": "python",
   "pygments_lexer": "ipython3",
   "version": "3.12.4"
  }
 },
 "nbformat": 4,
 "nbformat_minor": 4
}
